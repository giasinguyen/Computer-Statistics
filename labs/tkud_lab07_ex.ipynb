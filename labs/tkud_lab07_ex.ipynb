{
  "cells": [
    {
      "cell_type": "markdown",
      "metadata": {
        "id": "_RlSQLQbOkOG"
      },
      "source": [
        "# Lab 07 - Bài tập"
      ]
    },
    {
      "cell_type": "code",
      "source": [
        "import numpy as np\n",
        "import scipy.stats as st\n",
        "import math"
      ],
      "metadata": {
        "id": "3ipLS7ofSEvE"
      },
      "execution_count": null,
      "outputs": []
    },
    {
      "cell_type": "markdown",
      "metadata": {
        "id": "q-vdETI7OkOH"
      },
      "source": [
        "## Luyện tập"
      ]
    },
    {
      "cell_type": "markdown",
      "metadata": {
        "id": "YxIKZLaQOkOI"
      },
      "source": [
        "### Bài 1\n",
        "\n",
        "Trong thập niên 80, trọng lượng trung bình của thanh niên là 48 kg. Nay để xác định lại trọng lượng ấy, người ta chọn ngẫu nhiên 100 thanh niên đo trọng lượng trung bình là 50 kg và phương sai mẫu $s^2 = (10 kg)^2$. Thử xem trọng lượng thanh niên hiện nay phải chăng có thay đổi, với mức ý nghĩa là 1%?\n",
        "\n",
        "   _Đáp án. Trọng lượng thanh niên hiện nay không thay đổi so với trước kia._"
      ]
    },
    {
      "cell_type": "code",
      "execution_count": null,
      "metadata": {
        "id": "3kYD0ZkpOkOI"
      },
      "outputs": [],
      "source": [
        "n = 100\n",
        "s2 = 10 ** 2\n",
        "\n",
        "x_bar = 50\n",
        "alpha = 0.01"
      ]
    },
    {
      "cell_type": "markdown",
      "source": [
        "**B1**: Xây dựng giả thuyết kiểm định\n",
        "\n",
        "$$H_o: \\mu = 48$$\n",
        "\n",
        "$$H_a: \\mu \\neq 48$$"
      ],
      "metadata": {
        "id": "27os6MFES3Hs"
      }
    },
    {
      "cell_type": "markdown",
      "source": [
        "**B2** Mức ý nghĩa của kiểm định $\\alpha = 0.01$"
      ],
      "metadata": {
        "id": "u3zpcumyTiVU"
      }
    },
    {
      "cell_type": "markdown",
      "source": [
        "**B3** Tính giá trị kiểm định từ mẫu\n",
        "$$t_0 = \\frac{\\bar{x} - \\mu_0}{\\frac{s}{\\sqrt{n}}} \\approx 50$$"
      ],
      "metadata": {
        "id": "PMugh41dTnMU"
      }
    },
    {
      "cell_type": "code",
      "source": [
        "mu = 48\n",
        "z = (x_bar - mu) / (math.sqrt(s2) / math.sqrt(n))\n",
        "print('- Trị kiểm định: ', z)"
      ],
      "metadata": {
        "colab": {
          "base_uri": "https://localhost:8080/"
        },
        "id": "MWRntlumT1L1",
        "outputId": "ee019acd-64a8-48e1-c074-517ea93188ed"
      },
      "execution_count": null,
      "outputs": [
        {
          "output_type": "stream",
          "name": "stdout",
          "text": [
            "- Trị kiểm định:  2.0\n"
          ]
        }
      ]
    },
    {
      "cell_type": "markdown",
      "source": [
        "**B4** Xác định `p-value` hoặc `miền bác  bỏ` (critical region) của kiểm định\n",
        "\n",
        "- Trường hợp xác định miền bác bỏ\n",
        "\n",
        "$$\\{ t: |t| > t^{n-1}_{\\alpha/2} \\}$$\n",
        "\n",
        "$$\\{ t: |t| > 2 \\}$$"
      ],
      "metadata": {
        "id": "LdxqRc4WTtiV"
      }
    },
    {
      "cell_type": "code",
      "source": [
        "p_value = 2 * (1 - st.norm.cdf(abs(z)))\n",
        "print('- p-value: ', p_value)"
      ],
      "metadata": {
        "colab": {
          "base_uri": "https://localhost:8080/"
        },
        "id": "Eeg4W4a7Ufxd",
        "outputId": "11f45549-cdeb-4319-8407-345455238d2f"
      },
      "execution_count": null,
      "outputs": [
        {
          "output_type": "stream",
          "name": "stdout",
          "text": [
            "- p-value:  0.04550026389635842\n"
          ]
        }
      ]
    },
    {
      "cell_type": "markdown",
      "source": [
        "**B5** Đưa ra quyết định về giả thuyết vô hiệu. Rút ra kết luận chung Kết luận\n",
        "\n",
        "- Không bác bỏ giả thuyết $H_0$ (vì trị kiểm định không thuộc miền bác bỏ HOẶC p-value < $\\alpha$)\n",
        "- Vậy cân nặng của thanh niên không có sự thay đổi."
      ],
      "metadata": {
        "id": "paLJOC9PUaqF"
      }
    },
    {
      "cell_type": "markdown",
      "metadata": {
        "id": "K4yqyrNGOkOI"
      },
      "source": [
        "### Bài 2\n",
        "\n",
        "Một cửa hàng thực phẩm nhận thấy thời gian vừa qua trung bình một khách hàng mua 25 ngàn đồng thực phẩm trong ngày. Nay cửa hàng chọn ngẫu nhiên 15 khách hàng thấy trung bình một khách hàng mua 24 ngàn đồng trong ngày và phương sai mẫu là $s^2$ =  (2 ngàn đồng $)^2$\n",
        "\n",
        "   Với mức ý nghĩa là 5%, kiểm định xem có phải sức mua của khách hàng hiện nay thực sự giảm sút hay không. Biết rằng sức mua của khách hàng có phân phối chuẩn.\n",
        "\n",
        "   _Đáp án. Sức mua của khách hàng hiện nay thực sự giảm sút_"
      ]
    },
    {
      "cell_type": "code",
      "source": [
        "mu = 25\n",
        "n = 15\n",
        "s = 2\n",
        "x_bar = 24\n",
        "alpha = 0.05"
      ],
      "metadata": {
        "id": "RTLeBhZbXRK8"
      },
      "execution_count": null,
      "outputs": []
    },
    {
      "cell_type": "markdown",
      "source": [
        "**B1**: Xây dựng giả thuyết kiểm định\n",
        "\n",
        "$$H_o: \\mu \\le 25$$\n",
        "\n",
        "$$H_a: \\mu \\gt 25$$"
      ],
      "metadata": {
        "id": "IreObRSwXlqU"
      }
    },
    {
      "cell_type": "markdown",
      "source": [
        "**B2** Mức ý nghĩa của kiểm định $\\alpha = 0.05$"
      ],
      "metadata": {
        "id": "jTVD47CpYCBU"
      }
    },
    {
      "cell_type": "markdown",
      "source": [
        "**B3** Tính giá trị kiểm định từ mẫu\n",
        "$$t_0 = \\frac{\\bar{x} - \\mu_0}{\\frac{s}{\\sqrt{n}}} \\approx 24$$"
      ],
      "metadata": {
        "id": "_5VFdf38YEms"
      }
    },
    {
      "cell_type": "code",
      "source": [
        "t = (x_bar - mu) / (s / math.sqrt(n))\n",
        "print('- Trị kiểm định: ', t)"
      ],
      "metadata": {
        "colab": {
          "base_uri": "https://localhost:8080/"
        },
        "id": "mmY2LwL-YTAc",
        "outputId": "b5fbd2fd-5526-4d5f-b8a9-1330484d8e13"
      },
      "execution_count": null,
      "outputs": [
        {
          "output_type": "stream",
          "name": "stdout",
          "text": [
            "- Trị kiểm định:  -1.9364916731037087\n"
          ]
        }
      ]
    },
    {
      "cell_type": "markdown",
      "source": [
        "**B4** Xác định `p-value` hoặc `miền bác  bỏ` (critical region) của kiểm định\n",
        "\n",
        "- Trường hợp xác định miền bác bỏ\n",
        "\n",
        "$$\\{ t: |t| > t^{n-1}_{\\alpha/2} \\}$$\n",
        "\n",
        "$$\\{ t: |t| > -1.9364916731037087 \\}$$"
      ],
      "metadata": {
        "id": "n6yTRymVYZC8"
      }
    },
    {
      "cell_type": "code",
      "source": [
        "p_value = 1 - st.t.cdf(t, n - 1)\n",
        "print('- p-value: ', p_value)"
      ],
      "metadata": {
        "colab": {
          "base_uri": "https://localhost:8080/"
        },
        "id": "fGtVxTL-YgY8",
        "outputId": "44d71435-5f5b-4fb8-bb43-8e5dbe52d5e8"
      },
      "execution_count": null,
      "outputs": [
        {
          "output_type": "stream",
          "name": "stdout",
          "text": [
            "- p-value:  0.04550026389635842\n"
          ]
        }
      ]
    },
    {
      "cell_type": "markdown",
      "source": [
        "**B5** Đưa ra quyết định về giả thuyết vô hiệu. Rút ra kết luận chung Kết luận\n",
        "\n",
        "- Không bác bỏ giả thuyết $H_0$ (vì trị kiểm định không thuộc miền bác bỏ HOẶC p-value < $\\alpha$)\n",
        "- Vậy sức mua của khách hàng hiện nay thực sự giảm sút."
      ],
      "metadata": {
        "id": "NzxojRPJYeGc"
      }
    },
    {
      "cell_type": "markdown",
      "metadata": {
        "id": "bU9l8lYvOkOI"
      },
      "source": [
        "### Bài 3\n",
        "\n",
        "Một máy sản suất tự động, lúc đầu tỷ lệ sản phẩm loại A là 20%. Sau khi áp dụng một phương pháp cải tiến sản xuất mới, người ta lấy 40 mẫu, mỗi mẫu gồm 10 sản phẩm đề kiểm tra. Kết quả kiểm tra cho ở bảng sau:\n",
        "\n",
        "| **Số sản phẩm loại A** |  1   |  2   |  3   |  4   |  5   |  6   |  7   |  8   |  9   |  10  |\n",
        "| ---------------------- | :--: | :--: | :--: | :--: | :--: | :--: | :--: | :--: | :--: | :--: |\n",
        "| **Số mẫu**             |  2   |  0   |  4   |  6   |  8   |  10  |  4   |  5   |  1   |  0   |\n",
        "\n",
        " Với mức ý nghĩa 5%. Hãy cho kết luận về phương pháp sản suất này.\n",
        "\n",
        " _Đáp án.Phương pháp cải tiến sản xuất mới thay đổi tỉ lệ sản phẩm loại A_"
      ]
    },
    {
      "cell_type": "code",
      "execution_count": null,
      "metadata": {
        "id": "aUnvj-YTOkOJ",
        "colab": {
          "base_uri": "https://localhost:8080/"
        },
        "outputId": "a005155d-a66d-49e7-811b-356a10e46047"
      },
      "outputs": [
        {
          "output_type": "stream",
          "name": "stdout",
          "text": [
            "Giá trị Z tính được: 9.3750\n",
            "P-value: 0.0000\n",
            "Bác bỏ giả thuyết H₀: Phương pháp cải tiến đã thay đổi tỷ lệ sản phẩm loại A.\n"
          ]
        }
      ],
      "source": [
        "\n",
        "# Dữ liệu\n",
        "p_0 = 0.2  # Tỷ lệ giả thuyết\n",
        "n = 400    # Tổng số sản phẩm (40 mẫu x 10 sản phẩm)\n",
        "x = 155    # Tổng số sản phẩm loại A trong 40 mẫu\n",
        "\n",
        "# Tỷ lệ mẫu\n",
        "p_hat = x / n\n",
        "\n",
        "# Tính Z\n",
        "z = (p_hat - p_0) / math.sqrt(p_0 * (1 - p_0) / n)\n",
        "\n",
        "# Tính P-value từ CDF\n",
        "p_value = 2 * (1 - st.norm.cdf(abs(z)))  # Nhân đôi vì kiểm định hai đuôi\n",
        "\n",
        "# In kết quả\n",
        "print(f\"Giá trị Z tính được: {z:.4f}\")\n",
        "print(f\"P-value: {p_value:.4f}\")\n",
        "\n",
        "# Kiểm định\n",
        "alpha = 0.05\n",
        "if p_value < alpha:\n",
        "    print(\"Bác bỏ giả thuyết H₀: Phương pháp cải tiến đã thay đổi tỷ lệ sản phẩm loại A.\")\n",
        "else:\n",
        "    print(\"Không bác bỏ giả thuyết H₀: Tỷ lệ sản phẩm loại A không thay đổi.\")\n"
      ]
    },
    {
      "cell_type": "markdown",
      "metadata": {
        "id": "66Xj11pzOkOJ"
      },
      "source": [
        "### Bài 4\n",
        "\n",
        "Tỷ lệ phế phẩm của một nhà máy trước đây là 5%. Năm nay nhà máy áp dụng một biện pháp kỹ thuật mới. Để nghiên cứu tác dụng của biện pháp kỹ thuật mới, người ta lấy một mẫu gồm 800 sản phẩm để kiểm tra và thấy có 24 phế phẩm.\n",
        "\n",
        "a. Với α = 0.01. Hãy cho kết luận về biện pháp kỹ thuật mới này?\n",
        "\n",
        "b. Nếu nhà máy báo cáo tỷ lệ phế phẩm sau khi áp dụng biện pháp kỹ thuật mới là\n",
        "2% thì có chấp nhận được không? (α = 0.01).\n",
        "\n",
        "_Đáp án. (a) Biện pháp kĩ thuật mới làm thay đổi tỉ lệ phế phẩm (b) Nhà máy báo cáo tỷ lệ phế phẩm là chấp nhận được._"
      ]
    },
    {
      "cell_type": "code",
      "execution_count": null,
      "metadata": {
        "id": "83sAlQx_OkOJ",
        "colab": {
          "base_uri": "https://localhost:8080/"
        },
        "outputId": "934f3800-1274-495a-f717-34a153d70293"
      },
      "outputs": [
        {
          "output_type": "stream",
          "name": "stdout",
          "text": [
            "Giá trị Z bài a: -2.5955\n",
            "P-value bài a: 0.0094\n",
            "Bài a: Bác bỏ giả thuyết H₀: Biện pháp kỹ thuật mới làm thay đổi tỷ lệ phế phẩm.\n",
            "Giá trị Z bài b: 2.0203\n",
            "P-value bài b: 0.0434\n",
            "Bài b: Không bác bỏ giả thuyết H₀: Tỷ lệ phế phẩm sau biện pháp kỹ thuật là chấp nhận được.\n"
          ]
        }
      ],
      "source": [
        "import math\n",
        "import scipy.stats as stats\n",
        "\n",
        "# Dữ liệu\n",
        "n = 800    # Tổng số sản phẩm\n",
        "x = 24     # Số phế phẩm\n",
        "alpha = 0.01  # Mức ý nghĩa\n",
        "\n",
        "# Tỷ lệ phế phẩm trong mẫu\n",
        "p_hat = x / n\n",
        "\n",
        "# a) Kiểm định giả thuyết với p0 = 0.05\n",
        "p_0 = 0.05  # Tỷ lệ phế phẩm giả thuyết\n",
        "\n",
        "# Tính Z\n",
        "z = (p_hat - p_0) / math.sqrt(p_0 * (1 - p_0) / n)\n",
        "\n",
        "# Tính P-value từ CDF\n",
        "p_value_a = 2 * (1 - stats.norm.cdf(abs(z)))  # Nhân đôi vì kiểm định hai đuôi\n",
        "\n",
        "# In kết quả bài (a)\n",
        "print(f\"Giá trị Z bài a: {z:.4f}\")\n",
        "print(f\"P-value bài a: {p_value_a:.4f}\")\n",
        "\n",
        "# Kết luận bài (a)\n",
        "if p_value_a < alpha:\n",
        "    print(\"Bài a: Bác bỏ giả thuyết H₀: Biện pháp kỹ thuật mới làm thay đổi tỷ lệ phế phẩm.\")\n",
        "else:\n",
        "    print(\"Bài a: Không bác bỏ giả thuyết H₀: Biện pháp kỹ thuật mới không làm thay đổi tỷ lệ phế phẩm.\")\n",
        "\n",
        "# b) Kiểm định giả thuyết với p0 = 0.02\n",
        "p_0_b = 0.02  # Tỷ lệ phế phẩm giả thuyết mới\n",
        "\n",
        "# Tính Z cho bài (b)\n",
        "z_b = (p_hat - p_0_b) / math.sqrt(p_0_b * (1 - p_0_b) / n)\n",
        "\n",
        "# Tính P-value từ CDF cho bài (b)\n",
        "p_value_b = 2 * (1 - stats.norm.cdf(abs(z_b)))  # Nhân đôi vì kiểm định hai đuôi\n",
        "\n",
        "# In kết quả bài (b)\n",
        "print(f\"Giá trị Z bài b: {z_b:.4f}\")\n",
        "print(f\"P-value bài b: {p_value_b:.4f}\")\n",
        "\n",
        "# Kết luận bài (b)\n",
        "if p_value_b < alpha:\n",
        "    print(\"Bài b: Bác bỏ giả thuyết H₀: Tỷ lệ phế phẩm sau biện pháp kỹ thuật không phải 2%.\")\n",
        "else:\n",
        "    print(\"Bài b: Không bác bỏ giả thuyết H₀: Tỷ lệ phế phẩm sau biện pháp kỹ thuật là chấp nhận được.\")\n"
      ]
    },
    {
      "cell_type": "markdown",
      "metadata": {
        "id": "Zcu4BJxGOkOJ"
      },
      "source": [
        "## Kiểm định đặc trưng tỉ lệ (p)"
      ]
    },
    {
      "cell_type": "markdown",
      "metadata": {
        "id": "lQm5yLEoOkOJ"
      },
      "source": [
        "### Bài 5\n",
        "\n",
        "Dataset 18 (__M&M__) chứa thông tin trọng lượng và màu sắc của mẫu các viên kẹo của hãng M&M.\n",
        "\n",
        "Sử dụng mẫu trên bạn hãy kiểm tra phát biểu sau: __\"20% kẹo M&M có màu đỏ\"__ với mức ý nghĩa là 5%\n",
        "\n",
        "*Hướng dẫn: tính tỷ lệ các viên kẹo có màu đỏ từ dữ liệu, sử dụng kết quả để kiểm định phát biểu trên*"
      ]
    },
    {
      "cell_type": "code",
      "execution_count": null,
      "metadata": {
        "id": "fvUN872FOkOJ",
        "colab": {
          "base_uri": "https://localhost:8080/"
        },
        "outputId": "715c1fcf-5d72-44f2-8804-cafb02fb0722"
      },
      "outputs": [
        {
          "output_type": "stream",
          "name": "stdout",
          "text": [
            "Tỷ lệ viên kẹo màu đỏ trong mẫu: 0.8635\n",
            "Giá trị Z: 8.6196\n",
            "P-value: 0.0000\n",
            "Bác bỏ giả thuyết H₀: Tỷ lệ viên kẹo màu đỏ không phải là 20%.\n"
          ]
        }
      ],
      "source": [
        "import pandas as pd\n",
        "\n",
        "# Đọc dữ liệu từ file CSV (thay đổi đường dẫn tới file của bạn)\n",
        "data = pd.read_excel(\"./18_M_M.xls\")\n",
        "\n",
        "data_red = data['Red']\n",
        "\n",
        "# Tổng số mẫu\n",
        "n = len(data_red)\n",
        "\n",
        "# Tỷ lệ viên kẹo màu đỏ trong mẫu\n",
        "p_hat = np.mean(data_red)\n",
        "\n",
        "# Giả thuyết tỷ lệ viên kẹo màu đỏ là 20% (p0 = 0.2)\n",
        "p_0 = 0.2\n",
        "\n",
        "# Tính Z-score\n",
        "z = (p_hat - p_0) / np.sqrt((p_0 * (1 - p_0)) / n)\n",
        "\n",
        "# Tính P-value từ CDF (kiểm định hai đuôi)\n",
        "p_value = 2 * (1 - stats.norm.cdf(abs(z)))\n",
        "\n",
        "# In kết quả\n",
        "print(f\"Tỷ lệ viên kẹo màu đỏ trong mẫu: {p_hat:.4f}\")\n",
        "print(f\"Giá trị Z: {z:.4f}\")\n",
        "print(f\"P-value: {p_value:.4f}\")\n",
        "\n",
        "# Mức ý nghĩa\n",
        "alpha = 0.05\n",
        "\n",
        "# So sánh P-value với mức ý nghĩa\n",
        "if p_value < alpha:\n",
        "    print(\"Bác bỏ giả thuyết H₀: Tỷ lệ viên kẹo màu đỏ không phải là 20%.\")\n",
        "else:\n",
        "    print(\"Không bác bỏ giả thuyết H₀: Tỷ lệ viên kẹo màu đỏ là 20%.\")"
      ]
    },
    {
      "cell_type": "markdown",
      "metadata": {
        "id": "dLclyV55OkOJ"
      },
      "source": [
        "### Bài 6\n",
        "\n",
        "Dataset 3 (__FRESH15__) chứa thông tin khảo sát những thay đổi về trọng lượng (weight - WT) và chỉ số khối của cơ thể (BMI) của sinh viên năm nhất tại một trường Đại Học. Thời điểm khảo sát là bắt đầu học kỳ (tháng 9 - SEP) và kết thúc học kỳ (tháng 4 - APR), các sinh viên được chọn ngẫu nhiên trong trường.\n",
        "\n",
        "Sử dụng mẫu trên, hãy kiểm tra phát biểu:__\"50% số sinh viên trong trường là nam\"__ với mức ý nghĩa 50%\n",
        "\n",
        "Các thuộc tính trong bộ dữ liệu:\n",
        "- SEX: Giới tính\n",
        "- WTSEP: trọng lượng đo vào tháng 9 (mới nhập học)\n",
        "- WTAPR: trọng lượng đo vào tháng 4 (kết thúc năm học)\n",
        "- BMISP: BMI tháng 9\n",
        "- BMIAP: BMI tháng 4"
      ]
    },
    {
      "cell_type": "code",
      "execution_count": null,
      "metadata": {
        "id": "tDJdAFZ0OkOK",
        "colab": {
          "base_uri": "https://localhost:8080/"
        },
        "outputId": "217e9bc4-8e29-4f38-bb2a-383998fb07e7"
      },
      "outputs": [
        {
          "output_type": "stream",
          "name": "stdout",
          "text": [
            "SEX\n",
            "F    35\n",
            "M    32\n",
            "Name: count, dtype: int64\n",
            "Tỷ lệ sinh viên nam trong mẫu: 0.4776\n",
            "Giá trị Z: -0.3665\n",
            "P-value: 0.7140\n",
            "Không bác bỏ giả thuyết H₀: Tỷ lệ sinh viên nam là 50%.\n"
          ]
        }
      ],
      "source": [
        "import pandas as pd\n",
        "import scipy.stats as stats\n",
        "\n",
        "# Đọc dữ liệu từ file Excel\n",
        "df = pd.read_excel('./03_FRESH15.xls')\n",
        "\n",
        "# Kiểm tra các giá trị có trong cột 'SEX' để đảm bảo có các giá trị 'M' và 'F'\n",
        "print(df['SEX'].value_counts())\n",
        "\n",
        "# Tính tỷ lệ sinh viên nam trong mẫu\n",
        "num_male = (df['SEX'] == 'M').sum()\n",
        "n = len(df)  # Tổng số sinh viên trong mẫu\n",
        "p_hat = num_male / n  # Tỷ lệ sinh viên nam trong mẫu\n",
        "\n",
        "# Giả thuyết tỷ lệ sinh viên nam là 50% (p0 = 0.5)\n",
        "p_0 = 0.5\n",
        "\n",
        "# Tính Z-score\n",
        "z = (p_hat - p_0) / ( (p_0 * (1 - p_0)) / n ) ** 0.5\n",
        "\n",
        "# Tính P-value từ CDF (kiểm định hai đuôi)\n",
        "p_value = 2 * (1 - stats.norm.cdf(abs(z)))\n",
        "\n",
        "# In kết quả\n",
        "print(f\"Tỷ lệ sinh viên nam trong mẫu: {p_hat:.4f}\")\n",
        "print(f\"Giá trị Z: {z:.4f}\")\n",
        "print(f\"P-value: {p_value:.4f}\")\n",
        "\n",
        "# Mức ý nghĩa\n",
        "alpha = 0.05\n",
        "\n",
        "# So sánh P-value với mức ý nghĩa\n",
        "if p_value < alpha:\n",
        "    print(\"Bác bỏ giả thuyết H₀: Tỷ lệ sinh viên nam không phải là 50%.\")\n",
        "else:\n",
        "    print(\"Không bác bỏ giả thuyết H₀: Tỷ lệ sinh viên nam là 50%.\")\n"
      ]
    },
    {
      "cell_type": "markdown",
      "metadata": {
        "id": "nd7B9ZBUOkOK"
      },
      "source": [
        "## Kiểm định đặc trưng kỳ vọng ($\\mu$) biết ($\\sigma$)"
      ]
    },
    {
      "cell_type": "markdown",
      "metadata": {
        "id": "ktPeEQ5AOkOK"
      },
      "source": [
        "### Bài 7\n",
        "\n",
        "Dataset 13 __(VOLTAGE)__ liệt kê các mức điện áp được đo tại các hộ gia đình bởi các máy đo khác nhau: tại nhà (HOME), tại máy phát độc lập (Generator), tại trạm phát (UPS).\n",
        "\n",
        "Công ty cung cấp điện cho vùng này cam kết rằng: __\"Mục tiêu cung cấp điện cho mỗi hộ gia đình là 120V\"__ . Biết rằng độ lệch chuẩn của tất cả các mức điện áp đo được là 0.24V.\n",
        "\n",
        "Với mức ý nghĩa 1%. Bạn hãy kiểm tra xem công ty có làm đúng cam kết hay không?"
      ]
    },
    {
      "cell_type": "code",
      "execution_count": null,
      "metadata": {
        "id": "m5q-DyUgOkOK",
        "colab": {
          "base_uri": "https://localhost:8080/"
        },
        "outputId": "cb71b298-7810-4181-fa31-76240bf93d71"
      },
      "outputs": [
        {
          "output_type": "stream",
          "name": "stdout",
          "text": [
            "Trung bình mức điện áp tại các hộ gia đình: 123.6625\n",
            "Giá trị Z: 96.5153\n",
            "P-value: 0.0000\n",
            "Bác bỏ giả thuyết H₀: Mức điện áp không phải là 120V.\n"
          ]
        }
      ],
      "source": [
        "import pandas as pd\n",
        "import scipy.stats as stats\n",
        "\n",
        "# Đọc dữ liệu từ file Excel\n",
        "df = pd.read_excel('./13_VOLTAGE.xls')\n",
        "\n",
        "# Tính giá trị trung bình của cột 'Home' (mức điện áp tại các hộ gia đình)\n",
        "mean_home = df['Home'].mean()\n",
        "\n",
        "# Thông số từ bài toán\n",
        "mu = 120  # Mức cam kết của công ty\n",
        "sigma = 0.24  # Độ lệch chuẩn\n",
        "n = len(df)  # Số ngày đo (số mẫu)\n",
        "\n",
        "# Tính Z-score\n",
        "z = (mean_home - mu) / (sigma / (n ** 0.5))\n",
        "\n",
        "# Tính P-value từ Z-score (kiểm định hai đuôi)\n",
        "p_value = 2 * (1 - stats.norm.cdf(abs(z)))\n",
        "\n",
        "# In kết quả\n",
        "print(f\"Trung bình mức điện áp tại các hộ gia đình: {mean_home:.4f}\")\n",
        "print(f\"Giá trị Z: {z:.4f}\")\n",
        "print(f\"P-value: {p_value:.4f}\")\n",
        "\n",
        "# Mức ý nghĩa\n",
        "alpha = 0.01\n",
        "\n",
        "# So sánh P-value với mức ý nghĩa\n",
        "if p_value < alpha:\n",
        "    print(\"Bác bỏ giả thuyết H₀: Mức điện áp không phải là 120V.\")\n",
        "else:\n",
        "    print(\"Không bác bỏ giả thuyết H₀: Mức điện áp là 120V.\")\n"
      ]
    },
    {
      "cell_type": "markdown",
      "metadata": {
        "id": "s5CllGm1OkOK"
      },
      "source": [
        "## Kiểm định đặc trưng kỳ vọng ($\\mu$) không biết ($\\sigma$)"
      ]
    },
    {
      "cell_type": "markdown",
      "metadata": {
        "id": "u36ewanxOkOK"
      },
      "source": [
        "### Bài 8\n",
        "\n",
        "Dataset 19(__SCREWS__) chứa thông tin khảo sát chiều dài một số đinh ốc được cung cấp bởi công ty Crown Bolt (đơn vị inches)\n",
        "\n",
        "Trên bao bì của các đinh ốc do công ty sản xuất có ghi chiều dài của các đinh ốc là 3/4 inches. Sử dụng mẫu trên bạn hãy cho biết chiều dài của đinh ốc lấy từ mẫu thu nhận được từ dữ liệu trên có nhất quán với chiều dài ghi trên bao bì hay không? Kiểm định với mức ý nghĩa 5%"
      ]
    },
    {
      "cell_type": "code",
      "execution_count": null,
      "metadata": {
        "id": "Fs1JzOqAOkOK",
        "colab": {
          "base_uri": "https://localhost:8080/"
        },
        "outputId": "0e8c1b41-a390-4e3a-a8cf-ea22fd43bb7f"
      },
      "outputs": [
        {
          "output_type": "stream",
          "name": "stdout",
          "text": [
            "Trung bình chiều dài đinh ốc trong mẫu: 0.7468\n",
            "Độ lệch chuẩn của mẫu: 0.0123\n",
            "Giá trị t: -1.8249\n",
            "P-value: 0.0741\n",
            "Không bác bỏ giả thuyết H₀: Chiều dài đinh ốc là 0.75 inches.\n"
          ]
        }
      ],
      "source": [
        "import pandas as pd\n",
        "import scipy.stats as stats\n",
        "\n",
        "# Đọc dữ liệu từ file Excel\n",
        "df = pd.read_excel('./19_SCREWS.xls', header=None)\n",
        "\n",
        "# Tính giá trị trung bình và độ lệch chuẩn của mẫu\n",
        "mean_screws = df[0].mean()\n",
        "std_screws = df[0].std()\n",
        "n = len(df)  # Số lượng quan sát (mẫu)\n",
        "\n",
        "# Mức chiều dài theo bao bì\n",
        "mu = 0.75\n",
        "\n",
        "# Tính giá trị t\n",
        "t = (mean_screws - mu) / (std_screws / (n ** 0.5))\n",
        "\n",
        "# Tính P-value từ giá trị t (kiểm định hai đuôi)\n",
        "p_value = 2 * (1 - stats.t.cdf(abs(t), df=n-1))\n",
        "\n",
        "# In kết quả\n",
        "print(f\"Trung bình chiều dài đinh ốc trong mẫu: {mean_screws:.4f}\")\n",
        "print(f\"Độ lệch chuẩn của mẫu: {std_screws:.4f}\")\n",
        "print(f\"Giá trị t: {t:.4f}\")\n",
        "print(f\"P-value: {p_value:.4f}\")\n",
        "\n",
        "# Mức ý nghĩa\n",
        "alpha = 0.05\n",
        "\n",
        "# So sánh P-value với mức ý nghĩa\n",
        "if p_value < alpha:\n",
        "    print(\"Bác bỏ giả thuyết H₀: Chiều dài đinh ốc không phải là 0.75 inches.\")\n",
        "else:\n",
        "    print(\"Không bác bỏ giả thuyết H₀: Chiều dài đinh ốc là 0.75 inches.\")\n"
      ]
    },
    {
      "cell_type": "markdown",
      "metadata": {
        "id": "3RA_8HnEOkOK"
      },
      "source": [
        "### Bài 9\n",
        "\n",
        "Dataset 2 __(BODYTEMP)__ chứa thông tin khảo sát nhiệt độ cơ thể từ một nhóm người vào cùng một thời điểm lúc 12h trưa.\n",
        "\n",
        "Có một phát biểu nói rằng, nhiệt độ cơ thể người đo lúc 12h trưa trong quần thể này là 98,6°\n",
        "\n",
        "Dựa vào mẫu trên, bạn hãy cho biết phát biểu trên đúng hay sai ở mức ý nghĩa là 5%."
      ]
    },
    {
      "cell_type": "code",
      "execution_count": null,
      "metadata": {
        "id": "AaXPE0blOkOK",
        "colab": {
          "base_uri": "https://localhost:8080/"
        },
        "outputId": "6a250b35-c3ea-4918-812f-eea0b0c33def"
      },
      "outputs": [
        {
          "output_type": "stream",
          "name": "stdout",
          "text": [
            "Trung bình nhiệt độ cơ thể trong mẫu: 98.2000\n",
            "Độ lệch chuẩn của mẫu: 0.6229\n",
            "Giá trị t: -6.6115\n",
            "P-value: 0.0000\n",
            "Bác bỏ giả thuyết H₀: Nhiệt độ cơ thể không phải là 98.6°.\n"
          ]
        }
      ],
      "source": [
        "import pandas as pd\n",
        "import scipy.stats as stats\n",
        "\n",
        "# Đọc dữ liệu từ file Excel\n",
        "df = pd.read_excel('./02_BODYTEMP.xls', header=None)\n",
        "\n",
        "# Tính giá trị trung bình và độ lệch chuẩn của mẫu\n",
        "mean_temp = df[0].mean()\n",
        "std_temp = df[0].std()\n",
        "n = len(df)  # Số lượng quan sát (mẫu)\n",
        "\n",
        "# Nhiệt độ theo phát biểu\n",
        "mu = 98.6\n",
        "\n",
        "# Tính giá trị t\n",
        "t_stat = (mean_temp - mu) / (std_temp / (n ** 0.5))\n",
        "\n",
        "# Tính P-value từ giá trị t (kiểm định hai đuôi)\n",
        "p_value = 2 * (1 - stats.t.cdf(abs(t_stat), df=n-1))\n",
        "\n",
        "# In kết quả\n",
        "print(f\"Trung bình nhiệt độ cơ thể trong mẫu: {mean_temp:.4f}\")\n",
        "print(f\"Độ lệch chuẩn của mẫu: {std_temp:.4f}\")\n",
        "print(f\"Giá trị t: {t_stat:.4f}\")\n",
        "print(f\"P-value: {p_value:.4f}\")\n",
        "\n",
        "# Mức ý nghĩa\n",
        "alpha = 0.05\n",
        "\n",
        "# So sánh P-value với mức ý nghĩa\n",
        "if p_value < alpha:\n",
        "    print(\"Bác bỏ giả thuyết H₀: Nhiệt độ cơ thể không phải là 98.6°.\")\n",
        "else:\n",
        "    print(\"Không bác bỏ giả thuyết H₀: Nhiệt độ cơ thể là 98.6°.\")\n"
      ]
    },
    {
      "cell_type": "markdown",
      "metadata": {
        "id": "kzyjM8y5OkOK"
      },
      "source": [
        "### Bài 10\n",
        "\n",
        "Tìm hiểu z_test, t_test trong python"
      ]
    },
    {
      "cell_type": "markdown",
      "source": [
        "Chọn Z-test hay T-test?\n",
        "\n",
        "- Độ lệch chuẩn tổng thể (σ) đã biết: Sử dụng Z-test.\n",
        "- Độ lệch chuẩn tổng thể (σ) không biết: Sử dụng T-test.\n",
        "- Kích thước mẫu nhỏ (n < 30) và σ không biết: Sử dụng T-test.\n",
        "- Kích thước mẫu lớn (n ≥ 30) và σ không biết: Có thể sử dụng Z-test hoặc T-test (T-test vẫn được ưu tiên hơn)."
      ],
      "metadata": {
        "id": "1LcB-fsNgPME"
      }
    },
    {
      "cell_type": "code",
      "execution_count": null,
      "metadata": {
        "id": "ZJYnegRzOkOK"
      },
      "outputs": [],
      "source": []
    },
    {
      "cell_type": "markdown",
      "metadata": {
        "id": "8WzSKPsbOkOL"
      },
      "source": [
        "---"
      ]
    }
  ],
  "metadata": {
    "language_info": {
      "name": "python"
    },
    "colab": {
      "provenance": []
    },
    "kernelspec": {
      "name": "python3",
      "display_name": "Python 3"
    }
  },
  "nbformat": 4,
  "nbformat_minor": 0
}