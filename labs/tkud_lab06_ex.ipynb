{
  "cells": [
    {
      "cell_type": "markdown",
      "metadata": {
        "id": "vjP888Y6GR69"
      },
      "source": [
        "# Lab 06 - Bài Tập"
      ]
    },
    {
      "cell_type": "code",
      "source": [
        "import numpy as np\n",
        "from scipy import stats as stats\n",
        "import matplotlib.pyplot as plt"
      ],
      "metadata": {
        "id": "38ccMrlaHfnu"
      },
      "execution_count": null,
      "outputs": []
    },
    {
      "cell_type": "markdown",
      "metadata": {
        "id": "L1why1G9GR6_"
      },
      "source": [
        "### Bài 1: Tạo quần thể mô phỏng\n",
        "\n",
        "Bạn hãy tạo một mẫu gồm 10000 phần tử mô phỏng chiều cao của nam thanh niên có giá trị từ 120cm - 200cm. Bạn hãy lưu kết quả vào biến **POP**.\n",
        "\n",
        "Tính:\n",
        "a. Chiều cao trung bình (kỳ vọng) của quần thể và độ lệch chuẩn về chiều cao của quần thể.\n",
        "\n",
        "b. Tính tỷ lệ người cao trong quần thể, biết rằng thanh niên có chiều cao từ 180 trở lên được gọi là cao.\n",
        "\n",
        "c. Vẽ histogram về chiều cao của quần thể. Theo bạn quần thể có phân phối chuẩn hay không?\n",
        "\n",
        "d. Thử vẽ histogram và đồ thị hàm mật độ của phân phối chuẩn sử dụng tham số loc và scale bằng với kỳ vọng và độ lệch chuẩn của quần thể."
      ]
    },
    {
      "cell_type": "code",
      "execution_count": null,
      "metadata": {
        "colab": {
          "base_uri": "https://localhost:8080/"
        },
        "id": "-IxwAZL8GR6_",
        "outputId": "7c916970-5b07-406c-b9ee-38eb7763fdfe"
      },
      "outputs": [
        {
          "output_type": "execute_result",
          "data": {
            "text/plain": [
              "array([141.1951531 , 146.70295191, 197.71466752, ..., 173.78290204,\n",
              "       198.60468659, 147.2303425 ])"
            ]
          },
          "metadata": {},
          "execution_count": 3
        }
      ],
      "source": [
        "height_pop = np.random.uniform(low=120, high=200, size=10000)\n",
        "height_pop"
      ]
    },
    {
      "cell_type": "code",
      "source": [
        "# a. Chiều cao trung bình (kỳ vọng) của quần thể và độ lệch chuẩn về chiều cao của quần thể.\n",
        "mean_pop = height_pop.mean()\n",
        "std_pop = height_pop.std()\n",
        "\n",
        "print(mean_pop)\n",
        "print(std_pop)\n",
        "\n",
        "# b. Tính tỷ lệ người cao trong quần thể, biết rằng thanh niên có chiều cao từ 180 trở lên được gọi là cao.\n",
        "hight_height = (height_pop >= 180).sum() / len(height_pop)\n",
        "print(hight_height)\n",
        "\n",
        "# c. Vẽ histogram về chiều cao của quần thể. Theo bạn quần thể có phân phối chuẩn hay không?\n",
        "plt.hist(height_pop, bins=30)\n",
        "plt.show()\n",
        "\n",
        "\n"
      ],
      "metadata": {
        "colab": {
          "base_uri": "https://localhost:8080/",
          "height": 482
        },
        "id": "zojyOrHSItD2",
        "outputId": "0eb6b186-8c1e-4209-d771-ab0711cfbb64"
      },
      "execution_count": null,
      "outputs": [
        {
          "output_type": "stream",
          "name": "stdout",
          "text": [
            "159.74393823381007\n",
            "23.06163413292517\n",
            "0.2424\n"
          ]
        },
        {
          "output_type": "display_data",
          "data": {
            "text/plain": [
              "<Figure size 640x480 with 1 Axes>"
            ],
            "image/png": "[encoded data removed]"
          },
          "metadata": {}
        }
      ]
    },
    {
      "cell_type": "markdown",
      "metadata": {
        "id": "i1rUp_zRGR7A"
      },
      "source": [
        "### Bài 2: Lấy mẫu cỡ 20\n",
        "\n",
        "Bạn hãy lấy một mẫu kích thước 20 phần từ. Tính:\n",
        "\n",
        "a. Trung bình mẫu, và độ lệch chuẩn của mẫu\n",
        "\n",
        "b. Tỷ lệ người cao của mẫu\n",
        "\n",
        "c. Vẽ histogram của mẫu\n",
        "\n",
        "d. Thử vẽ đồ thị hàm mật độ của phân phối chuẩn với tham số loc và scale bằng với giá trị trung bình và độ lệch chuẩn và chiều cao của mẫu. Bạn có nhận xét gì không?"
      ]
    },
    {
      "cell_type": "code",
      "execution_count": null,
      "metadata": {
        "colab": {
          "base_uri": "https://localhost:8080/"
        },
        "id": "CaPgS7oPGR7A",
        "outputId": "647bcbb9-6431-4307-baf1-3abbe2baa0cc"
      },
      "outputs": [
        {
          "output_type": "execute_result",
          "data": {
            "text/plain": [
              "array([129.66339029, 168.03371462, 126.58485543, 131.94387743,\n",
              "       126.31980477, 142.69151027, 144.33557247, 194.71539164,\n",
              "       152.44761936, 179.66019866, 125.30986926, 145.83536083,\n",
              "       138.37664456, 160.59535753, 172.00829088, 159.44786417,\n",
              "       167.12305089, 168.18663119, 122.93783605, 187.21684898])"
            ]
          },
          "metadata": {},
          "execution_count": 16
        }
      ],
      "source": [
        "height_sample = np.random.choice(height_pop, size=20)\n",
        "height_sample"
      ]
    },
    {
      "cell_type": "code",
      "source": [
        "from scipy.stats import norm\n",
        "\n",
        "# a. Trung bình mẫu, và độ lệch chuẩn của mẫu\n",
        "sample_mean = height_sample.mean()\n",
        "sample_std = height_sample.std()\n",
        "print(height_sample.mean())\n",
        "print(height_sample.std())\n",
        "\n",
        "# b. Tỷ lệ người cao của mẫu\n",
        "print((height_sample >= 180).sum() / len(height_sample))\n",
        "\n",
        "# c. Vẽ histogram của mẫu\n",
        "plt.hist(height_sample, bins=30)\n",
        "plt.show()\n",
        "\n",
        "# d. Thử vẽ đồ thị hàm mật độ của phân phối chuẩn với tham số loc và scale bằng với giá trị trung bình và độ lệch chuẩn và chiều cao của mẫu. Bạn có nhận xét gì không?\n",
        "# Generate x-values for the plot\n",
        "x = np.linspace(height_sample.min(), height_sample.max(), 100)\n",
        "\n",
        "# Calculate the probability density function (PDF)\n",
        "pdf = norm.pdf(x, loc=sample_mean, scale=sample_std)\n",
        "\n",
        "# Plot the histogram and PDF\n",
        "plt.hist(height_sample, bins=30, density=True, alpha=0.6, color='g')\n",
        "plt.plot(x, pdf, 'r', linewidth=2)\n",
        "\n",
        "plt.xlabel(\"Height\")\n",
        "plt.ylabel(\"Density\")\n",
        "plt.title(\"Histogram of Sample Heights and Normal Distribution\")\n",
        "plt.show()"
      ],
      "metadata": {
        "colab": {
          "base_uri": "https://localhost:8080/",
          "height": 937
        },
        "id": "seufZQFvK_aG",
        "outputId": "634d0645-5d72-4af0-e392-312ae061d2bb"
      },
      "execution_count": null,
      "outputs": [
        {
          "output_type": "stream",
          "name": "stdout",
          "text": [
            "152.17168446421954\n",
            "21.49365196104219\n",
            "0.1\n"
          ]
        },
        {
          "output_type": "display_data",
          "data": {
            "text/plain": [
              "<Figure size 640x480 with 1 Axes>"
            ],
            "image/png": "[encoded data removed]"
          },
          "metadata": {}
        },
        {
          "output_type": "display_data",
          "data": {
            "text/plain": [
              "<Figure size 640x480 with 1 Axes>"
            ],
            "image/png": "[encoded data removed]"
          },
          "metadata": {}
        }
      ]
    },
    {
      "cell_type": "markdown",
      "metadata": {
        "id": "k_T5IU6iGR7A"
      },
      "source": [
        "### Bài 3: Lấy mẫu cỡ 100\n",
        "\n",
        "Lặp lại thí nghiệm bài 2 với cỡ mẫu là 100"
      ]
    },
    {
      "cell_type": "code",
      "execution_count": null,
      "metadata": {
        "colab": {
          "base_uri": "https://localhost:8080/"
        },
        "id": "q5YPXDuVGR7A",
        "outputId": "90e495aa-1293-41a1-8952-ca2cbd5db470"
      },
      "outputs": [
        {
          "output_type": "execute_result",
          "data": {
            "text/plain": [
              "array([145.10325422, 165.60925345, 160.18916851, 148.21346686,\n",
              "       188.25015824, 188.81064366, 155.7829728 , 170.68041006,\n",
              "       156.24472307, 136.68729019, 166.24123676, 131.92398277,\n",
              "       176.82235744, 176.53138319, 137.77250021, 170.65035794,\n",
              "       150.00554113, 135.36430254, 199.17983567, 131.74884577,\n",
              "       138.88723985, 142.89263315, 123.0037893 , 148.28154252,\n",
              "       177.68273743, 192.22729469, 127.8990964 , 189.47835035,\n",
              "       160.53640064, 125.42594538, 132.39960995, 148.5321295 ,\n",
              "       182.47671762, 170.04402911, 179.35968432, 153.572727  ,\n",
              "       121.24296795, 133.70888681, 159.83910934, 141.7704781 ,\n",
              "       131.98253661, 174.322715  , 161.77330193, 185.52437028,\n",
              "       126.09652993, 185.18677018, 143.13905846, 150.26449192,\n",
              "       162.5402236 , 165.21055611, 122.52341053, 175.33185958,\n",
              "       159.89576459, 134.4726428 , 193.40566198, 159.70518897,\n",
              "       154.97605979, 136.85623466, 192.61201348, 173.49212286,\n",
              "       163.09441123, 150.8703154 , 195.86201233, 126.4475304 ,\n",
              "       173.32939395, 155.06818019, 161.10104011, 142.35437094,\n",
              "       132.65197908, 146.83359237, 179.80833436, 120.95747738,\n",
              "       181.23805006, 137.95543859, 179.08372614, 194.91698387,\n",
              "       129.17611857, 159.06396382, 192.97409609, 187.06920654,\n",
              "       181.3360868 , 126.83995618, 149.06058747, 171.91467727,\n",
              "       161.04494282, 165.46747684, 175.50813572, 134.60927416,\n",
              "       133.33647687, 196.74771228, 168.3531608 , 199.7630413 ,\n",
              "       145.33214375, 134.20806293, 198.6690761 , 198.29561013,\n",
              "       135.96084968, 168.8129075 , 190.29269743, 137.42029605])"
            ]
          },
          "metadata": {},
          "execution_count": 23
        }
      ],
      "source": [
        "height_sample = np.random.choice(height_pop, size=100)\n",
        "height_sample"
      ]
    },
    {
      "cell_type": "code",
      "source": [
        "from scipy.stats import norm\n",
        "\n",
        "# a. Trung bình mẫu, và độ lệch chuẩn của mẫu\n",
        "sample_mean = height_sample.mean()\n",
        "sample_std = height_sample.std()\n",
        "print(height_sample.mean())\n",
        "print(height_sample.std())\n",
        "\n",
        "# b. Tỷ lệ người cao của mẫu\n",
        "print((height_sample >= 180).sum() / len(height_sample))\n",
        "\n",
        "# c. Vẽ histogram của mẫu\n",
        "plt.hist(height_sample, bins=30)\n",
        "plt.show()\n",
        "\n",
        "# d. Thử vẽ đồ thị hàm mật độ của phân phối chuẩn với tham số loc và scale bằng với giá trị trung bình và độ lệch chuẩn và chiều cao của mẫu. Bạn có nhận xét gì không?\n",
        "# Generate x-values for the plot\n",
        "x = np.linspace(height_sample.min(), height_sample.max(), 100)\n",
        "\n",
        "# Calculate the probability density function (PDF)\n",
        "pdf = norm.pdf(x, loc=sample_mean, scale=sample_std)\n",
        "\n",
        "# Plot the histogram and PDF\n",
        "plt.hist(height_sample, bins=30, density=True, alpha=0.6, color='g')\n",
        "plt.plot(x, pdf, 'r', linewidth=2)\n",
        "\n",
        "plt.xlabel(\"Height\")\n",
        "plt.ylabel(\"Density\")\n",
        "plt.title(\"Histogram of Sample Heights and Normal Distribution\")\n",
        "plt.show()"
      ],
      "metadata": {
        "colab": {
          "base_uri": "https://localhost:8080/",
          "height": 937
        },
        "id": "RZTQL838L7KG",
        "outputId": "79b43ef5-837e-491e-a31e-e0ed8e39c28f"
      },
      "execution_count": null,
      "outputs": [
        {
          "output_type": "stream",
          "name": "stdout",
          "text": [
            "159.13213960682663\n",
            "22.66524209002596\n",
            "0.21\n"
          ]
        },
        {
          "output_type": "display_data",
          "data": {
            "text/plain": [
              "<Figure size 640x480 with 1 Axes>"
            ],
            "image/png": "[encoded data removed]"
          },
          "metadata": {}
        },
        {
          "output_type": "display_data",
          "data": {
            "text/plain": [
              "<Figure size 640x480 with 1 Axes>"
            ],
            "image/png": "[encoded data removed]"
          },
          "metadata": {}
        }
      ]
    },
    {
      "cell_type": "markdown",
      "metadata": {
        "id": "Tc2dw3o1GR7A"
      },
      "source": [
        "### Bài 4: Khảo sát phân phối của trung bình mẫu\n",
        "\n",
        "a. Thực hiện bài 2 100 lần, mỗi lần bạn tính được trung bình mẫu. Vẽ đồ thị histogram cho 100 trung bình mẫu bạn tính được.\n",
        "\n",
        "b. Thực hiện bài 3 100 lần, mỗi lần bạn tính được trung bình mẫu. Vẽ đồ thị histogram cho 100 trung bình mẫu bạn tính được.\n",
        "\n",
        "c. Vẽ histogram của hai câu a, b trong cùng một hình để so sánh. Theo bạn hình dạng của histogram thay đổi nói lên điều gì?\n",
        "\n",
        "Gợi ý: tạo một danh sách rỗng để chứa các trung bình mẫu tính được, sử dụng hàm append() để thêm giá trị trung bình vào danh sách sau mỗi lần tính."
      ]
    },
    {
      "cell_type": "code",
      "execution_count": null,
      "metadata": {
        "colab": {
          "base_uri": "https://localhost:8080/",
          "height": 430
        },
        "id": "pB4NWKdJGR7A",
        "outputId": "698d7a20-54c4-446e-b32d-350213895312"
      },
      "outputs": [
        {
          "output_type": "display_data",
          "data": {
            "text/plain": [
              "<Figure size 640x480 with 1 Axes>"
            ],
            "image/png": "[encoded data removed]"
          },
          "metadata": {}
        }
      ],
      "source": [
        "# a. Thực hiện bài 2 100 lần, mỗi lần bạn tính được trung bình mẫu. Vẽ đồ thị histogram cho 100 trung bình mẫu bạn tính được.\n",
        "sample_20 = []\n",
        "for i in range(100):\n",
        "    height_sample = np.random.choice(height_pop, size=20)\n",
        "    sample_mean = height_sample.mean()\n",
        "    sample_20.append(sample_mean)\n",
        "\n",
        "plt.hist(sample_20, bins=30)\n",
        "plt.show()\n"
      ]
    },
    {
      "cell_type": "code",
      "source": [
        "# b. Thực hiện bài 3 100 lần, mỗi lần bạn tính được trung bình mẫu. Vẽ đồ thị histogram cho 100 trung bình mẫu bạn tính được.\n",
        "sample_100 = []\n",
        "for i in range(100):\n",
        "    height_sample = np.random.choice(height_pop, size=100)\n",
        "    sample_mean = height_sample.mean()\n",
        "    sample_100.append(sample_mean)\n",
        "\n",
        "plt.hist(sample_100, bins=30)\n",
        "plt.show()\n"
      ],
      "metadata": {
        "colab": {
          "base_uri": "https://localhost:8080/",
          "height": 430
        },
        "id": "URiJo_zhMRkW",
        "outputId": "1cebc94d-29ce-429b-b143-9dbba2177ffb"
      },
      "execution_count": null,
      "outputs": [
        {
          "output_type": "display_data",
          "data": {
            "text/plain": [
              "<Figure size 640x480 with 1 Axes>"
            ],
            "image/png": "[encoded data removed]"
          },
          "metadata": {}
        }
      ]
    },
    {
      "cell_type": "code",
      "source": [
        "# c. Vẽ histogram của hai câu a, b trong cùng một hình để so sánh. Theo bạn hình dạng của histogram thay đổi nói lên điều gì?\n",
        "\n",
        "plt.figure(figsize=(10, 6))\n",
        "plt.hist(sample_20, bins=30, alpha=0.5, label='Sample Size 20')\n",
        "plt.hist(sample_100, bins=30, alpha=0.5, label='Sample Size 100')\n",
        "plt.xlabel('Sample Mean')\n",
        "plt.ylabel('Frequency')\n",
        "plt.title('Histogram of Sample Means')\n",
        "plt.legend()\n",
        "plt.show()"
      ],
      "metadata": {
        "colab": {
          "base_uri": "https://localhost:8080/",
          "height": 479
        },
        "id": "55v_lq3rMfHG",
        "outputId": "3c85cb23-17ce-4cae-fc4a-c20062afcf83"
      },
      "execution_count": null,
      "outputs": [
        {
          "output_type": "display_data",
          "data": {
            "text/plain": [
              "<Figure size 1000x600 with 1 Axes>"
            ],
            "image/png": "[encoded data removed]"
          },
          "metadata": {}
        }
      ]
    },
    {
      "cell_type": "markdown",
      "metadata": {
        "id": "1ixeG3T7GR7A"
      },
      "source": [
        "### Bài 5: Khảo sát tỷ lệ mẫu\n",
        "\n",
        "a. Bạn hãy mô phỏng 1000 lần lấy mẫu có kích cỡ 100. Vẽ histogram tỷ lệ người cao của các mẫu\n",
        "\n",
        "b. Bạn hãy mô phỏng 1000 lần lấy mẫu có kích cỡ 500. Vẽ histogram tỷ lệ người cao của các mẫu"
      ]
    },
    {
      "cell_type": "code",
      "execution_count": null,
      "metadata": {
        "colab": {
          "base_uri": "https://localhost:8080/",
          "height": 430
        },
        "id": "RszKO8PiGR7B",
        "outputId": "8223dbad-2392-473a-b22e-9f7026d98760"
      },
      "outputs": [
        {
          "output_type": "display_data",
          "data": {
            "text/plain": [
              "<Figure size 640x480 with 1 Axes>"
            ],
            "image/png": "[encoded data removed]"
          },
          "metadata": {}
        }
      ],
      "source": [
        "# a. Bạn hãy mô phỏng 1000 lần lấy mẫu có kích cỡ 100. Vẽ histogram tỷ lệ người cao của các mẫu\n",
        "sample_1000_100 = []\n",
        "for i in range(1000):\n",
        "    height_sample = np.random.choice(height_pop, size=100)\n",
        "    sample_mean = (height_sample >= 180).sum() / len(height_sample)\n",
        "    sample_1000_100.append(sample_mean)\n",
        "\n",
        "plt.hist(sample_1000_100, bins=30)\n",
        "plt.show()"
      ]
    },
    {
      "cell_type": "code",
      "source": [
        "# b. Bạn hãy mô phỏng 1000 lần lấy mẫu có kích cỡ 500. Vẽ histogram tỷ lệ người cao của các mẫu\n",
        "sample_1000_500 = []\n",
        "for i in range(1000):\n",
        "    height_sample = np.random.choice(height_pop, size=500)\n",
        "    sample_mean = (height_sample >= 180).sum() / len(height_sample)\n",
        "    sample_1000_500.append(sample_mean)\n",
        "\n",
        "plt.hist(sample_1000_500, bins=30)\n",
        "plt.show()"
      ],
      "metadata": {
        "colab": {
          "base_uri": "https://localhost:8080/",
          "height": 430
        },
        "id": "kiEBhcyAOS3u",
        "outputId": "d6524ca1-e3f7-4e8c-e26f-ed4057a778ee"
      },
      "execution_count": null,
      "outputs": [
        {
          "output_type": "display_data",
          "data": {
            "text/plain": [
              "<Figure size 640x480 with 1 Axes>"
            ],
            "image/png": "[encoded data removed]"
          },
          "metadata": {}
        }
      ]
    },
    {
      "cell_type": "markdown",
      "metadata": {
        "id": "JwUSxDKSGR7B"
      },
      "source": [
        "### Bài 6: Khảo sát phương sai mẫu\n",
        "\n",
        "Bạn hãy mô phỏng 1000 lần lấy mẫu có kích cỡ 100. Vẽ histogram đại lượng phương sai của các mẫu (Phương sai bằng bình phương độ lệch chuẩn)"
      ]
    },
    {
      "cell_type": "code",
      "execution_count": null,
      "metadata": {
        "colab": {
          "base_uri": "https://localhost:8080/",
          "height": 430
        },
        "id": "aJ0VeQCrGR7B",
        "outputId": "b4a100fb-320a-456d-968f-3f6eb3f0bae0"
      },
      "outputs": [
        {
          "output_type": "display_data",
          "data": {
            "text/plain": [
              "<Figure size 640x480 with 1 Axes>"
            ],
            "image/png": "[encoded data removed]"
          },
          "metadata": {}
        }
      ],
      "source": [
        "sample_var_100 = []\n",
        "for i in range(1000):\n",
        "    height_sample = np.random.choice(height_pop, size=100)\n",
        "    sample_var_100.append(height_sample.var())\n",
        "\n",
        "plt.hist(sample_var_100, bins=30)\n",
        "plt.show()"
      ]
    },
    {
      "cell_type": "markdown",
      "metadata": {
        "id": "bnlJdDClGR7B"
      },
      "source": [
        "### Bài 7:  Bài Tập Ước Lượng\n",
        "\n",
        "Khảo sát cân nặng (kg) của gà khi xuất chuồng, người ta cân một số con và có kết quả như sau:\n",
        "\n",
        "> 2.1, 1.8, 2.0, 2.3, 1.7, 1.5, 2.0, 2.2, 1.8\n",
        "\n",
        "Giả sử cân nặng của gà là biến ngẫu nhiên có phân phối chuẩn. Hãy lập khoảng tin cậy cho cân nặng trung bình của  khi xuất chuồng với độ tin cậy là 95%. Trong 2 trường hợp:\n",
        "\n",
        "a, Biết $\\sigma = 0.3$\n",
        "\n",
        "b, Không biết $\\sigma$\n"
      ]
    },
    {
      "cell_type": "code",
      "execution_count": null,
      "metadata": {
        "id": "vPHKarTeGR7B"
      },
      "outputs": [],
      "source": [
        "kg_chicken = [2.1, 1.8, 2.0, 2.3, 1.7, 1.5, 2.0, 2.2, 1.8]\n",
        "confidence_level = 0.95\n",
        "sigma = 0.3"
      ]
    },
    {
      "cell_type": "code",
      "source": [
        "# a, Biết  σ=0.3\n",
        "alpha = 1 - confidence_level\n",
        "x_bar = np.mean(kg_chicken)\n",
        "\n",
        "z_critical = stats.norm.ppf(1 - alpha / 2)\n",
        "margin_of_error = z_critical * (sigma / np.sqrt(len(kg_chicken)))\n",
        "confidence_interval = (x_bar - margin_of_error, x_bar + margin_of_error)\n",
        "print(confidence_interval)"
      ],
      "metadata": {
        "colab": {
          "base_uri": "https://localhost:8080/"
        },
        "id": "Y6sqpUwrR2H4",
        "outputId": "238050f8-0843-4aeb-85ca-1a53762af74a"
      },
      "execution_count": null,
      "outputs": [
        {
          "output_type": "stream",
          "name": "stdout",
          "text": [
            "(np.float64(1.7373369348793277), np.float64(2.1293297317873385))\n"
          ]
        }
      ]
    },
    {
      "cell_type": "code",
      "source": [
        "# b, Không biết  σ\n",
        "x_bar = np.mean(kg_chicken)\n",
        "s = np.std(kg_chicken, ddof=1)\n",
        "alpha = 1 - confidence_level\n",
        "\n",
        "t_critical = stats.t.ppf(1 - alpha / 2, len(kg_chicken) - 1)\n",
        "margin_of_error = t_critical * (s / np.sqrt(len(kg_chicken)))\n",
        "confidence_interval = (x_bar - margin_of_error, x_bar + margin_of_error)\n",
        "\n",
        "print(confidence_interval)"
      ],
      "metadata": {
        "colab": {
          "base_uri": "https://localhost:8080/"
        },
        "id": "g6FLVe-PQSVu",
        "outputId": "3e4c6a72-1245-4edd-98dd-cce4714a0be1"
      },
      "execution_count": null,
      "outputs": [
        {
          "output_type": "stream",
          "name": "stdout",
          "text": [
            "(np.float64(1.7373606652694715), np.float64(2.129306001397195))\n"
          ]
        }
      ]
    },
    {
      "cell_type": "markdown",
      "metadata": {
        "id": "3H6QU_2aGR7B"
      },
      "source": [
        "### Bài 8\n",
        "\n",
        "Bộ dữ liệu `SAT-lard.csv` chứa điểm thi SAT của 1000 học sinh.\n",
        "\n",
        "a. Giả sử bộ dữ liệu là kết quả của quá trình lấy mẫu ngẫu nhiên từ các học sinh. Bạn hãy xây dựng khoảng tin cậy cho trung bình điểm thi của tất cả các sinh viên với độ tin cậy 99% (`Đáp án: 105.2 ± 3.10`)\n",
        "\n",
        "b. Giả sử bộ dữ liệu là kết quả của quá trình lấy mẫu ngẫu nhiên từ các học sinh. Bạn hãy xây dựng khoảng tin cậy cho trung bình điểm thi của tất cả các sinh viên với độ tin cậy (`Đáp án: 105.2 ± 1.86`)\n",
        "\n",
        "c. Giả sử bộ dữ liệu là toàn bộ kết quả điểm thi SAT của học sinh một trường phố thông. Tính điểm SAT trung bình của trường phổ thông đấy. (`Đáp án:  μ = 1528.74`)\n",
        "\n",
        "d. Giả sử bộ dữ liệu là toàn bộ kết quả điểm thi SAT của học sinh một trường phố thông. Sử dụng mẫu là điểm thi của 36 học sinh đầu tiên trong bộ dữ liệu, bạn hãy xây dựng khoảng tin cậy **99%** cho điểm SAT trung bình của trường phổ thông đấy. (`Đáp án: (1428.22, 1602.89)`)\n",
        "\n",
        "e. Giả sử bộ dữ liệu là toàn bộ kết quả điểm thi SAT của học sinh một trường phố thông. Sử dụng mẫu là điểm thi của 36 học sinh đầu tiên trong bộ dữ liệu, bạn hãy xây dựng khoảng tin cậy **95%** cho điểm SAT trung bình của trường phổ thông đấy. Cho biết khoảng ước lượng bạn xây dựng có đúng không, dựa trên giá trị đã tính ở câu trên."
      ]
    },
    {
      "cell_type": "code",
      "execution_count": null,
      "metadata": {
        "colab": {
          "base_uri": "https://localhost:8080/",
          "height": 424
        },
        "id": "SxODCVN0GR7B",
        "outputId": "e4c56eae-a800-434a-adc9-b5e3fa10b50f"
      },
      "outputs": [
        {
          "output_type": "execute_result",
          "data": {
            "text/plain": [
              "     SAT Score  College GPA\n",
              "0         1300         3.66\n",
              "1         1520         2.92\n",
              "2         1580         2.66\n",
              "3         1430         2.27\n",
              "4         1610         2.35\n",
              "..         ...          ...\n",
              "995       1480         1.47\n",
              "996       1760         3.24\n",
              "997       1780         2.96\n",
              "998       1450         1.72\n",
              "999       1640         3.34\n",
              "\n",
              "[1000 rows x 2 columns]"
            ],
            "text/html": [
              "\n",
              "  <div id=\"df-683a09e1-cfa0-4ac4-8167-4fd385e5bae1\" class=\"colab-df-container\">\n",
              "    <div>\n",
              "<style scoped>\n",
              "    .dataframe tbody tr th:only-of-type {\n",
              "        vertical-align: middle;\n",
              "    }\n",
              "\n",
              "    .dataframe tbody tr th {\n",
              "        vertical-align: top;\n",
              "    }\n",
              "\n",
              "    .dataframe thead th {\n",
              "        text-align: right;\n",
              "    }\n",
              "</style>\n",
              "<table border=\"1\" class=\"dataframe\">\n",
              "  <thead>\n",
              "    <tr style=\"text-align: right;\">\n",
              "      <th></th>\n",
              "      <th>SAT Score</th>\n",
              "      <th>College GPA</th>\n",
              "    </tr>\n",
              "  </thead>\n",
              "  <tbody>\n",
              "    <tr>\n",
              "      <th>0</th>\n",
              "      <td>1300</td>\n",
              "      <td>3.66</td>\n",
              "    </tr>\n",
              "    <tr>\n",
              "      <th>1</th>\n",
              "      <td>1520</td>\n",
              "      <td>2.92</td>\n",
              "    </tr>\n",
              "    <tr>\n",
              "      <th>2</th>\n",
              "      <td>1580</td>\n",
              "      <td>2.66</td>\n",
              "    </tr>\n",
              "    <tr>\n",
              "      <th>3</th>\n",
              "      <td>1430</td>\n",
              "      <td>2.27</td>\n",
              "    </tr>\n",
              "    <tr>\n",
              "      <th>4</th>\n",
              "      <td>1610</td>\n",
              "      <td>2.35</td>\n",
              "    </tr>\n",
              "    <tr>\n",
              "      <th>...</th>\n",
              "      <td>...</td>\n",
              "      <td>...</td>\n",
              "    </tr>\n",
              "    <tr>\n",
              "      <th>995</th>\n",
              "      <td>1480</td>\n",
              "      <td>1.47</td>\n",
              "    </tr>\n",
              "    <tr>\n",
              "      <th>996</th>\n",
              "      <td>1760</td>\n",
              "      <td>3.24</td>\n",
              "    </tr>\n",
              "    <tr>\n",
              "      <th>997</th>\n",
              "      <td>1780</td>\n",
              "      <td>2.96</td>\n",
              "    </tr>\n",
              "    <tr>\n",
              "      <th>998</th>\n",
              "      <td>1450</td>\n",
              "      <td>1.72</td>\n",
              "    </tr>\n",
              "    <tr>\n",
              "      <th>999</th>\n",
              "      <td>1640</td>\n",
              "      <td>3.34</td>\n",
              "    </tr>\n",
              "  </tbody>\n",
              "</table>\n",
              "<p>1000 rows × 2 columns</p>\n",
              "</div>\n",
              "    <div class=\"colab-df-buttons\">\n",
              "\n",
              "  <div class=\"colab-df-container\">\n",
              "    <button class=\"colab-df-convert\" onclick=\"convertToInteractive('df-683a09e1-cfa0-4ac4-8167-4fd385e5bae1')\"\n",
              "            title=\"Convert this dataframe to an interactive table.\"\n",
              "            style=\"display:none;\">\n",
              "\n",
              "  <svg xmlns=\"http://www.w3.org/2000/svg\" height=\"24px\" viewBox=\"0 -960 960 960\">\n",
              "    <path d=\"M120-120v-720h720v720H120Zm60-500h600v-160H180v160Zm220 220h160v-160H400v160Zm0 220h160v-160H400v160ZM180-400h160v-160H180v160Zm440 0h160v-160H620v160ZM180-180h160v-160H180v160Zm440 0h160v-160H620v160Z\"/>\n",
              "  </svg>\n",
              "    </button>\n",
              "\n",
              "  <style>\n",
              "    .colab-df-container {\n",
              "      display:flex;\n",
              "      gap: 12px;\n",
              "    }\n",
              "\n",
              "    .colab-df-convert {\n",
              "      background-color: #E8F0FE;\n",
              "      border: none;\n",
              "      border-radius: 50%;\n",
              "      cursor: pointer;\n",
              "      display: none;\n",
              "      fill: #1967D2;\n",
              "      height: 32px;\n",
              "      padding: 0 0 0 0;\n",
              "      width: 32px;\n",
              "    }\n",
              "\n",
              "    .colab-df-convert:hover {\n",
              "      background-color: #E2EBFA;\n",
              "      box-shadow: 0px 1px 2px rgba(60, 64, 67, 0.3), 0px 1px 3px 1px rgba(60, 64, 67, 0.15);\n",
              "      fill: #174EA6;\n",
              "    }\n",
              "\n",
              "    .colab-df-buttons div {\n",
              "      margin-bottom: 4px;\n",
              "    }\n",
              "\n",
              "    [theme=dark] .colab-df-convert {\n",
              "      background-color: #3B4455;\n",
              "      fill: #D2E3FC;\n",
              "    }\n",
              "\n",
              "    [theme=dark] .colab-df-convert:hover {\n",
              "      background-color: #434B5C;\n",
              "      box-shadow: 0px 1px 3px 1px rgba(0, 0, 0, 0.15);\n",
              "      filter: drop-shadow(0px 1px 2px rgba(0, 0, 0, 0.3));\n",
              "      fill: #FFFFFF;\n",
              "    }\n",
              "  </style>\n",
              "\n",
              "    <script>\n",
              "      const buttonEl =\n",
              "        document.querySelector('#df-683a09e1-cfa0-4ac4-8167-4fd385e5bae1 button.colab-df-convert');\n",
              "      buttonEl.style.display =\n",
              "        google.colab.kernel.accessAllowed ? 'block' : 'none';\n",
              "\n",
              "      async function convertToInteractive(key) {\n",
              "        const element = document.querySelector('#df-683a09e1-cfa0-4ac4-8167-4fd385e5bae1');\n",
              "        const dataTable =\n",
              "          await google.colab.kernel.invokeFunction('convertToInteractive',\n",
              "                                                    [key], {});\n",
              "        if (!dataTable) return;\n",
              "\n",
              "        const docLinkHtml = 'Like what you see? Visit the ' +\n",
              "          '<a target=\"_blank\" href=https://colab.research.google.com/notebooks/data_table.ipynb>data table notebook</a>'\n",
              "          + ' to learn more about interactive tables.';\n",
              "        element.innerHTML = '';\n",
              "        dataTable['output_type'] = 'display_data';\n",
              "        await google.colab.output.renderOutput(dataTable, element);\n",
              "        const docLink = document.createElement('div');\n",
              "        docLink.innerHTML = docLinkHtml;\n",
              "        element.appendChild(docLink);\n",
              "      }\n",
              "    </script>\n",
              "  </div>\n",
              "\n",
              "\n",
              "<div id=\"df-64d7918b-1aad-49af-ab3a-eba063dbb9d7\">\n",
              "  <button class=\"colab-df-quickchart\" onclick=\"quickchart('df-64d7918b-1aad-49af-ab3a-eba063dbb9d7')\"\n",
              "            title=\"Suggest charts\"\n",
              "            style=\"display:none;\">\n",
              "\n",
              "<svg xmlns=\"http://www.w3.org/2000/svg\" height=\"24px\"viewBox=\"0 0 24 24\"\n",
              "     width=\"24px\">\n",
              "    <g>\n",
              "        <path d=\"M19 3H5c-1.1 0-2 .9-2 2v14c0 1.1.9 2 2 2h14c1.1 0 2-.9 2-2V5c0-1.1-.9-2-2-2zM9 17H7v-7h2v7zm4 0h-2V7h2v10zm4 0h-2v-4h2v4z\"/>\n",
              "    </g>\n",
              "</svg>\n",
              "  </button>\n",
              "\n",
              "<style>\n",
              "  .colab-df-quickchart {\n",
              "      --bg-color: #E8F0FE;\n",
              "      --fill-color: #1967D2;\n",
              "      --hover-bg-color: #E2EBFA;\n",
              "      --hover-fill-color: #174EA6;\n",
              "      --disabled-fill-color: #AAA;\n",
              "      --disabled-bg-color: #DDD;\n",
              "  }\n",
              "\n",
              "  [theme=dark] .colab-df-quickchart {\n",
              "      --bg-color: #3B4455;\n",
              "      --fill-color: #D2E3FC;\n",
              "      --hover-bg-color: #434B5C;\n",
              "      --hover-fill-color: #FFFFFF;\n",
              "      --disabled-bg-color: #3B4455;\n",
              "      --disabled-fill-color: #666;\n",
              "  }\n",
              "\n",
              "  .colab-df-quickchart {\n",
              "    background-color: var(--bg-color);\n",
              "    border: none;\n",
              "    border-radius: 50%;\n",
              "    cursor: pointer;\n",
              "    display: none;\n",
              "    fill: var(--fill-color);\n",
              "    height: 32px;\n",
              "    padding: 0;\n",
              "    width: 32px;\n",
              "  }\n",
              "\n",
              "  .colab-df-quickchart:hover {\n",
              "    background-color: var(--hover-bg-color);\n",
              "    box-shadow: 0 1px 2px rgba(60, 64, 67, 0.3), 0 1px 3px 1px rgba(60, 64, 67, 0.15);\n",
              "    fill: var(--button-hover-fill-color);\n",
              "  }\n",
              "\n",
              "  .colab-df-quickchart-complete:disabled,\n",
              "  .colab-df-quickchart-complete:disabled:hover {\n",
              "    background-color: var(--disabled-bg-color);\n",
              "    fill: var(--disabled-fill-color);\n",
              "    box-shadow: none;\n",
              "  }\n",
              "\n",
              "  .colab-df-spinner {\n",
              "    border: 2px solid var(--fill-color);\n",
              "    border-color: transparent;\n",
              "    border-bottom-color: var(--fill-color);\n",
              "    animation:\n",
              "      spin 1s steps(1) infinite;\n",
              "  }\n",
              "\n",
              "  @keyframes spin {\n",
              "    0% {\n",
              "      border-color: transparent;\n",
              "      border-bottom-color: var(--fill-color);\n",
              "      border-left-color: var(--fill-color);\n",
              "    }\n",
              "    20% {\n",
              "      border-color: transparent;\n",
              "      border-left-color: var(--fill-color);\n",
              "      border-top-color: var(--fill-color);\n",
              "    }\n",
              "    30% {\n",
              "      border-color: transparent;\n",
              "      border-left-color: var(--fill-color);\n",
              "      border-top-color: var(--fill-color);\n",
              "      border-right-color: var(--fill-color);\n",
              "    }\n",
              "    40% {\n",
              "      border-color: transparent;\n",
              "      border-right-color: var(--fill-color);\n",
              "      border-top-color: var(--fill-color);\n",
              "    }\n",
              "    60% {\n",
              "      border-color: transparent;\n",
              "      border-right-color: var(--fill-color);\n",
              "    }\n",
              "    80% {\n",
              "      border-color: transparent;\n",
              "      border-right-color: var(--fill-color);\n",
              "      border-bottom-color: var(--fill-color);\n",
              "    }\n",
              "    90% {\n",
              "      border-color: transparent;\n",
              "      border-bottom-color: var(--fill-color);\n",
              "    }\n",
              "  }\n",
              "</style>\n",
              "\n",
              "  <script>\n",
              "    async function quickchart(key) {\n",
              "      const quickchartButtonEl =\n",
              "        document.querySelector('#' + key + ' button');\n",
              "      quickchartButtonEl.disabled = true;  // To prevent multiple clicks.\n",
              "      quickchartButtonEl.classList.add('colab-df-spinner');\n",
              "      try {\n",
              "        const charts = await google.colab.kernel.invokeFunction(\n",
              "            'suggestCharts', [key], {});\n",
              "      } catch (error) {\n",
              "        console.error('Error during call to suggestCharts:', error);\n",
              "      }\n",
              "      quickchartButtonEl.classList.remove('colab-df-spinner');\n",
              "      quickchartButtonEl.classList.add('colab-df-quickchart-complete');\n",
              "    }\n",
              "    (() => {\n",
              "      let quickchartButtonEl =\n",
              "        document.querySelector('#df-64d7918b-1aad-49af-ab3a-eba063dbb9d7 button');\n",
              "      quickchartButtonEl.style.display =\n",
              "        google.colab.kernel.accessAllowed ? 'block' : 'none';\n",
              "    })();\n",
              "  </script>\n",
              "</div>\n",
              "\n",
              "  <div id=\"id_f5be7b5e-0392-4bdf-8eb7-50cc3e31a593\">\n",
              "    <style>\n",
              "      .colab-df-generate {\n",
              "        background-color: #E8F0FE;\n",
              "        border: none;\n",
              "        border-radius: 50%;\n",
              "        cursor: pointer;\n",
              "        display: none;\n",
              "        fill: #1967D2;\n",
              "        height: 32px;\n",
              "        padding: 0 0 0 0;\n",
              "        width: 32px;\n",
              "      }\n",
              "\n",
              "      .colab-df-generate:hover {\n",
              "        background-color: #E2EBFA;\n",
              "        box-shadow: 0px 1px 2px rgba(60, 64, 67, 0.3), 0px 1px 3px 1px rgba(60, 64, 67, 0.15);\n",
              "        fill: #174EA6;\n",
              "      }\n",
              "\n",
              "      [theme=dark] .colab-df-generate {\n",
              "        background-color: #3B4455;\n",
              "        fill: #D2E3FC;\n",
              "      }\n",
              "\n",
              "      [theme=dark] .colab-df-generate:hover {\n",
              "        background-color: #434B5C;\n",
              "        box-shadow: 0px 1px 3px 1px rgba(0, 0, 0, 0.15);\n",
              "        filter: drop-shadow(0px 1px 2px rgba(0, 0, 0, 0.3));\n",
              "        fill: #FFFFFF;\n",
              "      }\n",
              "    </style>\n",
              "    <button class=\"colab-df-generate\" onclick=\"generateWithVariable('df')\"\n",
              "            title=\"Generate code using this dataframe.\"\n",
              "            style=\"display:none;\">\n",
              "\n",
              "  <svg xmlns=\"http://www.w3.org/2000/svg\" height=\"24px\"viewBox=\"0 0 24 24\"\n",
              "       width=\"24px\">\n",
              "    <path d=\"M7,19H8.4L18.45,9,17,7.55,7,17.6ZM5,21V16.75L18.45,3.32a2,2,0,0,1,2.83,0l1.4,1.43a1.91,1.91,0,0,1,.58,1.4,1.91,1.91,0,0,1-.58,1.4L9.25,21ZM18.45,9,17,7.55Zm-12,3A5.31,5.31,0,0,0,4.9,8.1,5.31,5.31,0,0,0,1,6.5,5.31,5.31,0,0,0,4.9,4.9,5.31,5.31,0,0,0,6.5,1,5.31,5.31,0,0,0,8.1,4.9,5.31,5.31,0,0,0,12,6.5,5.46,5.46,0,0,0,6.5,12Z\"/>\n",
              "  </svg>\n",
              "    </button>\n",
              "    <script>\n",
              "      (() => {\n",
              "      const buttonEl =\n",
              "        document.querySelector('#id_f5be7b5e-0392-4bdf-8eb7-50cc3e31a593 button.colab-df-generate');\n",
              "      buttonEl.style.display =\n",
              "        google.colab.kernel.accessAllowed ? 'block' : 'none';\n",
              "\n",
              "      buttonEl.onclick = () => {\n",
              "        google.colab.notebook.generateWithVariable('df');\n",
              "      }\n",
              "      })();\n",
              "    </script>\n",
              "  </div>\n",
              "\n",
              "    </div>\n",
              "  </div>\n"
            ],
            "application/vnd.google.colaboratory.intrinsic+json": {
              "type": "dataframe",
              "variable_name": "df",
              "summary": "{\n  \"name\": \"df\",\n  \"rows\": 1000,\n  \"fields\": [\n    {\n      \"column\": \"SAT Score\",\n      \"properties\": {\n        \"dtype\": \"number\",\n        \"std\": 212,\n        \"min\": 780,\n        \"max\": 2130,\n        \"num_unique_values\": 75,\n        \"samples\": [\n          1610,\n          1090,\n          1870\n        ],\n        \"semantic_type\": \"\",\n        \"description\": \"\"\n      }\n    },\n    {\n      \"column\": \"College GPA\",\n      \"properties\": {\n        \"dtype\": \"number\",\n        \"std\": 0.7407453686667245,\n        \"min\": 0.0,\n        \"max\": 4.0,\n        \"num_unique_values\": 293,\n        \"samples\": [\n          3.43,\n          3.45,\n          3.8\n        ],\n        \"semantic_type\": \"\",\n        \"description\": \"\"\n      }\n    }\n  ]\n}"
            }
          },
          "metadata": {},
          "execution_count": 44
        }
      ],
      "source": [
        "import pandas as pd\n",
        "df = pd.read_csv('SAT-lard.csv')\n",
        "df"
      ]
    },
    {
      "cell_type": "code",
      "source": [
        "# a. Giả sử bộ dữ liệu là kết quả của quá trình lấy mẫu ngẫu nhiên từ các học sinh. Bạn hãy xây dựng khoảng tin cậy cho trung bình điểm thi của tất cả các sinh viên với độ tin cậy 99% (Đáp án: 105.2 ± 3.10)\n",
        "confidence_level = 0.99\n",
        "\n",
        "x_bar = df['SAT Score'].mean()\n",
        "s = df['SAT Score'].std(ddof=1)\n",
        "alpha = 1 - confidence_level\n",
        "\n",
        "t_critical = stats.t.ppf(1 - alpha / 2, len(df['SAT Score']) - 1)\n",
        "margin_of_error = t_critical * (s / np.sqrt(len(df['SAT Score'])))\n",
        "confidence_interval = (x_bar - margin_of_error, x_bar + margin_of_error)\n",
        "\n",
        "print(confidence_interval)"
      ],
      "metadata": {
        "colab": {
          "base_uri": "https://localhost:8080/"
        },
        "id": "h-LUe5VvSzTO",
        "outputId": "a833c252-75ba-4051-8aae-8b89ede4caf5"
      },
      "execution_count": null,
      "outputs": [
        {
          "output_type": "stream",
          "name": "stdout",
          "text": [
            "(np.float64(1511.3939951002396), np.float64(1546.0860048997604))\n"
          ]
        }
      ]
    },
    {
      "cell_type": "code",
      "source": [
        "# b. Giả sử bộ dữ liệu là kết quả của quá trình lấy mẫu ngẫu nhiên từ các học sinh. Bạn hãy xây dựng khoảng tin cậy cho trung bình điểm thi của tất cả các sinh viên với độ tin cậy (Đáp án: 105.2 ± 1.86)\n",
        "confidence_level = 0.95\n",
        "\n",
        "x_bar = df['SAT Score'].mean()\n",
        "s = df['SAT Score'].std(ddof=1)\n",
        "alpha = 1 - confidence_level\n",
        "\n",
        "t_critical = stats.t.ppf(1 - alpha / 2, len(df['SAT Score']) - 1)\n",
        "margin_of_error = t_critical * (s / np.sqrt(len(df['SAT Score'])))\n",
        "confidence_interval = (x_bar - margin_of_error, x_bar + margin_of_error)\n",
        "\n",
        "print(confidence_interval)"
      ],
      "metadata": {
        "colab": {
          "base_uri": "https://localhost:8080/"
        },
        "id": "lRsoPtWgU19g",
        "outputId": "7209243c-71f7-4dbb-a15d-ccf1e9027161"
      },
      "execution_count": null,
      "outputs": [
        {
          "output_type": "stream",
          "name": "stdout",
          "text": [
            "(np.float64(1515.550556043932), np.float64(1541.929443956068))\n"
          ]
        }
      ]
    },
    {
      "cell_type": "code",
      "source": [
        "# c. Giả sử bộ dữ liệu là toàn bộ kết quả điểm thi SAT của học sinh một trường phố thông. Tính điểm SAT trung bình của trường phổ thông đấy. (Đáp án: μ = 1528.74)\n",
        "df['SAT Score'].mean()"
      ],
      "metadata": {
        "colab": {
          "base_uri": "https://localhost:8080/"
        },
        "id": "nHnHozNCVMcI",
        "outputId": "b4bfdd3e-5473-4066-921d-15b71a720915"
      },
      "execution_count": null,
      "outputs": [
        {
          "output_type": "execute_result",
          "data": {
            "text/plain": [
              "np.float64(1528.74)"
            ]
          },
          "metadata": {},
          "execution_count": 49
        }
      ]
    },
    {
      "cell_type": "markdown",
      "metadata": {
        "id": "Q5yJe_mpGR7B"
      },
      "source": [
        "---"
      ]
    },
    {
      "cell_type": "code",
      "source": [
        "# d. Giả sử bộ dữ liệu là toàn bộ kết quả điểm thi SAT của học sinh một trường phố thông. Sử dụng mẫu là điểm thi của 36 học sinh đầu tiên trong bộ dữ liệu, bạn hãy xây dựng khoảng tin cậy 99% cho điểm SAT trung bình của trường phổ thông đấy. (Đáp án: (1428.22, 1602.89))\n",
        "dfSAT36 = df['SAT Score'].head(36)\n",
        "dfSAT36\n",
        "\n",
        "confidence_level = 0.99\n",
        "x_bar = dfSAT36.mean()\n",
        "s = dfSAT36.std(ddof=1)\n",
        "alpha = 1 - confidence_level\n",
        "\n",
        "t_critical = stats.t.ppf(1 - alpha / 2, len(dfSAT36) - 1)\n",
        "margin_of_error = t_critical * (s / np.sqrt(len(dfSAT36)))\n",
        "confidence_interval = (x_bar - margin_of_error, x_bar + margin_of_error)\n",
        "\n",
        "print(confidence_interval) # (Đáp án: (1428.22, 1602.89))"
      ],
      "metadata": {
        "colab": {
          "base_uri": "https://localhost:8080/"
        },
        "id": "jT0_MOfRVeVf",
        "outputId": "02dcd716-3ebc-4f69-db07-5759749a2e72"
      },
      "execution_count": null,
      "outputs": [
        {
          "output_type": "stream",
          "name": "stdout",
          "text": [
            "(np.float64(1423.171232801838), np.float64(1607.9398783092734))\n"
          ]
        }
      ]
    },
    {
      "cell_type": "code",
      "source": [
        "# e. Giả sử bộ dữ liệu là toàn bộ kết quả điểm thi SAT của học sinh một trường phố thông. Sử dụng mẫu là điểm thi của 36 học sinh đầu tiên trong bộ dữ liệu, bạn hãy xây dựng khoảng tin cậy 95% cho điểm SAT trung bình của trường phổ thông đấy. Cho biết khoảng ước lượng bạn xây dựng có đúng không, dựa trên giá trị đã tính ở câu trên.\n",
        "dfSAT36 = df['SAT Score'].head(36)\n",
        "dfSAT36\n",
        "\n",
        "confidence_level = 0.95\n",
        "x_bar = dfSAT36.mean()\n",
        "s = dfSAT36.std(ddof=1)\n",
        "alpha = 1 - confidence_level\n",
        "\n",
        "t_critical = stats.t.ppf(1 - alpha / 2, len(dfSAT36) - 1)\n",
        "margin_of_error = t_critical * (s / np.sqrt(len(dfSAT36)))\n",
        "confidence_interval = (x_bar - margin_of_error, x_bar + margin_of_error)\n",
        "\n",
        "print(confidence_interval) # (Đáp án: (1428.22, 1602.89))"
      ],
      "metadata": {
        "colab": {
          "base_uri": "https://localhost:8080/"
        },
        "id": "ib6TqcNwVfgO",
        "outputId": "675fd9c0-56df-4ccc-d313-5979501cf377"
      },
      "execution_count": null,
      "outputs": [
        {
          "output_type": "stream",
          "name": "stdout",
          "text": [
            "(np.float64(1446.6996332344288), np.float64(1584.4114778766825))\n"
          ]
        }
      ]
    }
  ],
  "metadata": {
    "kernelspec": {
      "display_name": "Python 3 (ipykernel)",
      "language": "python",
      "name": "python3"
    },
    "language_info": {
      "codemirror_mode": {
        "name": "ipython",
        "version": 3
      },
      "file_extension": ".py",
      "mimetype": "text/x-python",
      "name": "python",
      "nbconvert_exporter": "python",
      "pygments_lexer": "ipython3",
      "version": "3.9.7"
    },
    "colab": {
      "provenance": []
    }
  },
  "nbformat": 4,
  "nbformat_minor": 0
}