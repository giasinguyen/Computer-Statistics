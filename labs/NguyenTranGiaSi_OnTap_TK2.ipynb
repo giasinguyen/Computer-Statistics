{
 "cells": [
  {
   "cell_type": "markdown",
   "id": "cc9bcef7",
   "metadata": {},
   "source": [
    "# Nguyễn Trần Gia Sĩ"
   ]
  },
  {
   "cell_type": "code",
   "execution_count": 1,
   "id": "780db67a",
   "metadata": {},
   "outputs": [],
   "source": [
    "import pandas as pd\n",
    "import numpy as np\n",
    "import matplotlib.pyplot as plt\n",
    "import seaborn as sns\n",
    "import scipy.stats as stats\n"
   ]
  },
  {
   "cell_type": "markdown",
   "id": "cf569578",
   "metadata": {},
   "source": [
    "Trường hợp n < 30:\n",
    "\n",
    "Không biết σ (hoặc phương sai):\n",
    "Sử dụng phân phối t của Student với số bậc tự do là n – 1. Phân phối t có hình dạng “dày đuôi” hơn phân phối chuẩn, giúp bù đắp cho sự không chắc chắn khi ước lượng σ từ mẫu.\n",
    "\n",
    "Biết σ (hoặc phương sai):\n",
    "Sử dụng phân phối chuẩn (phân phối Z) vì đã có giá trị chính xác của độ lệch chuẩn tổng thể.\n",
    "\n",
    "Trường hợp n > 30:\n",
    "\n",
    "Không biết σ (hoặc phương sai):\n",
    "Dựa vào định lý giới hạn trung tâm (CLT), mẫu có kích thước lớn cho phép ước lượng trung bình mẫu xấp xỉ theo phân phối chuẩn. Do đó, mặc dù không biết σ, ta có thể sử dụng phân phối chuẩn cho trung bình mẫu.\n",
    "\n",
    "Tóm lại, lựa chọn phân phối được xác định như sau:\n",
    "\n",
    "n < 30, không biết σ: Sử dụng phân phối t.\n",
    "\n",
    "n < 30, biết σ: Sử dụng phân phối chuẩn.\n",
    "\n",
    "n > 30, không biết σ: Sử dụng phân phối chuẩn."
   ]
  },
  {
   "cell_type": "code",
   "execution_count": 2,
   "id": "e7d47ae9",
   "metadata": {},
   "outputs": [
    {
     "data": {
      "text/html": [
       "<div>\n",
       "<style scoped>\n",
       "    .dataframe tbody tr th:only-of-type {\n",
       "        vertical-align: middle;\n",
       "    }\n",
       "\n",
       "    .dataframe tbody tr th {\n",
       "        vertical-align: top;\n",
       "    }\n",
       "\n",
       "    .dataframe thead th {\n",
       "        text-align: right;\n",
       "    }\n",
       "</style>\n",
       "<table border=\"1\" class=\"dataframe\">\n",
       "  <thead>\n",
       "    <tr style=\"text-align: right;\">\n",
       "      <th></th>\n",
       "      <th>Id</th>\n",
       "      <th>age</th>\n",
       "      <th>bmi</th>\n",
       "    </tr>\n",
       "  </thead>\n",
       "  <tbody>\n",
       "    <tr>\n",
       "      <th>0</th>\n",
       "      <td>1</td>\n",
       "      <td>79</td>\n",
       "      <td>24.72</td>\n",
       "    </tr>\n",
       "    <tr>\n",
       "      <th>1</th>\n",
       "      <td>2</td>\n",
       "      <td>89</td>\n",
       "      <td>25.99</td>\n",
       "    </tr>\n",
       "    <tr>\n",
       "      <th>2</th>\n",
       "      <td>3</td>\n",
       "      <td>70</td>\n",
       "      <td>25.39</td>\n",
       "    </tr>\n",
       "    <tr>\n",
       "      <th>3</th>\n",
       "      <td>4</td>\n",
       "      <td>88</td>\n",
       "      <td>23.22</td>\n",
       "    </tr>\n",
       "    <tr>\n",
       "      <th>4</th>\n",
       "      <td>5</td>\n",
       "      <td>85</td>\n",
       "      <td>24.61</td>\n",
       "    </tr>\n",
       "  </tbody>\n",
       "</table>\n",
       "</div>"
      ],
      "text/plain": [
       "   Id  age    bmi\n",
       "0   1   79  24.72\n",
       "1   2   89  25.99\n",
       "2   3   70  25.39\n",
       "3   4   88  23.22\n",
       "4   5   85  24.61"
      ]
     },
     "execution_count": 2,
     "metadata": {},
     "output_type": "execute_result"
    }
   ],
   "source": [
    "df = pd.read_csv('../data/dataset01.csv')\n",
    "df.columns\n",
    "df.shape\n",
    "df.head(5)"
   ]
  },
  {
   "cell_type": "markdown",
   "id": "8753df61",
   "metadata": {},
   "source": [
    "Phần 1:  Khảo sát độ tuổi của một nhóm nghiên cứu dựa vào cột age của dataset trên  \n",
    "- a. Sống thọ là độ tuổi lớn hơn 75 tuổi. Hãy tìm khoảng ước lượng cho tỷ lệ sống thọ với độ tin cậy 90% \n"
   ]
  },
  {
   "cell_type": "code",
   "execution_count": 10,
   "id": "62109e40",
   "metadata": {},
   "outputs": [
    {
     "name": "stdout",
     "output_type": "stream",
     "text": [
      "Xác suất sống thọ trên 75 tuổi là 40.00%\n",
      "1.6448536269514722\n",
      "Khoảng tin cậy 90% cho xác suất sống thọ trên 75 tuổi là (21.98%, 58.02%)\n"
     ]
    }
   ],
   "source": [
    "soTuoiSongTho = df[df['age'] > 75].shape[0]\n",
    "n = df.shape[0]\n",
    "p_hat = soTuoiSongTho / n\n",
    "print(f\"Xác suất sống thọ trên 75 tuổi là {p_hat:.2%}\")\n",
    "\n",
    "# Tính toán khoảng tin cậy cho xác suất sống thọ trên 75 tuổi\n",
    "alpha = 0.1\n",
    "z_value = stats.norm.ppf(1 - alpha / 2)\n",
    "\n",
    "margin_of_error = z_value * np.sqrt((p_hat * (1 - p_hat)) / n)\n",
    "lower_bound = p_hat - margin_of_error\n",
    "upper_bound = p_hat + margin_of_error\n",
    "print(z_value)\n",
    "print(f\"Khoảng tin cậy 90% cho xác suất sống thọ trên 75 tuổi là ({lower_bound:.2%}, {upper_bound:.2%})\")\n",
    "\n",
    "\n"
   ]
  },
  {
   "cell_type": "code",
   "execution_count": 4,
   "id": "0a3ae2ea",
   "metadata": {},
   "outputs": [
    {
     "name": "stdout",
     "output_type": "stream",
     "text": [
      "X = 8, n = 20, p_hat = 0.4000\n",
      "z_value = 1.6449\n",
      "90% Confidence interval: (0.2198, 0.5802)\n",
      "90% Confidence interval percentage: (22.0%, 58.0%)\n",
      "\n",
      "Kiểm tra điều kiện áp dụng:\n",
      "n*p_hat = 8.0 ≥ 5: True\n",
      "n*(1-p_hat) = 12.0 ≥ 5: True\n"
     ]
    }
   ],
   "source": [
    "# 1. Bản chất của tham số cần ước lượng\n",
    "# Phân phối t được dùng để ước lượng giá trị trung bình của quần thể\n",
    "# Phân phối chuẩn Z được dùng để ước lượng tỷ lệ trong quần thể\n",
    "# Bước 1: Xác định số người sống thọ (tuổi > 75) và tính tỷ lệ mẫu\n",
    "soTuoi75 = df[df['age'] > 75].shape[0]\n",
    "n = df.shape[0]\n",
    "p_hat = soTuoi75 / n\n",
    "\n",
    "print(f\"X = {soTuoi75}, n = {n}, p_hat = {p_hat:.4f}\")\n",
    "\n",
    "# Bước 2: Xác định mức ý nghĩa và giá trị z tương ứng\n",
    "alpha = 0.1  # Độ tin cậy 90% → α = 0.1\n",
    "z_value = stats.norm.ppf(1 - alpha / 2)  # Giá trị z cho khoảng tin cậy 90%\n",
    "print(f\"z_value = {z_value:.4f}\")\n",
    "\n",
    "# Bước 3: Tính khoảng ước lượng\n",
    "# Công thức: p_hat ± z_value * sqrt(p_hat * (1 - p_hat) / n)\n",
    "margin_of_error = z_value * np.sqrt(p_hat * (1 - p_hat) / n)\n",
    "lower_bound = p_hat - margin_of_error\n",
    "upper_bound = p_hat + margin_of_error\n",
    "\n",
    "# Bước 4: In kết quả\n",
    "print(f\"90% Confidence interval: ({lower_bound:.4f}, {upper_bound:.4f})\")\n",
    "print(f\"90% Confidence interval percentage: ({lower_bound*100:.1f}%, {upper_bound*100:.1f}%)\")\n",
    "\n",
    "# Kiểm tra điều kiện áp dụng xấp xỉ chuẩn\n",
    "print(\"\\nKiểm tra điều kiện áp dụng:\")\n",
    "print(f\"n*p_hat = {n*p_hat:.1f} ≥ 5: {n*p_hat >= 5}\")\n",
    "print(f\"n*(1-p_hat) = {n*(1-p_hat):.1f} ≥ 5: {n*(1-p_hat) >= 5}\")"
   ]
  },
  {
   "cell_type": "markdown",
   "id": "5084fca9",
   "metadata": {},
   "source": [
    "- b. Tìm khoảng ước lượng cho độ tuổi trung bình của khảo sát với độ tin cậy 95% "
   ]
  },
  {
   "cell_type": "code",
   "execution_count": 9,
   "id": "76ce199c",
   "metadata": {},
   "outputs": [
    {
     "name": "stdout",
     "output_type": "stream",
     "text": [
      "t_value = 2.0930\n",
      "margin_of_error = 3.3332\n",
      "confidence_interval = (70.91677510510326, 77.58322489489674)\n"
     ]
    }
   ],
   "source": [
    "n = df.shape[0]\n",
    "mean = df['age'].mean()\n",
    "std = df['age'].std()\n",
    "\n",
    "alpha = 0.05\n",
    "t_value = stats.t.ppf(1 - alpha / 2, n - 1)\n",
    "print(f\"t_value = {t_value:.4f}\")\n",
    "\n",
    "margin_of_error = t_value * (std / np.sqrt(n))\n",
    "print(f\"margin_of_error = {margin_of_error:.4f}\")\n",
    "confidence_interval = (mean - margin_of_error, mean + margin_of_error)\n",
    "print(f\"confidence_interval = {confidence_interval}\")"
   ]
  },
  {
   "cell_type": "code",
   "execution_count": 13,
   "id": "a001bd6a",
   "metadata": {},
   "outputs": [
    {
     "name": "stdout",
     "output_type": "stream",
     "text": [
      "90% Confidence interval: (70.9168, 77.5832)\n"
     ]
    }
   ],
   "source": [
    "n = df.shape[0]\n",
    "mean_age = df['age'].mean()\n",
    "std_age = df['age'].std()\n",
    "\n",
    "alpha = 0.05 # Độ tin cậy 95% → α = 0.05\n",
    "t_value = stats.t.ppf(1 - alpha / 2, n - 1)  \n",
    "\n",
    "margin_of_error = t_value * (std_age / np.sqrt(n))\n",
    "lower_bound = mean_age - margin_of_error\n",
    "upper_bound = mean_age + margin_of_error\n",
    "# In kết quả\n",
    "print(f\"90% Confidence interval: ({lower_bound:.4f}, {upper_bound:.4f})\")"
   ]
  },
  {
   "cell_type": "code",
   "execution_count": 12,
   "id": "350cfca6",
   "metadata": {},
   "outputs": [
    {
     "name": "stdout",
     "output_type": "stream",
     "text": [
      "z_value = 1.9600\n",
      "95% Confidence interval: (72.0587, 76.4413)\n"
     ]
    }
   ],
   "source": [
    "n = df.shape[0]\n",
    "mean_age = df['age'].mean()\n",
    "# Giả sử biết sigma = 5 (ví dụ), thay bằng giá trị sigma thực tế nếu có\n",
    "known_sigma = 5  \n",
    "\n",
    "# Độ tin cậy 95% → α = 0.05\n",
    "alpha = 0.05  \n",
    "\n",
    "# Sử dụng phân phối chuẩn Z khi biết sigma\n",
    "z_value = stats.norm.ppf(1 - alpha / 2)  # Giá trị z cho khoảng tin cậy 95%\n",
    "print(f\"z_value = {z_value:.4f}\")\n",
    "\n",
    "margin_of_error = z_value * (known_sigma / np.sqrt(n))\n",
    "lower_bound = mean_age - margin_of_error\n",
    "upper_bound = mean_age + margin_of_error\n",
    "\n",
    "# In kết quả\n",
    "print(f\"95% Confidence interval: ({lower_bound:.4f}, {upper_bound:.4f})\")"
   ]
  },
  {
   "cell_type": "markdown",
   "id": "fc5767b3",
   "metadata": {},
   "source": [
    "- c. Khảo sát về độ tuổi trung bình của nhóm khảo sát trên của tổ chức A và nói rằng: “Độ tuổi trung bình của nhóm khảo sát là 72 tuổi”. Ý kiến của tổ chức A có phù hợp với  kết quả tính toán của bạn ở câu b hay không?  \n"
   ]
  },
  {
   "cell_type": "code",
   "execution_count": 7,
   "id": "5d2a3242",
   "metadata": {},
   "outputs": [
    {
     "name": "stdout",
     "output_type": "stream",
     "text": [
      "Độ tuổi trung bình thực tế của mẫu: 74.2500\n",
      "Khoảng tin cậy 95%: (70.9168, 77.5832)\n",
      "Giá trị 72 có nằm trong khoảng tin cậy 95%: True\n"
     ]
    }
   ],
   "source": [
    "# Tính tuổi trung bình thực tế từ mẫu\n",
    "mean_age = df['age'].mean()\n",
    "print(f\"Độ tuổi trung bình thực tế của mẫu: {mean_age:.4f}\")\n",
    "\n",
    "# Truy xuất khoảng tin cậy 95% đã tính ở câu b\n",
    "# Sử dụng khoảng tin cậy với phân phối t vì không biết sigma quần thể\n",
    "n = df.shape[0]\n",
    "std_age = df['age'].std()\n",
    "alpha = 0.05  # Độ tin cậy 95%\n",
    "t_value = stats.t.ppf(1 - alpha / 2, n - 1)\n",
    "margin_of_error = t_value * (std_age / np.sqrt(n))\n",
    "lower_bound = mean_age - margin_of_error\n",
    "upper_bound = mean_age + margin_of_error\n",
    "\n",
    "print(f\"Khoảng tin cậy 95%: ({lower_bound:.4f}, {upper_bound:.4f})\")\n",
    "\n",
    "# Kiểm tra xem giá trị 72 có nằm trong khoảng tin cậy không\n",
    "print(f\"Giá trị 72 có nằm trong khoảng tin cậy 95%: {lower_bound <= 72 <= upper_bound}\")"
   ]
  },
  {
   "cell_type": "markdown",
   "id": "3d5da43b",
   "metadata": {},
   "source": [
    "Giá trị 72 mà tổ chức A đưa ra nằm trong khoảng tin cậy 95% đã tính được ở câu b. Điều này có nghĩa là không có đủ bằng chứng thống kê để bác bỏ giả thuyết rằng độ tuổi trung bình thật sự của quần thể là 72.\n",
    "\n",
    "Do đó, tôi kết luận rằng ý kiến của tổ chức A về độ tuổi trung bình 72 tuổi là phù hợp với kết quả tính toán của chúng ta, mặc dù giá trị điểm ước lượng từ mẫu (74.75) cao hơn một chút so với giá trị mà tổ chức A đưa ra."
   ]
  },
  {
   "cell_type": "markdown",
   "id": "689c9e30",
   "metadata": {},
   "source": [
    "- d. Bạn hãy viết công thức tính sai số ước lượng trung bình mẫu khi lấy mẫu kích thước n \n",
    "người (n>30)."
   ]
  },
  {
   "cell_type": "code",
   "execution_count": 14,
   "id": "8c3736b3",
   "metadata": {},
   "outputs": [
    {
     "name": "stdout",
     "output_type": "stream",
     "text": [
      "Khoảng tin cậy 95%: (72.0429, 76.4571)\n"
     ]
    }
   ],
   "source": [
    "n = 40;\n",
    "mean_age = df['age'].mean()\n",
    "std_age = df['age'].std()\n",
    "alpha = 0.05  # Độ tin cậy 95%\n",
    "\n",
    "z_value = stats.norm.ppf(1 - alpha / 2)  # Giá trị z cho khoảng tin cậy 95%\n",
    "margin_of_error = z_value * (std_age / np.sqrt(n))\n",
    "lower_bound = mean_age - margin_of_error\n",
    "upper_bound = mean_age + margin_of_error\n",
    "print(f\"Khoảng tin cậy 95%: ({lower_bound:.4f}, {upper_bound:.4f})\")"
   ]
  },
  {
   "cell_type": "markdown",
   "id": "53edb69a",
   "metadata": {},
   "source": [
    "### Công thức tính sai số ước lượng trung bình mẫu (n > 30)\n",
    "\n",
    "Giả sử:\n",
    "- $\\sigma$: độ lệch chuẩn của tổng thể (nếu biết),\n",
    "- $s$: độ lệch chuẩn của mẫu (nếu không biết $\\sigma$),\n",
    "- $n$: kích thước mẫu (n > 30)\n",
    "\n",
    "Khi **biết $\\sigma$**, sai số ước lượng là:\n",
    "\n",
    "$$\n",
    "SE = \\frac{\\sigma}{\\sqrt{n}}\n",
    "$$\n",
    "\n",
    "Khi **không biết $\\sigma$**, dùng độ lệch chuẩn mẫu $s$ để ước lượng:\n",
    "\n",
    "$$\n",
    "SE = \\frac{s}{\\sqrt{n}}\n",
    "$$\n"
   ]
  },
  {
   "cell_type": "markdown",
   "id": "259c6878",
   "metadata": {},
   "source": [
    "# CÁCH 2"
   ]
  },
  {
   "cell_type": "markdown",
   "id": "fac97532",
   "metadata": {},
   "source": [
    "\n",
    "\"\"\"\n",
    "Khi kích thước mẫu n > 30, dựa vào định lý giới hạn trung tâm (CLT), \n",
    "ta có công thức tính sai số chuẩn (standard error) của trung bình mẫu:\n",
    "\n",
    "1) Trường hợp biết độ lệch chuẩn của quần thể σ:\n",
    "   SE = σ / √n\n",
    "   \n",
    "   Trong đó:\n",
    "   - SE: Sai số chuẩn của trung bình mẫu\n",
    "   - σ: Độ lệch chuẩn của quần thể\n",
    "   - n: Kích thước mẫu\n",
    "\n",
    "2) Trường hợp không biết độ lệch chuẩn của quần thể:\n",
    "   SE = s / √n\n",
    "   \n",
    "   Trong đó:\n",
    "   - SE: Sai số chuẩn của trung bình mẫu\n",
    "   - s: Độ lệch chuẩn của mẫu (ước lượng của σ)\n",
    "   - n: Kích thước mẫu\n",
    "\n",
    "3) Khoảng tin cậy (1-α) cho giá trị trung bình:\n",
    "   x̄ ± z_(α/2) × SE\n",
    "   \n",
    "   Trong đó:\n",
    "   - x̄: Giá trị trung bình mẫu\n",
    "   - z_(α/2): Giá trị z tương ứng với mức ý nghĩa α/2\n",
    "\"\"\""
   ]
  },
  {
   "cell_type": "markdown",
   "id": "4a34bd01",
   "metadata": {},
   "source": [
    "Phần 2: (10.0 điểm) - Cột điểm thực hành số 2 \n",
    "Vẫn sử dụng dataset trên cho khảo sát.  \n",
    "- a. Bạn hãy kiểm định giả thuyết “Tuổi thọ trung bình của nhóm khảo sát thấp hơn 76 \n",
    "tuổi” với mức ý nghĩa 5% với độ lệch chuẩn của 2.5 tuổi và không biết độ lệch chuẩn \n",
    "của quần thể. \n"
   ]
  },
  {
   "cell_type": "markdown",
   "id": "565bde84",
   "metadata": {},
   "source": [
    "# 1. Kiểm định bên trái (left-tailed test)\n",
    "# p-value = P(Z <= z)\n",
    "p_value_left = st.norm.cdf(z)\n",
    "\n",
    "# 2. Kiểm định bên phải (right-tailed test)\n",
    "# p-value = P(Z >= z) = 1 - P(Z <= z)\n",
    "p_value_right = 1 - st.norm.cdf(z)\n",
    "\n",
    "# 3. Kiểm định hai phía (two-tailed test)\n",
    "# p-value = 2 * P(Z >= |z|) = 2 * (1 - P(Z <= |z|))\n",
    "p_value_two = 2 * (1 - st.norm.cdf(abs(z)))\n",
    "\n",
    "print(\"Left-tailed p-value:\", p_value_left)\n",
    "print(\"Right-tailed p-value:\", p_value_right)\n",
    "print(\"Two-tailed p-value:\", p_value_two)"
   ]
  },
  {
   "cell_type": "code",
   "execution_count": null,
   "id": "5b813c1a",
   "metadata": {},
   "outputs": [
    {
     "name": "stdout",
     "output_type": "stream",
     "text": [
      "Thống kê t: -3.1304951684997055\n",
      "p-value: 0.0027536949939652093\n",
      "Bác bỏ giả thuyết H₀: Tuổi thọ trung bình thấp hơn 76.\n"
     ]
    }
   ],
   "source": [
    "# CÁCH 1:\n",
    "# Bước 1:\n",
    "\n",
    "mean_age = df['age'].mean()\n",
    "n = len(df)\n",
    "mu = 76\n",
    "std = 2.5\n",
    "\n",
    "# Bước 2: Thiết lập giả thuyết\n",
    "# H₀: μ ≥ 76 (Tuổi thọ trung bình không thấp hơn 76)\n",
    "# H₁: μ < 76 (Tuổi thọ trung bình thấp hơn 76)\n",
    "\n",
    "t = (mean_age - mu) / (std / np.sqrt(n))\n",
    "print(f'Thống kê t: {t}')\n",
    "\n",
    "# Bước 3: Tính toán giá trị kiểm định\n",
    "alpha = 0.05\n",
    "\n",
    "# Kiểm định bên trái vì < 76\n",
    "# t_critical = stats.t.ppf(alpha, df=n-1)\n",
    "\n",
    "# Nếu kiểm định bên phải > 76 thì dùng\n",
    "# t_critical = stats.t.ppf(1 - alpha, df=n-1)\n",
    "\n",
    "p_value = stats.t.cdf(t, df=n-1)\n",
    "\n",
    "print(f'p-value: {p_value}')\n",
    "\n",
    "# Bước 4: So sánh p-value với alpha\n",
    "if p_value < alpha:\n",
    "    print(\"Bác bỏ giả thuyết H₀: Tuổi thọ trung bình thấp hơn 76.\")\n",
    "else:\n",
    "    print(\"Không bác bỏ giả thuyết H₀: Tuổi thọ trung bình không thấp hơn 76.\")"
   ]
  },
  {
   "cell_type": "code",
   "execution_count": 9,
   "id": "26cb6621",
   "metadata": {},
   "outputs": [
    {
     "name": "stdout",
     "output_type": "stream",
     "text": [
      "Giá trị thống kê t: -3.1305\n",
      "Tuổi trung bình mẫu: 74.2500\n",
      "Giá trị kiểm định t: -3.1305\n",
      "Giá trị tới hạn t tại α = 5%: -1.7291\n",
      "p-value: 0.0028\n",
      "Kết luận (phương pháp giá trị tới hạn): Bác bỏ H₀\n",
      "Có đủ bằng chứng để kết luận tuổi thọ trung bình thấp hơn 76 tuổi\n"
     ]
    }
   ],
   "source": [
    "# Bước 1: Tính các số liệu thống kê mẫu\n",
    "mean_age = df['age'].mean()\n",
    "n = len(df)\n",
    "mu = 76\n",
    "std = 2.5\n",
    "\n",
    "# Bước 2: Thiết lập giả thuyết\n",
    "# H₀: μ ≥ 76 (Tuổi thọ trung bình không thấp hơn 76)\n",
    "# H₁: μ < 76 (Tuổi thọ trung bình thấp hơn 76)\n",
    "\n",
    "# Bước 3: Tính toán giá trị kiểm định\n",
    "t_stat = (mean_age - mu) / (std / np.sqrt(n))\n",
    "print(f'Giá trị thống kê t: {t_stat:.4f}')\n",
    "print(f'Tuổi trung bình mẫu: {mean_age:.4f}')\n",
    "\n",
    "# Bước 4: Xác định giá trị tới hạn \n",
    "# Thay vì dùng ppf, sử dụng hàm isf (inverse survival function)\n",
    "alpha = 0.05\n",
    "degrees_freedom = n - 1\n",
    "t_critical = -stats.t.isf(alpha, df=degrees_freedom)  # Lưu ý dấu trừ vì đây là kiểm định một phía bên trái\n",
    "\n",
    "# Hoặc có thể dùng sf (survival function) để tính p-value\n",
    "p_value = stats.t.sf(-t_stat, df=degrees_freedom) if t_stat < 0 else 1 - stats.t.sf(t_stat, df=degrees_freedom)\n",
    "\n",
    "# Bước 5: Ra quyết định\n",
    "print(f\"Giá trị kiểm định t: {t_stat:.4f}\")\n",
    "print(f\"Giá trị tới hạn t tại α = 5%: {t_critical:.4f}\")\n",
    "print(f\"p-value: {p_value:.4f}\")\n",
    "\n",
    "# Quyết định dựa trên so sánh t_stat với t_critical\n",
    "if t_stat < t_critical:\n",
    "    print(\"Kết luận (phương pháp giá trị tới hạn): Bác bỏ H₀\")\n",
    "    print(\"Có đủ bằng chứng để kết luận tuổi thọ trung bình thấp hơn 76 tuổi\")\n",
    "else:\n",
    "    print(\"Kết luận (phương pháp giá trị tới hạn): Không bác bỏ H₀\")\n",
    "    print(\"Không đủ bằng chứng để kết luận tuổi thọ trung bình thấp hơn 76 tuổi\")\n",
    "\n",
    "\n"
   ]
  },
  {
   "cell_type": "markdown",
   "id": "443aa894",
   "metadata": {},
   "source": [
    "- b. Những người sống hơn 80 tuổi là sống thọ. Có ý kiến cho rằng “Tỷ lệ sống thọ của \n",
    "nhóm khảo sát là 15%”. Bạn hãy cho biết ý kiến trên có đúng không với mức ý nghĩa \n",
    "10% "
   ]
  },
  {
   "cell_type": "code",
   "execution_count": 13,
   "id": "150ecb5f",
   "metadata": {},
   "outputs": [
    {
     "name": "stdout",
     "output_type": "stream",
     "text": [
      "Tỷ lệ người sống thọ (tuổi > 80) trong mẫu: 0.1500 (15.00%)\n",
      "Số người sống thọ: 3.\n",
      "Số người trong mẫu: 20\n",
      "Giá trị thống kê z: 0.0000\n",
      "Khoảng giá trị tới hạn tại α = 10%: (-1.6449, 1.6449)\n",
      "p-value: 1.0000\n",
      "Kết luận: Không bác bỏ H₀\n",
      "Không đủ bằng chứng để bác bỏ ý kiến cho rằng tỷ lệ sống thọ là 15%\n"
     ]
    }
   ],
   "source": [
    "# Bước 1: Xác định người sống thọ (tuổi > 80) và tính tỷ lệ trong mẫu\n",
    "longevity = df['age'] > 80\n",
    "p_hat = longevity.mean()\n",
    "n = len(df)\n",
    "p0 = 0.15  # tỷ lệ được đề xuất\n",
    "\n",
    "print(f\"Tỷ lệ người sống thọ (tuổi > 80) trong mẫu: {p_hat:.4f} ({p_hat*100:.2f}%)\")\n",
    "print(f\"Số người sống thọ: {longevity.sum()}.\")\n",
    "print(f\"Số người trong mẫu: {n}\")\n",
    "\n",
    "# Bước 2: Thiết lập giả thuyết\n",
    "# H₀: p = 0.15 (Tỷ lệ sống thọ là 15%)\n",
    "# H₁: p ≠ 0.15 (Tỷ lệ sống thọ khác 15%)\n",
    "\n",
    "# Bước 3: Tính giá trị thống kê z\n",
    "# Công thức: z = (p_hat - p0) / sqrt(p0 * (1 - p0) / n)\n",
    "standard_error = np.sqrt((p0 * (1 - p0)) / n)\n",
    "z_stat = (p_hat - p0) / standard_error\n",
    "\n",
    "# Bước 4: Xác định giá trị tới hạn và p-value\n",
    "alpha = 0.10\n",
    "# Đây là kiểm định hai phía\n",
    "z_critical_lower = stats.norm.ppf(alpha/2)\n",
    "z_critical_upper = stats.norm.ppf(1 - alpha/2)\n",
    "p_value = 2 * (1 - stats.norm.cdf(abs(z_stat)))  # nhân 2 vì hai phía\n",
    "\n",
    "\n",
    "# Bước 5: Đưa ra quyết định\n",
    "print(f\"Giá trị thống kê z: {z_stat:.4f}\")\n",
    "print(f\"Khoảng giá trị tới hạn tại α = 10%: ({z_critical_lower:.4f}, {z_critical_upper:.4f})\")\n",
    "print(f\"p-value: {p_value:.4f}\")\n",
    "\n",
    "if abs(z_stat) > abs(z_critical_upper) or p_value < alpha:\n",
    "    print(\"Kết luận: Bác bỏ H₀\")\n",
    "    print(\"Có đủ bằng chứng để kết luận tỷ lệ sống thọ khác 15%\")\n",
    "else:\n",
    "    print(\"Kết luận: Không bác bỏ H₀\") \n",
    "    print(\"Không đủ bằng chứng để bác bỏ ý kiến cho rằng tỷ lệ sống thọ là 15%\")"
   ]
  },
  {
   "cell_type": "code",
   "execution_count": 12,
   "id": "917bf29d",
   "metadata": {},
   "outputs": [
    {
     "data": {
      "text/plain": [
       "(0    -1.878673\n",
       " 1    -1.252449\n",
       " 2    -1.878673\n",
       " 3    -1.252449\n",
       " 4    -1.252449\n",
       " 5    -1.878673\n",
       " 6    -1.878673\n",
       " 7    -1.878673\n",
       " 8    -1.878673\n",
       " 9    -1.878673\n",
       " 10   -1.878673\n",
       " 11   -1.878673\n",
       " 12   -1.878673\n",
       " 13   -1.878673\n",
       " 14   -1.878673\n",
       " 15   -1.878673\n",
       " 16   -1.878673\n",
       " 17   -1.878673\n",
       " 18   -1.878673\n",
       " 19   -1.878673\n",
       " Name: age, dtype: float64,\n",
       " array([0.06028917, 0.21040645, 0.06028917, 0.21040645, 0.21040645,\n",
       "        0.06028917, 0.06028917, 0.06028917, 0.06028917, 0.06028917,\n",
       "        0.06028917, 0.06028917, 0.06028917, 0.06028917, 0.06028917,\n",
       "        0.06028917, 0.06028917, 0.06028917, 0.06028917, 0.06028917]))"
      ]
     },
     "execution_count": 12,
     "metadata": {},
     "output_type": "execute_result"
    }
   ],
   "source": [
    "# Phần 2b: Kiểm định giả thuyết về tỷ lệ\n",
    "# H0: p = 0.15\n",
    "# H1: p ≠ 0.15 (kiểm định hai phía)\n",
    "\n",
    "# Xác định số người sống hơn 80 tuổi\n",
    "so_song_tho_80 = df['age'] > 80\n",
    "n = len(df)\n",
    "p_0 = 0.15  # tỷ lệ giả định\n",
    "p_hat = so_song_tho_80 / n\n",
    "\n",
    "# Kiểm định z cho tỷ lệ (giả sử n đủ lớn để dùng phân phối chuẩn xấp xỉ)\n",
    "z_stat = (p_hat - p_0) / np.sqrt(p_0 * (1 - p_0) / n)\n",
    "p_value_2sided = 2 * (1 - stats.norm.cdf(abs(z_stat)))  # kiểm định hai phía\n",
    "\n",
    "z_stat, p_value_2sided\n"
   ]
  }
 ],
 "metadata": {
  "kernelspec": {
   "display_name": "Python 3",
   "language": "python",
   "name": "python3"
  },
  "language_info": {
   "codemirror_mode": {
    "name": "ipython",
    "version": 3
   },
   "file_extension": ".py",
   "mimetype": "text/x-python",
   "name": "python",
   "nbconvert_exporter": "python",
   "pygments_lexer": "ipython3",
   "version": "3.11.2"
  }
 },
 "nbformat": 4,
 "nbformat_minor": 5
}
