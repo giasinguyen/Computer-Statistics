{
 "cells": [
  {
   "cell_type": "markdown",
   "metadata": {},
   "source": [
    "# Lab 07 - Bài tập -  Nguyễn Trần Gia Sĩ"
   ]
  },
  {
   "cell_type": "markdown",
   "metadata": {},
   "source": [
    "## Luyện tập"
   ]
  },
  {
   "cell_type": "markdown",
   "metadata": {},
   "source": [
    "### Bài 1\n",
    "\n",
    "Trong thập niên 80, trọng lượng trung bình của thanh niên là 48 kg. Nay để xác định lại trọng lượng ấy, người ta chọn ngẫu nhiên 100 thanh niên đo trọng lượng trung bình là 50 kg và phương sai mẫu $s^2 = (10 kg)^2$. Thử xem trọng lượng thanh niên hiện nay phải chăng có thay đổi, với mức ý nghĩa là 1%?\n",
    "\n",
    "   _Đáp án. Trọng lượng thanh niên hiện nay không thay đổi so với trước kia._\n",
    "\n",
    "   "
   ]
  },
  {
   "cell_type": "markdown",
   "metadata": {},
   "source": [
    "#### Câu a\n",
    "\n",
    "Tóm tắt: \n",
    "- $\\mu_0 = 48$\n",
    "- n = 100\n",
    "- $\\alpha = 0.01$\n",
    "- $\\bar{x} = 50$\n",
    "- s = 10"
   ]
  },
  {
   "cell_type": "code",
   "execution_count": 1,
   "metadata": {},
   "outputs": [
    {
     "name": "stdout",
     "output_type": "stream",
     "text": [
      "- Trị kiểm định:  2.0\n",
      "- Giá trị p:  0.0455\n",
      "Không bác bỏ giả thuyết H0: Trọng lượng thanh niên không có sự thay đổi.\n"
     ]
    }
   ],
   "source": [
    "import numpy as np\n",
    "import scipy.stats as st\n",
    "\n",
    "# Các tham số\n",
    "s = 10  # độ lệch chuẩn mẫu\n",
    "mu0 = 48  # trọng lượng trung bình của thanh niên trong thập niên 80\n",
    "n = 100  # kích thước mẫu\n",
    "x = 50  # trọng lượng trung bình mẫu\n",
    "\n",
    "# Tính trị kiểm định Z\n",
    "z = (x - mu0) / (s / np.sqrt(n))\n",
    "print('- Trị kiểm định: ', round(z, 4))\n",
    "\n",
    "# Mức ý nghĩa 1%\n",
    "alpha = 0.01\n",
    "\n",
    "# Xác định giá trị p cho bài toán kiểm định 2 phía\n",
    "p_value = 2 * (1 - st.norm.cdf(abs(z)))  # kiểm định 2 phía, do ta đang kiểm tra sự thay đổi\n",
    "print('- Giá trị p: ', round(p_value, 4))\n",
    "\n",
    "# Quyết định từ giá trị p\n",
    "if p_value < alpha:\n",
    "    print(\"Bác bỏ giả thuyết H0: Trọng lượng thanh niên có sự thay đổi.\")\n",
    "else:\n",
    "    print(\"Không bác bỏ giả thuyết H0: Trọng lượng thanh niên không có sự thay đổi.\")\n"
   ]
  },
  {
   "cell_type": "markdown",
   "metadata": {},
   "source": [
    "### Bài 2\n",
    "\n",
    "Một cửa hàng thực phẩm nhận thấy thời gian vừa qua trung bình một khách hàng mua 25 ngàn đồng thực phẩm trong ngày. Nay cửa hàng chọn ngẫu nhiên 15 khách hàng thấy trung bình một khách hàng mua 24 ngàn đồng trong ngày và phương sai mẫu là $s^2$ =  (2 ngàn đồng $)^2$\n",
    "\n",
    "   Với mức ý nghĩa là 5%, kiểm định xem có phải sức mua của khách hàng hiện nay thực sự giảm sút hay không. Biết rằng sức mua của khách hàng có phân phối chuẩn.\n",
    "\n",
    "   _Đáp án. Sức mua của khách hàng hiện nay thực sự giảm sút_"
   ]
  },
  {
   "cell_type": "code",
   "execution_count": 7,
   "metadata": {},
   "outputs": [],
   "source": [
    "# Các tham số\n",
    "mu0 = 25  # sức mua trung bình trước đây (ngàn đồng)\n",
    "x_bar = 24  # trung bình mẫu (ngàn đồng)\n",
    "s = 2  # độ lệch chuẩn mẫu (ngàn đồng)\n",
    "n = 15  # kích thước mẫu\n"
   ]
  },
  {
   "cell_type": "code",
   "execution_count": 11,
   "metadata": {},
   "outputs": [
    {
     "name": "stdout",
     "output_type": "stream",
     "text": [
      "- Trị kiểm định t:  -1.9365\n",
      "- Giá trị p:  0.0366\n",
      "Bác bỏ giả thuyết H0: Sức mua của khách hàng hiện nay thực sự giảm sút.\n"
     ]
    }
   ],
   "source": [
    "t = ((x_bar - mu0) / (s / np.sqrt(n)))\n",
    "print('- Trị kiểm định t: ', round(t, 4))\n",
    "alpha = 0.05\n",
    "\n",
    "p_value = st.t.cdf(t, df=n-1)\n",
    "print('- Giá trị p: ', round(p_value, 4))\n",
    "\n",
    "if p_value < alpha:\n",
    "    print(\"Bác bỏ giả thuyết H0: Sức mua của khách hàng hiện nay thực sự giảm sút.\")\n",
    "else:\n",
    "    print(\"Không bác bỏ giả thuyết H0: Sức mua của khách hàng hiện nay không giảm sút.\")"
   ]
  },
  {
   "cell_type": "markdown",
   "metadata": {},
   "source": [
    "### Bài 3\n",
    "\n",
    "Một máy sản suất tự động, lúc đầu tỷ lệ sản phẩm loại A là 20%. Sau khi áp dụng một phương pháp cải tiến sản xuất mới, người ta lấy 40 mẫu, mỗi mẫu gồm 10 sản phẩm đề kiểm tra. Kết quả kiểm tra cho ở bảng sau:\n",
    "\n",
    "| **Số sản phẩm loại A** |  1   |  2   |  3   |  4   |  5   |  6   |  7   |  8   |  9   |  10  |\n",
    "| ---------------------- | :--: | :--: | :--: | :--: | :--: | :--: | :--: | :--: | :--: | :--: |\n",
    "| **Số mẫu**             |  2   |  0   |  4   |  6   |  8   |  10  |  4   |  5   |  1   |  0   |\n",
    "\n",
    " Với mức ý nghĩa 5%. Hãy cho kết luận về phương pháp sản suất này. \n",
    "\n",
    " _Đáp án.Phương pháp cải tiến sản xuất mới thay đổi tỉ lệ sản phẩm loại A_"
   ]
  },
  {
   "cell_type": "code",
   "execution_count": 2,
   "metadata": {},
   "outputs": [],
   "source": [
    "p0 = 0.2  # Tỷ lệ sản phẩm loại A ban đầu\n",
    "n = 400  # Tổng số sản phẩm kiểm tra (40 mẫu x 10 sản phẩm/mẫu)\n",
    "x = 215  # Số sản phẩm loại A trong 400 sản phẩm (tính từ bảng)\n",
    "\n"
   ]
  },
  {
   "cell_type": "code",
   "execution_count": 3,
   "metadata": {},
   "outputs": [
    {
     "name": "stdout",
     "output_type": "stream",
     "text": [
      "Tỷ lệ sản phẩm loại A trong mẫu: 0.5375\n",
      "Trị kiểm định Z: 16.875\n",
      "Giá trị p: 0.0\n",
      "Bác bỏ giả thuyết H0: Phương pháp cải tiến sản xuất đã thay đổi tỷ lệ sản phẩm loại A.\n"
     ]
    }
   ],
   "source": [
    "# Tính tỷ lệ mẫu p-hat\n",
    "p_hat = x / n\n",
    "print(\"Tỷ lệ sản phẩm loại A trong mẫu:\", p_hat)\n",
    "\n",
    "# Tính trị kiểm định Z\n",
    "z = (p_hat - p0) / np.sqrt(p0 * (1 - p0) / n)\n",
    "print(\"Trị kiểm định Z:\", round(z, 4))\n",
    "\n",
    "# Tính giá trị p cho kiểm định 2 phía\n",
    "p_value = 2 * (1 - st.norm.cdf(abs(z)))  # kiểm định 2 phía\n",
    "print(\"Giá trị p:\", round(p_value, 4))\n",
    "\n",
    "# Mức ý nghĩa 5%\n",
    "alpha = 0.05\n",
    "\n",
    "# Quyết định từ giá trị p\n",
    "if p_value < alpha:\n",
    "    print(\"Bác bỏ giả thuyết H0: Phương pháp cải tiến sản xuất đã thay đổi tỷ lệ sản phẩm loại A.\")\n",
    "else:\n",
    "    print(\"Không bác bỏ giả thuyết H0: Phương pháp cải tiến sản xuất không thay đổi tỷ lệ sản phẩm loại A.\")\n"
   ]
  },
  {
   "cell_type": "markdown",
   "metadata": {},
   "source": [
    "### Bài 4\n",
    "\n",
    "Tỷ lệ phế phẩm của một nhà máy trước đây là 5%. Năm nay nhà máy áp dụng một biện pháp kỹ thuật mới. Để nghiên cứu tác dụng của biện pháp kỹ thuật mới, người ta lấy một mẫu gồm 800 sản phẩm để kiểm tra và thấy có 24 phế phẩm.\n",
    "\n",
    "a. Với α = 0.01. Hãy cho kết luận về biện pháp kỹ thuật mới này?\n",
    "\n",
    "b. Nếu nhà máy báo cáo tỷ lệ phế phẩm sau khi áp dụng biện pháp kỹ thuật mới là\n",
    "2% thì có chấp nhận được không? (α = 0.01).\n",
    "\n",
    "_Đáp án. (a) Biện pháp kĩ thuật mới làm thay đổi tỉ lệ phế phẩm (b) Nhà máy báo cáo tỷ lệ phế phẩm là chấp nhận được._"
   ]
  },
  {
   "cell_type": "code",
   "execution_count": 5,
   "metadata": {},
   "outputs": [],
   "source": [
    "# Thông tin cho câu a\n",
    "p0 = 0.05  # Tỷ lệ phế phẩm trước cải tiến\n",
    "n = 800  # Kích thước mẫu\n",
    "x = 24  # Số phế phẩm\n",
    "p_hat = x / n  # Tỷ lệ mẫu\n"
   ]
  },
  {
   "cell_type": "code",
   "execution_count": 11,
   "metadata": {},
   "outputs": [
    {
     "name": "stdout",
     "output_type": "stream",
     "text": [
      "Trị kiểm định Z cho câu a: -2.5955\n",
      "Giá trị p cho câu a: 0.0094\n",
      "Bác bỏ giả thuyết H0: Biện pháp kỹ thuật mới làm thay đổi tỷ lệ phế phẩm.\n",
      "\n",
      "Trị kiểm định Z cho câu b: 2.0203\n",
      "Giá trị p cho câu b: 0.0434\n",
      "Không bác bỏ giả thuyết H0: Tỷ lệ phế phẩm sau khi cải tiến là chấp nhận được.\n"
     ]
    }
   ],
   "source": [
    "z = (p_hat - p0) / np.sqrt(p0 * (1 - p0) / n)\n",
    "print(\"Trị kiểm định Z cho câu a:\", round(z, 4))\n",
    "\n",
    "p_value_a = 2 * (1 - st.norm.cdf(abs(z)))\n",
    "print(\"Giá trị p cho câu a:\", round(p_value_a, 4))\n",
    "\n",
    "alpha = 0.01\n",
    "\n",
    "if p_value_a < alpha:\n",
    "    print(\"Bác bỏ giả thuyết H0: Biện pháp kỹ thuật mới làm thay đổi tỷ lệ phế phẩm.\")\n",
    "else:\n",
    "    print(\"Không bác bỏ giả thuyết H0: Biện pháp kỹ thuật mới không làm thay đổi tỷ lệ phế phẩm.\")\n",
    "\n",
    "# Câu b\n",
    "p_reported = 0.02\n",
    "\n",
    "# Tính trị kiểm định Z cho câu b\n",
    "z_b = (p_hat - p_reported) / np.sqrt(p_reported * (1 - p_reported) / n)\n",
    "print(\"\\nTrị kiểm định Z cho câu b:\", round(z_b, 4))\n",
    "\n",
    "# Tính giá trị p cho kiểm định 2 phía\n",
    "p_value_b = 2 * (1 - st.norm.cdf(abs(z_b)))\n",
    "print(\"Giá trị p cho câu b:\", round(p_value_b, 4))\n",
    "\n",
    "if p_value_b < alpha:\n",
    "    print(\"Bác bỏ giả thuyết H0: Tỷ lệ phế phẩm sau khi cải tiến không chấp nhận được.\")\n",
    "else:\n",
    "    print(\"Không bác bỏ giả thuyết H0: Tỷ lệ phế phẩm sau khi cải tiến là chấp nhận được.\")"
   ]
  },
  {
   "cell_type": "code",
   "execution_count": 12,
   "metadata": {},
   "outputs": [
    {
     "name": "stdout",
     "output_type": "stream",
     "text": [
      "Tỷ lệ phế phẩm trong mẫu: 0.0300 (3.0%)\n",
      "\n",
      "Câu a:\n",
      "H₀: p = 0.05 (Tỷ lệ phế phẩm không thay đổi so với trước đây)\n",
      "H₁: p ≠ 0.05 (Tỷ lệ phế phẩm đã thay đổi)\n",
      "Trị kiểm định Z cho câu a: -2.5955\n",
      "Giá trị p cho câu a: 0.0094\n",
      "Mức ý nghĩa alpha: 0.01\n",
      "Bác bỏ giả thuyết H₀: Biện pháp kỹ thuật mới làm thay đổi tỷ lệ phế phẩm.\n",
      "\n",
      "Câu b:\n",
      "H₀: p = 0.02 (Tỷ lệ phế phẩm sau cải tiến là 2% như báo cáo)\n",
      "H₁: p ≠ 0.02 (Tỷ lệ phế phẩm sau cải tiến khác 2%)\n",
      "Trị kiểm định Z cho câu b: 2.0203\n",
      "Giá trị p cho câu b: 0.0434\n",
      "Mức ý nghĩa alpha: 0.01\n",
      "Không bác bỏ giả thuyết H₀: Báo cáo tỷ lệ phế phẩm 2% là chấp nhận được.\n"
     ]
    }
   ],
   "source": [
    "# Thông tin cho câu a\n",
    "p0 = 0.05  # Tỷ lệ phế phẩm trước cải tiến\n",
    "n = 800  # Kích thước mẫu\n",
    "x = 24  # Số phế phẩm\n",
    "p_hat = x / n  # Tỷ lệ mẫu\n",
    "print(f\"Tỷ lệ phế phẩm trong mẫu: {p_hat:.4f} ({p_hat*100:.1f}%)\")\n",
    "\n",
    "# Bước 1: Thiết lập giả thuyết cho câu a\n",
    "print(\"\\nCâu a:\")\n",
    "print(\"H₀: p = 0.05 (Tỷ lệ phế phẩm không thay đổi so với trước đây)\")  \n",
    "print(\"H₁: p ≠ 0.05 (Tỷ lệ phế phẩm đã thay đổi)\")\n",
    "\n",
    "# Bước 2: Tính toán thống kê kiểm định\n",
    "z = (p_hat - p0) / np.sqrt(p0 * (1 - p0) / n)\n",
    "print(\"Trị kiểm định Z cho câu a:\", round(z, 4))\n",
    "\n",
    "# Bước 3: Tính p-value\n",
    "p_value_a = 2 * (1 - st.norm.cdf(abs(z)))  # Kiểm định hai phía\n",
    "print(\"Giá trị p cho câu a:\", round(p_value_a, 4))\n",
    "\n",
    "# Bước 4: So sánh với mức ý nghĩa\n",
    "alpha = 0.01\n",
    "print(f\"Mức ý nghĩa alpha: {alpha}\")\n",
    "\n",
    "# Bước 5: Đưa ra kết luận\n",
    "if p_value_a < alpha:\n",
    "    print(\"Bác bỏ giả thuyết H₀: Biện pháp kỹ thuật mới làm thay đổi tỷ lệ phế phẩm.\")\n",
    "else:\n",
    "    print(\"Không bác bỏ giả thuyết H₀: Biện pháp kỹ thuật mới không làm thay đổi tỷ lệ phế phẩm.\")\n",
    "\n",
    "# Câu b\n",
    "p_reported = 0.02\n",
    "\n",
    "# Bước 1: Thiết lập giả thuyết cho câu b\n",
    "print(\"\\nCâu b:\")\n",
    "print(\"H₀: p = 0.02 (Tỷ lệ phế phẩm sau cải tiến là 2% như báo cáo)\")\n",
    "print(\"H₁: p ≠ 0.02 (Tỷ lệ phế phẩm sau cải tiến khác 2%)\")\n",
    "\n",
    "# Bước 2: Tính trị kiểm định Z cho câu b\n",
    "z_b = (p_hat - p_reported) / np.sqrt(p_reported * (1 - p_reported) / n)\n",
    "print(\"Trị kiểm định Z cho câu b:\", round(z_b, 4))\n",
    "\n",
    "# Bước 3: Tính giá trị p cho kiểm định 2 phía\n",
    "p_value_b = 2 * (1 - st.norm.cdf(abs(z_b)))\n",
    "print(\"Giá trị p cho câu b:\", round(p_value_b, 4))\n",
    "\n",
    "# Bước 4: So sánh với mức ý nghĩa\n",
    "print(f\"Mức ý nghĩa alpha: {alpha}\")\n",
    "\n",
    "# Bước 5: Đưa ra kết luận\n",
    "if p_value_b < alpha:\n",
    "    print(\"Bác bỏ giả thuyết H₀: Tỷ lệ phế phẩm sau khi cải tiến không phải là 2%.\")\n",
    "else:\n",
    "    print(\"Không bác bỏ giả thuyết H₀: Báo cáo tỷ lệ phế phẩm 2% là chấp nhận được.\")"
   ]
  },
  {
   "cell_type": "markdown",
   "metadata": {},
   "source": [
    "## Kiểm định đặc trưng tỉ lệ (p)"
   ]
  },
  {
   "cell_type": "markdown",
   "metadata": {},
   "source": [
    "### Bài 5\n",
    "\n",
    "Dataset 18 (__M&M__) chứa thông tin trọng lượng và màu sắc của mẫu các viên kẹo của hãng M&M. \n",
    "\n",
    "Sử dụng mẫu trên bạn hãy kiểm tra phát biểu sau: __\"20% kẹo M&M có màu đỏ\"__ với mức ý nghĩa là 5%\n",
    "\n",
    "*Hướng dẫn: tính tỷ lệ các viên kẹo có màu đỏ từ dữ liệu, sử dụng kết quả để kiểm định phát biểu trên*"
   ]
  },
  {
   "cell_type": "code",
   "execution_count": 22,
   "metadata": {},
   "outputs": [
    {
     "name": "stdout",
     "output_type": "stream",
     "text": [
      "Số viên kẹo màu đỏ: 27\n",
      "Tổng số viên kẹo: 27\n",
      "Tỷ lệ kẹo đỏ thực tế: 1.0000\n",
      "Z-score: 10.3923\n",
      "P-value: 0.0000\n",
      "Bác bỏ H0: Tỷ lệ kẹo đỏ khác 20%.\n"
     ]
    }
   ],
   "source": [
    "import pandas as pd\n",
    "import math\n",
    "\n",
    "df = pd.read_excel(\"18_M_M.xls\")\n",
    "df.head()\n",
    "# Đếm số viên kẹo màu đỏ\n",
    "red_count = df['Red'].shape[0]\n",
    "n = df.shape[0]  # Tổng số viên kẹo\n",
    "\n",
    "# Tỷ lệ kẹo màu đỏ trong mẫu\n",
    "p_hat = red_count / n\n",
    "p_0 = 0.2  # Giả thuyết tỷ lệ kẹo đỏ\n",
    "\n",
    "# Tính z-score và p-value\n",
    "se = math.sqrt(p_0 * (1 - p_0) / n)\n",
    "z_score = (p_hat - p_0) / se\n",
    "p_value = 2 * (1 - st.norm.cdf(abs(z_score)))  # Kiểm định hai phía\n",
    "\n",
    "# In kết quả\n",
    "print(f\"Số viên kẹo màu đỏ: {red_count}\")\n",
    "print(f\"Tổng số viên kẹo: {n}\")\n",
    "print(f\"Tỷ lệ kẹo đỏ thực tế: {p_hat:.4f}\")\n",
    "print(f\"Z-score: {z_score:.4f}\")\n",
    "print(f\"P-value: {p_value:.4f}\")\n",
    "\n",
    "# Kết luận\n",
    "alpha = 0.05\n",
    "if p_value < alpha:\n",
    "    print(\"Bác bỏ H0: Tỷ lệ kẹo đỏ khác 20%.\")\n",
    "else:\n",
    "    print(\"Không đủ bằng chứng để bác bỏ H0: Tỷ lệ kẹo đỏ có thể là 20%.\")"
   ]
  },
  {
   "cell_type": "code",
   "execution_count": 16,
   "metadata": {},
   "outputs": [
    {
     "name": "stdout",
     "output_type": "stream",
     "text": [
      "Giả thuyết kiểm định:\n",
      "H₀: p = 0.2 (Tỷ lệ kẹo M&M có màu đỏ là 20%)\n",
      "H₁: p ≠ 0.2 (Tỷ lệ kẹo M&M có màu đỏ khác 20%)\n",
      "Số viên kẹo màu đỏ: 27\n",
      "Tổng số viên kẹo: 27\n",
      "Tỷ lệ kẹo đỏ trong mẫu: 1.0000 (100.0%)\n",
      "Giá trị thống kê Z: 10.3923\n",
      "P-value: 0.0000\n",
      "Mức ý nghĩa alpha: 0.05\n",
      "Kết luận: Bác bỏ giả thuyết H₀\n",
      "Có đủ bằng chứng để kết luận tỷ lệ kẹo M&M màu đỏ khác 20%\n",
      "\n",
      "Kiểm tra điều kiện áp dụng phân phối chuẩn:\n",
      "n*p_0 = 5.4 ≥ 5: True\n",
      "n*(1-p_0) = 21.6 ≥ 5: True\n"
     ]
    }
   ],
   "source": [
    "import pandas as pd\n",
    "import math\n",
    "import scipy.stats as st\n",
    "\n",
    "# Đọc dữ liệu\n",
    "df = pd.read_excel(\"../data/18_M_M.xls\")\n",
    "\n",
    "# Bước 1: Thiết lập giả thuyết\n",
    "print(\"Giả thuyết kiểm định:\")\n",
    "print(\"H₀: p = 0.2 (Tỷ lệ kẹo M&M có màu đỏ là 20%)\")\n",
    "print(\"H₁: p ≠ 0.2 (Tỷ lệ kẹo M&M có màu đỏ khác 20%)\")\n",
    "\n",
    "# Bước 2: Thu thập dữ liệu và tính toán thống kê mẫu\n",
    "red_count = df['Red'].shape[0]\n",
    "n = df.shape[0]  # Tổng số viên kẹo\n",
    "p_hat = red_count / n  # Tỷ lệ kẹo đỏ trong mẫu\n",
    "p_0 = 0.2  # Giả thuyết tỷ lệ kẹo đỏ\n",
    "\n",
    "# Bước 3: Tính thống kê kiểm định\n",
    "se = math.sqrt(p_0 * (1 - p_0) / n)  # Sai số chuẩn\n",
    "z_score = (p_hat - p_0) / se  # Thống kê z\n",
    "\n",
    "# Bước 4: Tính p-value\n",
    "# Kiểm định hai phía vì chúng ta kiểm tra p có bằng 0.2 không\n",
    "p_value = 2 * (1 - st.norm.cdf(abs(z_score)))\n",
    "\n",
    "# Bước 5: Trình bày kết quả\n",
    "print(f\"Số viên kẹo màu đỏ: {red_count}\")\n",
    "print(f\"Tổng số viên kẹo: {n}\")\n",
    "print(f\"Tỷ lệ kẹo đỏ trong mẫu: {p_hat:.4f} ({p_hat*100:.1f}%)\")\n",
    "print(f\"Giá trị thống kê Z: {z_score:.4f}\")\n",
    "print(f\"P-value: {p_value:.4f}\")\n",
    "\n",
    "# Bước 6: Ra quyết định\n",
    "alpha = 0.05\n",
    "print(f\"Mức ý nghĩa alpha: {alpha}\")\n",
    "\n",
    "if p_value < alpha:\n",
    "    print(\"Kết luận: Bác bỏ giả thuyết H₀\")\n",
    "    print(\"Có đủ bằng chứng để kết luận tỷ lệ kẹo M&M màu đỏ khác 20%\")\n",
    "else:\n",
    "    print(\"Kết luận: Không bác bỏ giả thuyết H₀\") \n",
    "    print(\"Không đủ bằng chứng để bác bỏ ý kiến cho rằng 20% kẹo M&M có màu đỏ\")\n",
    "\n",
    "# Kiểm tra điều kiện áp dụng xấp xỉ chuẩn\n",
    "print(\"\\nKiểm tra điều kiện áp dụng phân phối chuẩn:\")\n",
    "print(f\"n*p_0 = {n*p_0:.1f} ≥ 5: {n*p_0 >= 5}\")\n",
    "print(f\"n*(1-p_0) = {n*(1-p_0):.1f} ≥ 5: {n*(1-p_0) >= 5}\")"
   ]
  },
  {
   "cell_type": "markdown",
   "metadata": {},
   "source": [
    "### Bài 6\n",
    "\n",
    "Dataset 3 (__FRESH15__) chứa thông tin khảo sát những thay đổi về trọng lượng (weight - WT) và chỉ số khối của cơ thể (BMI) của sinh viên năm nhất tại một trường Đại Học. Thời điểm khảo sát là bắt đầu học kỳ (tháng 9 - SEP) và kết thúc học kỳ (tháng 4 - APR), các sinh viên được chọn ngẫu nhiên trong trường.\n",
    "\n",
    "Sử dụng mẫu trên, hãy kiểm tra phát biểu:__\"50% số sinh viên trong trường là nam\"__ với mức ý nghĩa 50%\n",
    "\n",
    "Các thuộc tính trong bộ dữ liệu:\n",
    "- SEX: Giới tính\n",
    "- WTSEP: trọng lượng đo vào tháng 9 (mới nhập học)\n",
    "- WTAPR: trọng lượng đo vào tháng 4 (kết thúc năm học)\n",
    "- BMISP: BMI tháng 9\n",
    "- BMIAP: BMI tháng 4"
   ]
  },
  {
   "cell_type": "code",
   "execution_count": 24,
   "metadata": {},
   "outputs": [
    {
     "data": {
      "text/html": [
       "<div>\n",
       "<style scoped>\n",
       "    .dataframe tbody tr th:only-of-type {\n",
       "        vertical-align: middle;\n",
       "    }\n",
       "\n",
       "    .dataframe tbody tr th {\n",
       "        vertical-align: top;\n",
       "    }\n",
       "\n",
       "    .dataframe thead th {\n",
       "        text-align: right;\n",
       "    }\n",
       "</style>\n",
       "<table border=\"1\" class=\"dataframe\">\n",
       "  <thead>\n",
       "    <tr style=\"text-align: right;\">\n",
       "      <th></th>\n",
       "      <th>SEX</th>\n",
       "      <th>WTSEP</th>\n",
       "      <th>WTAPR</th>\n",
       "      <th>BMISP</th>\n",
       "      <th>BMIAP</th>\n",
       "    </tr>\n",
       "  </thead>\n",
       "  <tbody>\n",
       "    <tr>\n",
       "      <th>0</th>\n",
       "      <td>M</td>\n",
       "      <td>72</td>\n",
       "      <td>59</td>\n",
       "      <td>22.02</td>\n",
       "      <td>18.14</td>\n",
       "    </tr>\n",
       "    <tr>\n",
       "      <th>1</th>\n",
       "      <td>M</td>\n",
       "      <td>97</td>\n",
       "      <td>86</td>\n",
       "      <td>19.70</td>\n",
       "      <td>17.44</td>\n",
       "    </tr>\n",
       "    <tr>\n",
       "      <th>2</th>\n",
       "      <td>M</td>\n",
       "      <td>74</td>\n",
       "      <td>69</td>\n",
       "      <td>24.09</td>\n",
       "      <td>22.43</td>\n",
       "    </tr>\n",
       "    <tr>\n",
       "      <th>3</th>\n",
       "      <td>M</td>\n",
       "      <td>93</td>\n",
       "      <td>88</td>\n",
       "      <td>26.97</td>\n",
       "      <td>25.57</td>\n",
       "    </tr>\n",
       "    <tr>\n",
       "      <th>4</th>\n",
       "      <td>F</td>\n",
       "      <td>68</td>\n",
       "      <td>64</td>\n",
       "      <td>21.51</td>\n",
       "      <td>20.10</td>\n",
       "    </tr>\n",
       "  </tbody>\n",
       "</table>\n",
       "</div>"
      ],
      "text/plain": [
       "  SEX  WTSEP  WTAPR  BMISP  BMIAP\n",
       "0   M     72     59  22.02  18.14\n",
       "1   M     97     86  19.70  17.44\n",
       "2   M     74     69  24.09  22.43\n",
       "3   M     93     88  26.97  25.57\n",
       "4   F     68     64  21.51  20.10"
      ]
     },
     "execution_count": 24,
     "metadata": {},
     "output_type": "execute_result"
    }
   ],
   "source": [
    "df = pd.read_excel(\"03_FRESH15.xls\")\n",
    "df.head()"
   ]
  },
  {
   "cell_type": "code",
   "execution_count": 26,
   "metadata": {},
   "outputs": [
    {
     "name": "stdout",
     "output_type": "stream",
     "text": [
      "Số sinh viên nam: 32\n",
      "Tổng số sinh viên: 67\n",
      "Tỷ lệ sinh viên nam thực tế: 0.4776\n",
      "Z-score: -0.3665\n",
      "P-value: 0.7140\n",
      "Không đủ bằng chứng để bác bỏ H0: Tỷ lệ sinh viên nam có thể là 50%.\n"
     ]
    }
   ],
   "source": [
    "# Đếm số sinh viên nam\n",
    "male_count = df[df['SEX'] == 'M'].shape[0]\n",
    "n = df.shape[0]  # Tổng số sinh viên\n",
    "\n",
    "# Tỷ lệ sinh viên nam trong mẫu\n",
    "p_hat = male_count / n\n",
    "p_0 = 0.5  # Giả thuyết tỷ lệ sinh viên nam\n",
    "\n",
    "# Tính z-score và p-value\n",
    "se = math.sqrt(p_0 * (1 - p_0) / n)\n",
    "z_score = (p_hat - p_0) / se\n",
    "p_value = 2 * (1 - st.norm.cdf(abs(z_score)))  # Kiểm định hai phía\n",
    "\n",
    "# In kết quả\n",
    "print(f\"Số sinh viên nam: {male_count}\")\n",
    "print(f\"Tổng số sinh viên: {n}\")\n",
    "print(f\"Tỷ lệ sinh viên nam thực tế: {p_hat:.4f}\")\n",
    "print(f\"Z-score: {z_score:.4f}\")\n",
    "print(f\"P-value: {p_value:.4f}\")\n",
    "\n",
    "# Kết luận\n",
    "alpha = 0.05\n",
    "if p_value < alpha:\n",
    "    print(\"Bác bỏ H0: Tỷ lệ sinh viên nam khác 50%.\")\n",
    "else:\n",
    "    print(\"Không đủ bằng chứng để bác bỏ H0: Tỷ lệ sinh viên nam có thể là 50%.\")\n"
   ]
  },
  {
   "cell_type": "markdown",
   "metadata": {},
   "source": [
    "## Kiểm định đặc trưng kỳ vọng ($\\mu$) biết ($\\sigma$)"
   ]
  },
  {
   "cell_type": "markdown",
   "metadata": {},
   "source": [
    "### Bài 7\n",
    "\n",
    "Dataset 13 __(VOLTAGE)__ liệt kê các mức điện áp được đo tại các hộ gia đình bởi các máy đo khác nhau: tại nhà (HOME), tại máy phát độc lập (Generator), tại trạm phát (UPS).\n",
    "\n",
    "Công ty cung cấp điện cho vùng này cam kết rằng: __\"Mục tiêu cung cấp điện cho mỗi hộ gia đình là 120V\"__ . Biết rằng độ lệch chuẩn của tất cả các mức điện áp đo được là 0.24V.\n",
    "\n",
    "Với mức ý nghĩa 1%. Bạn hãy kiểm tra xem công ty có làm đúng cam kết hay không?"
   ]
  },
  {
   "cell_type": "code",
   "execution_count": 27,
   "metadata": {},
   "outputs": [
    {
     "data": {
      "text/html": [
       "<div>\n",
       "<style scoped>\n",
       "    .dataframe tbody tr th:only-of-type {\n",
       "        vertical-align: middle;\n",
       "    }\n",
       "\n",
       "    .dataframe tbody tr th {\n",
       "        vertical-align: top;\n",
       "    }\n",
       "\n",
       "    .dataframe thead th {\n",
       "        text-align: right;\n",
       "    }\n",
       "</style>\n",
       "<table border=\"1\" class=\"dataframe\">\n",
       "  <thead>\n",
       "    <tr style=\"text-align: right;\">\n",
       "      <th></th>\n",
       "      <th>Day</th>\n",
       "      <th>Home</th>\n",
       "      <th>Generator</th>\n",
       "      <th>UPS</th>\n",
       "    </tr>\n",
       "  </thead>\n",
       "  <tbody>\n",
       "    <tr>\n",
       "      <th>0</th>\n",
       "      <td>1</td>\n",
       "      <td>123.8</td>\n",
       "      <td>124.8</td>\n",
       "      <td>123.1</td>\n",
       "    </tr>\n",
       "    <tr>\n",
       "      <th>1</th>\n",
       "      <td>2</td>\n",
       "      <td>123.9</td>\n",
       "      <td>124.3</td>\n",
       "      <td>123.1</td>\n",
       "    </tr>\n",
       "    <tr>\n",
       "      <th>2</th>\n",
       "      <td>3</td>\n",
       "      <td>123.9</td>\n",
       "      <td>125.2</td>\n",
       "      <td>123.6</td>\n",
       "    </tr>\n",
       "    <tr>\n",
       "      <th>3</th>\n",
       "      <td>4</td>\n",
       "      <td>123.3</td>\n",
       "      <td>124.5</td>\n",
       "      <td>123.6</td>\n",
       "    </tr>\n",
       "    <tr>\n",
       "      <th>4</th>\n",
       "      <td>5</td>\n",
       "      <td>123.4</td>\n",
       "      <td>125.1</td>\n",
       "      <td>123.6</td>\n",
       "    </tr>\n",
       "  </tbody>\n",
       "</table>\n",
       "</div>"
      ],
      "text/plain": [
       "   Day   Home  Generator    UPS\n",
       "0    1  123.8      124.8  123.1\n",
       "1    2  123.9      124.3  123.1\n",
       "2    3  123.9      125.2  123.6\n",
       "3    4  123.3      124.5  123.6\n",
       "4    5  123.4      125.1  123.6"
      ]
     },
     "execution_count": 27,
     "metadata": {},
     "output_type": "execute_result"
    }
   ],
   "source": [
    "df = pd.read_excel(\"13_VOLTAGE.xls\")\n",
    "df.head()"
   ]
  },
  {
   "cell_type": "code",
   "execution_count": 29,
   "metadata": {},
   "outputs": [
    {
     "name": "stdout",
     "output_type": "stream",
     "text": [
      "Trung bình mẫu: 123.6625\n",
      "Z-score: 96.5153\n",
      "P-value: 0.0000\n",
      "Bác bỏ H0: Điện áp trung bình khác 120V.\n"
     ]
    }
   ],
   "source": [
    "# Giả thuyết kiểm định\n",
    "mu_0 = 120  # Giá trị kỳ vọng\n",
    "sigma = 0.24  # Độ lệch chuẩn đã biết\n",
    "alpha = 0.01  # Mức ý nghĩa 1%\n",
    "\n",
    "# Tính trung bình mẫu\n",
    "sample_mean = df[\"Home\"].mean()\n",
    "n = df.shape[0]  # Số lượng quan sát\n",
    "\n",
    "# Tính z-score và p-value\n",
    "se = sigma / math.sqrt(n)\n",
    "z_score = (sample_mean - mu_0) / se\n",
    "p_value = 2 * (1 - st.norm.cdf(abs(z_score)))  # Kiểm định hai phía\n",
    "\n",
    "# In kết quả\n",
    "print(f\"Trung bình mẫu: {sample_mean:.4f}\")\n",
    "print(f\"Z-score: {z_score:.4f}\")\n",
    "print(f\"P-value: {p_value:.4f}\")\n",
    "\n",
    "# Kết luận\n",
    "if p_value < alpha:\n",
    "    print(\"Bác bỏ H0: Điện áp trung bình khác 120V.\")\n",
    "else:\n",
    "    print(\"Không đủ bằng chứng để bác bỏ H0: Điện áp trung bình có thể là 120V.\")"
   ]
  },
  {
   "cell_type": "markdown",
   "metadata": {},
   "source": [
    "## Kiểm định đặc trưng kỳ vọng ($\\mu$) không biết ($\\sigma$)"
   ]
  },
  {
   "cell_type": "markdown",
   "metadata": {},
   "source": [
    "### Bài 8\n",
    "\n",
    "Dataset 19(__SCREWS__) chứa thông tin khảo sát chiều dài một số đinh ốc được cung cấp bởi công ty Crown Bolt (đơn vị inches)\n",
    "\n",
    "Trên bao bì của các đinh ốc do công ty sản xuất có ghi chiều dài của các đinh ốc là 3/4 inches. Sử dụng mẫu trên bạn hãy cho biết chiều dài của đinh ốc lấy từ mẫu thu nhận được từ dữ liệu trên có nhất quán với chiều dài ghi trên bao bì hay không? Kiểm định với mức ý nghĩa 5%"
   ]
  },
  {
   "cell_type": "code",
   "execution_count": 30,
   "metadata": {},
   "outputs": [
    {
     "data": {
      "text/html": [
       "<div>\n",
       "<style scoped>\n",
       "    .dataframe tbody tr th:only-of-type {\n",
       "        vertical-align: middle;\n",
       "    }\n",
       "\n",
       "    .dataframe tbody tr th {\n",
       "        vertical-align: top;\n",
       "    }\n",
       "\n",
       "    .dataframe thead th {\n",
       "        text-align: right;\n",
       "    }\n",
       "</style>\n",
       "<table border=\"1\" class=\"dataframe\">\n",
       "  <thead>\n",
       "    <tr style=\"text-align: right;\">\n",
       "      <th></th>\n",
       "      <th>0.757</th>\n",
       "    </tr>\n",
       "  </thead>\n",
       "  <tbody>\n",
       "    <tr>\n",
       "      <th>0</th>\n",
       "      <td>0.723</td>\n",
       "    </tr>\n",
       "    <tr>\n",
       "      <th>1</th>\n",
       "      <td>0.754</td>\n",
       "    </tr>\n",
       "    <tr>\n",
       "      <th>2</th>\n",
       "      <td>0.737</td>\n",
       "    </tr>\n",
       "    <tr>\n",
       "      <th>3</th>\n",
       "      <td>0.757</td>\n",
       "    </tr>\n",
       "    <tr>\n",
       "      <th>4</th>\n",
       "      <td>0.741</td>\n",
       "    </tr>\n",
       "  </tbody>\n",
       "</table>\n",
       "</div>"
      ],
      "text/plain": [
       "   0.757\n",
       "0  0.723\n",
       "1  0.754\n",
       "2  0.737\n",
       "3  0.757\n",
       "4  0.741"
      ]
     },
     "execution_count": 30,
     "metadata": {},
     "output_type": "execute_result"
    }
   ],
   "source": [
    "df = pd.read_excel(\"19_SCREWS.xls\")\n",
    "df.head()"
   ]
  },
  {
   "cell_type": "code",
   "execution_count": 31,
   "metadata": {},
   "outputs": [
    {
     "name": "stdout",
     "output_type": "stream",
     "text": [
      "Số lượng mẫu: 49\n",
      "Chiều dài trung bình từ mẫu: 0.7466\n",
      "Độ lệch chuẩn của mẫu: 0.0124\n",
      "T-score: -1.9185\n",
      "P-value: 0.0610\n",
      "Không đủ bằng chứng để bác bỏ H0: Chiều dài đinh ốc có thể là 3/4 inches.\n"
     ]
    }
   ],
   "source": [
    "# Thống kê dữ liệu\n",
    "sample_mean = df.iloc[:, 0].mean()\n",
    "sample_std = df.iloc[:, 0].std(ddof=1)\n",
    "n = len(df)\n",
    "\n",
    "# Thông tin kiểm định\n",
    "mu_0 = 0.75  # Chiều dài theo bao bì\n",
    "alpha = 0.05\n",
    "\n",
    "# Tính toán giá trị kiểm định\n",
    "t_score = (sample_mean - mu_0) / (sample_std / math.sqrt(n))\n",
    "p_value = 2 * (1 - st.t.cdf(abs(t_score), df=n-1))  # Kiểm định hai phía\n",
    "\n",
    "# In kết quả\n",
    "print(f\"Số lượng mẫu: {n}\")\n",
    "print(f\"Chiều dài trung bình từ mẫu: {sample_mean:.4f}\")\n",
    "print(f\"Độ lệch chuẩn của mẫu: {sample_std:.4f}\")\n",
    "print(f\"T-score: {t_score:.4f}\")\n",
    "print(f\"P-value: {p_value:.4f}\")\n",
    "\n",
    "# Kết luận\n",
    "if p_value < alpha:\n",
    "    print(\"Bác bỏ H0: Chiều dài đinh ốc khác 3/4 inches.\")\n",
    "else:\n",
    "    print(\"Không đủ bằng chứng để bác bỏ H0: Chiều dài đinh ốc có thể là 3/4 inches.\")"
   ]
  },
  {
   "cell_type": "markdown",
   "metadata": {},
   "source": [
    "### Bài 9\n",
    "\n",
    "Dataset 2 __(BODYTEMP)__ chứa thông tin khảo sát nhiệt độ cơ thể từ một nhóm người vào cùng một thời điểm lúc 12h trưa.\n",
    "\n",
    "Có một phát biểu nói rằng, nhiệt độ cơ thể người đo lúc 12h trưa trong quần thể này là 98,6°\n",
    "\n",
    "Dựa vào mẫu trên, bạn hãy cho biết phát biểu trên đúng hay sai ở mức ý nghĩa là 5%."
   ]
  },
  {
   "cell_type": "code",
   "execution_count": 32,
   "metadata": {},
   "outputs": [
    {
     "data": {
      "text/html": [
       "<div>\n",
       "<style scoped>\n",
       "    .dataframe tbody tr th:only-of-type {\n",
       "        vertical-align: middle;\n",
       "    }\n",
       "\n",
       "    .dataframe tbody tr th {\n",
       "        vertical-align: top;\n",
       "    }\n",
       "\n",
       "    .dataframe thead th {\n",
       "        text-align: right;\n",
       "    }\n",
       "</style>\n",
       "<table border=\"1\" class=\"dataframe\">\n",
       "  <thead>\n",
       "    <tr style=\"text-align: right;\">\n",
       "      <th></th>\n",
       "      <th>98.6</th>\n",
       "    </tr>\n",
       "  </thead>\n",
       "  <tbody>\n",
       "    <tr>\n",
       "      <th>0</th>\n",
       "      <td>98.6</td>\n",
       "    </tr>\n",
       "    <tr>\n",
       "      <th>1</th>\n",
       "      <td>98.0</td>\n",
       "    </tr>\n",
       "    <tr>\n",
       "      <th>2</th>\n",
       "      <td>98.0</td>\n",
       "    </tr>\n",
       "    <tr>\n",
       "      <th>3</th>\n",
       "      <td>99.0</td>\n",
       "    </tr>\n",
       "    <tr>\n",
       "      <th>4</th>\n",
       "      <td>98.4</td>\n",
       "    </tr>\n",
       "  </tbody>\n",
       "</table>\n",
       "</div>"
      ],
      "text/plain": [
       "   98.6\n",
       "0  98.6\n",
       "1  98.0\n",
       "2  98.0\n",
       "3  99.0\n",
       "4  98.4"
      ]
     },
     "execution_count": 32,
     "metadata": {},
     "output_type": "execute_result"
    }
   ],
   "source": [
    "df = pd.read_excel(\"02_BODYTEMP.xls\")\n",
    "df.head()"
   ]
  },
  {
   "cell_type": "code",
   "execution_count": 33,
   "metadata": {},
   "outputs": [
    {
     "name": "stdout",
     "output_type": "stream",
     "text": [
      "Số lượng mẫu: 105\n",
      "Nhiệt độ trung bình mẫu: 98.1962\n",
      "Độ lệch chuẩn mẫu: 0.6246\n",
      "T-statistic: -6.6243\n",
      "P-value: 0.0000\n",
      "Bác bỏ H0: Nhiệt độ cơ thể trung bình khác 98.6°F.\n"
     ]
    }
   ],
   "source": [
    "mu_0 = 98.6  # Nhiệt độ giả thuyết\n",
    "alpha = 0.05  # Mức ý nghĩa\n",
    "\n",
    "temp_values = df.iloc[:, 0]  # Lấy dữ liệu cột nhiệt độ\n",
    "n = len(temp_values)\n",
    "mean_sample = np.mean(temp_values)\n",
    "std_sample = np.std(temp_values, ddof=1)  # Độ lệch chuẩn mẫu\n",
    "\n",
    "# Tính thống kê kiểm định t\n",
    "se = std_sample / np.sqrt(n)\n",
    "t_stat = (mean_sample - mu_0) / se\n",
    "\n",
    "# Tính p-value (kiểm định hai phía)\n",
    "p_value = 2 * (1 - st.t.cdf(abs(t_stat), df=n-1))\n",
    "\n",
    "# In kết quả\n",
    "print(f\"Số lượng mẫu: {n}\")\n",
    "print(f\"Nhiệt độ trung bình mẫu: {mean_sample:.4f}\")\n",
    "print(f\"Độ lệch chuẩn mẫu: {std_sample:.4f}\")\n",
    "print(f\"T-statistic: {t_stat:.4f}\")\n",
    "print(f\"P-value: {p_value:.4f}\")\n",
    "\n",
    "# Kết luận\n",
    "if p_value < alpha:\n",
    "    print(\"Bác bỏ H0: Nhiệt độ cơ thể trung bình khác 98.6°F.\")\n",
    "else:\n",
    "    print(\"Không đủ bằng chứng để bác bỏ H0: Nhiệt độ cơ thể trung bình có thể là 98.6°F.\")"
   ]
  },
  {
   "cell_type": "markdown",
   "metadata": {},
   "source": [
    "### Bài 10\n",
    "\n",
    "Tìm hiểu z_test, t_test trong python"
   ]
  },
  {
   "cell_type": "code",
   "execution_count": 34,
   "metadata": {},
   "outputs": [
    {
     "name": "stdout",
     "output_type": "stream",
     "text": [
      "Z-score: -1.8996\n",
      "P-value: 0.0575\n",
      "Không đủ bằng chứng để bác bỏ H0: Nhiệt độ trung bình có thể là 98.6°F\n"
     ]
    }
   ],
   "source": [
    "from statsmodels.stats.weightstats import ztest\n",
    "\n",
    "# Dữ liệu giả định\n",
    "data = [98.6, 98.6, 98.0, 98.0, 99.0, 98.4, 98.4, 98.4, 98.4, 98.6, 98.6, 98.8, 98.6, 97.0, 97.0, 98.8]\n",
    "\n",
    "# Kiểm định giả thuyết: nhiệt độ trung bình cơ thể là 98.6°F\n",
    "z_score, p_value = ztest(data, value=98.6)\n",
    "\n",
    "print(f\"Z-score: {z_score:.4f}\")\n",
    "print(f\"P-value: {p_value:.4f}\")\n",
    "\n",
    "alpha = 0.05\n",
    "if p_value < alpha:\n",
    "    print(\"Bác bỏ giả thuyết H0: Nhiệt độ trung bình khác 98.6°F\")\n",
    "else:\n",
    "    print(\"Không đủ bằng chứng để bác bỏ H0: Nhiệt độ trung bình có thể là 98.6°F\")"
   ]
  },
  {
   "cell_type": "markdown",
   "metadata": {},
   "source": [
    "---"
   ]
  }
 ],
 "metadata": {
  "kernelspec": {
   "display_name": "Python 3",
   "language": "python",
   "name": "python3"
  },
  "language_info": {
   "codemirror_mode": {
    "name": "ipython",
    "version": 3
   },
   "file_extension": ".py",
   "mimetype": "text/x-python",
   "name": "python",
   "nbconvert_exporter": "python",
   "pygments_lexer": "ipython3",
   "version": "3.11.2"
  }
 },
 "nbformat": 4,
 "nbformat_minor": 2
}
