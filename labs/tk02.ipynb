{
 "cells": [
  {
   "cell_type": "code",
   "execution_count": 2,
   "id": "324d2d7d",
   "metadata": {},
   "outputs": [],
   "source": [
    "import pandas as pd\n",
    "import numpy as np\n",
    "from scipy import stats as stats"
   ]
  },
  {
   "cell_type": "markdown",
   "id": "88916b6c",
   "metadata": {},
   "source": [
    "### Phần  1: (10.0 điểm) - Cột điểm thực hành số 1 Khảo sát độ tuổi của một nhóm  nghiên  cứu dựa vào cột age của dataset trên"
   ]
  },
  {
   "cell_type": "code",
   "execution_count": 3,
   "id": "6f44025f",
   "metadata": {},
   "outputs": [
    {
     "data": {
      "text/html": [
       "<div>\n",
       "<style scoped>\n",
       "    .dataframe tbody tr th:only-of-type {\n",
       "        vertical-align: middle;\n",
       "    }\n",
       "\n",
       "    .dataframe tbody tr th {\n",
       "        vertical-align: top;\n",
       "    }\n",
       "\n",
       "    .dataframe thead th {\n",
       "        text-align: right;\n",
       "    }\n",
       "</style>\n",
       "<table border=\"1\" class=\"dataframe\">\n",
       "  <thead>\n",
       "    <tr style=\"text-align: right;\">\n",
       "      <th></th>\n",
       "      <th>Id</th>\n",
       "      <th>age</th>\n",
       "      <th>bmi</th>\n",
       "    </tr>\n",
       "  </thead>\n",
       "  <tbody>\n",
       "    <tr>\n",
       "      <th>0</th>\n",
       "      <td>1</td>\n",
       "      <td>79</td>\n",
       "      <td>24.72</td>\n",
       "    </tr>\n",
       "    <tr>\n",
       "      <th>1</th>\n",
       "      <td>2</td>\n",
       "      <td>89</td>\n",
       "      <td>25.99</td>\n",
       "    </tr>\n",
       "    <tr>\n",
       "      <th>2</th>\n",
       "      <td>3</td>\n",
       "      <td>70</td>\n",
       "      <td>25.39</td>\n",
       "    </tr>\n",
       "    <tr>\n",
       "      <th>3</th>\n",
       "      <td>4</td>\n",
       "      <td>88</td>\n",
       "      <td>23.22</td>\n",
       "    </tr>\n",
       "    <tr>\n",
       "      <th>4</th>\n",
       "      <td>5</td>\n",
       "      <td>85</td>\n",
       "      <td>24.61</td>\n",
       "    </tr>\n",
       "  </tbody>\n",
       "</table>\n",
       "</div>"
      ],
      "text/plain": [
       "   Id  age    bmi\n",
       "0   1   79  24.72\n",
       "1   2   89  25.99\n",
       "2   3   70  25.39\n",
       "3   4   88  23.22\n",
       "4   5   85  24.61"
      ]
     },
     "execution_count": 3,
     "metadata": {},
     "output_type": "execute_result"
    }
   ],
   "source": [
    "df = pd.read_csv('data/dataset01.csv')\n",
    "\n",
    "df.head()"
   ]
  },
  {
   "cell_type": "markdown",
   "id": "9e71d3e9",
   "metadata": {},
   "source": [
    "- a. Sống thọ là độ tuổi lớn hơn 75 tuổi. Hãy tìm khoảng ước lượng cho tỷ lệ sống thọ với độ tin cậy 90%\n"
   ]
  },
  {
   "cell_type": "code",
   "execution_count": 4,
   "id": "ac11f72f",
   "metadata": {},
   "outputs": [
    {
     "name": "stdout",
     "output_type": "stream",
     "text": [
      "People with age > 75: 8 out of 20\n",
      "Sample proportion: 0.4000 or 40.0%\n",
      "z-value for 90% confidence: 1.6449\n",
      "Margin of error: 0.1802\n",
      "90% Confidence interval: (0.2198, 0.5802)\n",
      "90% Confidence interval percentage: (22.0%, 58.0%)\n"
     ]
    }
   ],
   "source": [
    "# Calculate the proportion of people who live longer than 75 years\n",
    "longevity_count = df[df['age'] > 75].shape[0]\n",
    "total_count = len(df)\n",
    "p_hat = longevity_count / total_count\n",
    "\n",
    "print(f\"People with age > 75: {longevity_count} out of {total_count}\")\n",
    "print(f\"Sample proportion: {p_hat:.4f} or {p_hat*100:.1f}%\")\n",
    "\n",
    "# Calculate the confidence interval with 90% confidence\n",
    "alpha = 0.1  # For 90% confidence\n",
    "z_value = stats.norm.ppf(1 - alpha/2)  # z-value for 90% confidence\n",
    "margin_of_error = z_value * np.sqrt(p_hat * (1 - p_hat) / total_count)\n",
    "\n",
    "lower_bound = p_hat - margin_of_error\n",
    "upper_bound = p_hat + margin_of_error\n",
    "\n",
    "print(f\"z-value for 90% confidence: {z_value:.4f}\")\n",
    "print(f\"Margin of error: {margin_of_error:.4f}\")\n",
    "print(f\"90% Confidence interval: ({lower_bound:.4f}, {upper_bound:.4f})\")\n",
    "print(f\"90% Confidence interval percentage: ({lower_bound*100:.1f}%, {upper_bound*100:.1f}%)\")"
   ]
  },
  {
   "cell_type": "markdown",
   "id": "c7385da4",
   "metadata": {},
   "source": [
    "- b. Tìm  khoảng ước lượng  cho độ tuổi trung  bình  của khảo sát với độ tin cậy 95%"
   ]
  },
  {
   "cell_type": "code",
   "execution_count": 5,
   "id": "ca1207b2",
   "metadata": {},
   "outputs": [
    {
     "name": "stdout",
     "output_type": "stream",
     "text": [
      "t-value for 90% confidence: 1.7291\n",
      "Sample mean: 74.2500\n",
      "Sample standard deviation: 7.1221\n",
      "Margin of error: 2.7537\n",
      "90% Confidence interval: (71.4963, 77.0037)\n"
     ]
    }
   ],
   "source": [
    "n = df.shape[0]\n",
    "mean = df['age'].mean()\n",
    "std = df['age'].std(ddof=1)  # Sample standard deviation\n",
    "\n",
    "t_value = stats.t.ppf(1 - alpha/2, n - 1)  # t-value for 90% confidence\n",
    "margin_of_error = t_value * (std / np.sqrt(n))\n",
    "\n",
    "lower_bound = mean - margin_of_error\n",
    "upper_bound = mean + margin_of_error\n",
    "\n",
    "print(f\"t-value for 90% confidence: {t_value:.4f}\")\n",
    "print(f\"Sample mean: {mean:.4f}\")\n",
    "print(f\"Sample standard deviation: {std:.4f}\")\n",
    "print(f\"Margin of error: {margin_of_error:.4f}\")\n",
    "print(f\"90% Confidence interval: ({lower_bound:.4f}, {upper_bound:.4f})\")"
   ]
  },
  {
   "cell_type": "markdown",
   "id": "1fb455e5",
   "metadata": {},
   "source": [
    "- c. Khảo sát về độ tuổi trung  bình  của nhóm khảo sát trên của tổ chức A và nói rằng:  “Độ tuổi trung  bình  của nhóm  khảo sát là 72 tuổi”.  Ý kiến của tổ chức A có phù hợp với kết quả tính  toán của bạn ở câu b hay  không?\n"
   ]
  },
  {
   "cell_type": "markdown",
   "id": "16f12d19",
   "metadata": {},
   "source": [
    "$$t_0 = \\frac{\\bar{x} - \\mu_0}{\\frac{s}{\\sqrt{n}}} \\approx 00$$"
   ]
  },
  {
   "cell_type": "code",
   "execution_count": null,
   "id": "93d5b057",
   "metadata": {},
   "outputs": [
    {
     "name": "stdout",
     "output_type": "stream",
     "text": [
      "Critical value: -1.4128\n",
      "p-value: 1.8262\n"
     ]
    }
   ],
   "source": [
    "# B1:\n",
    "# H0 : p = 72\n",
    "# H1 : p != 72\n",
    "\n",
    "# B2:\n",
    "# alpha = 0.05\n",
    "\n",
    "# B3:\n",
    "mu = df['age'].mean()\n",
    "critical_value = (72 - mu) / (std / np.sqrt(n))\n",
    "print(f\"Critical value: {critical_value:.4f}\")\n",
    "# t0 = -1.4128\n",
    "\n",
    "# B4:\n",
    "p_value = 2 * stats.t.sf(critical_value, df=n-1).round(4)\n",
    "print(f\"p-value: {p_value:.4f}\") # 1.8262\n",
    "\n",
    "# B5:\n",
    "# Since p-value > alpha, we do not reject H0."
   ]
  },
  {
   "cell_type": "markdown",
   "id": "9bef4a11",
   "metadata": {},
   "source": [
    "- d. Bạn  hãy viết công thức tính  sai số ước lượng  trung  bình mẫu khi lấy mẫu kích thước n người  (n>30)."
   ]
  },
  {
   "cell_type": "code",
   "execution_count": 12,
   "id": "b38cf804",
   "metadata": {},
   "outputs": [
    {
     "name": "stdout",
     "output_type": "stream",
     "text": [
      "Sai số ước lượng trung bình mẫu là: 1.48\n"
     ]
    }
   ],
   "source": [
    "# Ví dụ: độ lệch chuẩn mẫu (s) và kích thước mẫu (n)\n",
    "s = 10.5     # ví dụ độ lệch chuẩn\n",
    "n = 50       # ví dụ kích thước mẫu > 30\n",
    "\n",
    "# Tính sai số chuẩn\n",
    "SE = s / np.sqrt(n)\n",
    "print(f\"Sai số ước lượng trung bình mẫu là: {SE:.2f}\")"
   ]
  },
  {
   "cell_type": "markdown",
   "id": "82a187af",
   "metadata": {},
   "source": [
    "### Phần  2: (10.0 điểm) - Cột điểm thực hành số 2 Vẫn sử dụng dataset trên cho khảo sát"
   ]
  },
  {
   "cell_type": "markdown",
   "id": "60a291e9",
   "metadata": {},
   "source": [
    "- a. Bạn hãy kiểm định giả thuyết  “Tuổi  thọ trung  bình của nhóm  khảo sát thấp hơn 76 tuổi”  với mức ý nghĩa  5% với độ lệch chuẩn của 2.5 tuổi và không biết độ lệch chuẩn của quần thể. "
   ]
  },
  {
   "cell_type": "code",
   "execution_count": null,
   "id": "1d7c4271",
   "metadata": {},
   "outputs": [
    {
     "name": "stdout",
     "output_type": "stream",
     "text": [
      "Mức ý nghĩa α = 0.05\n",
      "Tuổi trung bình của mẫu: 74.2500\n",
      "Giá trị thống kê t: -3.1305\n",
      "p-value: 0.0028\n",
      "Vì p-value = 0.0028 < α = 0.05, nên bác bỏ H₀\n",
      "Kết luận: Có bằng chứng thống kê để khẳng định rằng tuổi thọ trung bình thấp hơn 76 tuổi\n"
     ]
    }
   ],
   "source": [
    "# Thiết lập giả thuyết\n",
    "# H₀: μ ≥ 76 (tuổi thọ trung bình không thấp hơn 76 tuổi)\n",
    "# H₁: μ < 76 (tuổi thọ trung bình thấp hơn 76 tuổi)\n",
    "\n",
    "# Tính tuổi trung bình từ mẫu\n",
    "mean_age = df['age'].mean()\n",
    "\n",
    "# Kích thước mẫu\n",
    "n = len(df)\n",
    "\n",
    "# Độ lệch chuẩn đã cho\n",
    "s = 2.5\n",
    "\n",
    "# Tính giá trị thống kê t\n",
    "t_stat = (mean_age - 76) / (s / np.sqrt(n))\n",
    "\n",
    "# Tính p-value cho kiểm định một phía (bên trái)\n",
    "p_value = stats.t.cdf(t_stat, df=n-1)\n",
    "\n",
    "# In kết quả\n",
    "print(\"Mức ý nghĩa α = 0.05\")\n",
    "print(f\"Tuổi trung bình của mẫu: {mean_age:.4f}\")\n",
    "print(f\"Giá trị thống kê t: {t_stat:.4f}\")\n",
    "print(f\"p-value: {p_value:.4f}\")\n",
    "\n",
    "# Kết luận\n",
    "alpha = 0.05\n",
    "if p_value < alpha:\n",
    "    print(f\"Vì p-value = {p_value:.4f} < α = {alpha}, nên bác bỏ H₀\")\n",
    "    print(\"Kết luận: Có bằng chứng thống kê để khẳng định rằng tuổi thọ trung bình thấp hơn 76 tuổi\")\n",
    "else:\n",
    "    print(f\"Vì p-value = {p_value:.4f} ≥ α = {alpha}, nên không bác bỏ H₀\")\n",
    "    print(\"Kết luận: Không đủ bằng chứng thống kê để khẳng định tuổi thọ trung bình thấp hơn 76 tuổi\")"
   ]
  },
  {
   "cell_type": "markdown",
   "id": "c5d36826",
   "metadata": {},
   "source": [
    "- b. Những người  sống hơn 80 tuổi  là  sống thọ. Có ý kiến cho rằng  “Tỷ lệ sống thọ của nhóm khảo sát là  15%”. Bạn hãy cho biết ý kiến trên có đúng không với mức ý nghĩa \n",
    "10%"
   ]
  },
  {
   "cell_type": "code",
   "execution_count": 14,
   "id": "3939ecb4",
   "metadata": {},
   "outputs": [
    {
     "name": "stdout",
     "output_type": "stream",
     "text": [
      "Số người sống thọ (> 80 tuổi): 3 trong tổng số 20\n",
      "Tỷ lệ mẫu: 0.1500 hay 15.0%\n",
      "Tỷ lệ theo giả thuyết: 0.1500 hay 15.0%\n",
      "Giá trị thống kê z: 0.0000\n",
      "p-value: 1.0000\n",
      "Vì p-value = 1.0000 ≥ α = 0.1, nên không bác bỏ H₀\n",
      "Kết luận: Không đủ bằng chứng thống kê để khẳng định tỷ lệ sống thọ khác 15%\n"
     ]
    }
   ],
   "source": [
    "# Thiết lập giả thuyết\n",
    "# H₀: p = 0.15 (tỷ lệ sống thọ là 15%)\n",
    "# H₁: p ≠ 0.15 (tỷ lệ sống thọ khác 15%)\n",
    "\n",
    "# Tính số người sống thọ (age > 80)\n",
    "longevity_count = df[df['age'] > 80].shape[0]\n",
    "total_count = len(df)\n",
    "p_hat = longevity_count / total_count\n",
    "\n",
    "# Giá trị tỷ lệ theo giả thuyết\n",
    "p0 = 0.15\n",
    "\n",
    "# Tính sai số chuẩn\n",
    "se = np.sqrt(p0 * (1 - p0) / total_count)\n",
    "\n",
    "# Tính giá trị thống kê z\n",
    "z_stat = (p_hat - p0) / se\n",
    "\n",
    "# Tính p-value cho kiểm định hai phía\n",
    "p_value = 2 * min(stats.norm.cdf(z_stat), 1 - stats.norm.cdf(z_stat))\n",
    "\n",
    "# In kết quả\n",
    "alpha = 0.10\n",
    "print(f\"Số người sống thọ (> 80 tuổi): {longevity_count} trong tổng số {total_count}\")\n",
    "print(f\"Tỷ lệ mẫu: {p_hat:.4f} hay {p_hat*100:.1f}%\")\n",
    "print(f\"Tỷ lệ theo giả thuyết: {p0:.4f} hay {p0*100:.1f}%\")\n",
    "print(f\"Giá trị thống kê z: {z_stat:.4f}\")\n",
    "print(f\"p-value: {p_value:.4f}\")\n",
    "\n",
    "# Kết luận\n",
    "if p_value < alpha:\n",
    "    print(f\"Vì p-value = {p_value:.4f} < α = {alpha}, nên bác bỏ H₀\")\n",
    "    print(\"Kết luận: Có bằng chứng thống kê để khẳng định rằng tỷ lệ sống thọ khác 15%\")\n",
    "else:\n",
    "    print(f\"Vì p-value = {p_value:.4f} ≥ α = {alpha}, nên không bác bỏ H₀\")\n",
    "    print(\"Kết luận: Không đủ bằng chứng thống kê để khẳng định tỷ lệ sống thọ khác 15%\")"
   ]
  }
 ],
 "metadata": {
  "kernelspec": {
   "display_name": "Python 3",
   "language": "python",
   "name": "python3"
  },
  "language_info": {
   "codemirror_mode": {
    "name": "ipython",
    "version": 3
   },
   "file_extension": ".py",
   "mimetype": "text/x-python",
   "name": "python",
   "nbconvert_exporter": "python",
   "pygments_lexer": "ipython3",
   "version": "3.12.0"
  }
 },
 "nbformat": 4,
 "nbformat_minor": 5
}
