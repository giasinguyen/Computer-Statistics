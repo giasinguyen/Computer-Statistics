{
  "cells": [
    {
      "cell_type": "markdown",
      "metadata": {
        "id": "ucS7ROCIOpBE"
      },
      "source": [
        "# Kiểm định\n",
        "\n",
        "Thủ tục kiểm định.\n",
        "\n",
        "\n",
        "\n",
        "Gồm các bước như sau:\n",
        "- **B1** Thiết lập giả thuyết, đối thuyết. Kiểm tra điều kiện\n",
        "\n",
        "- **B2** Xác định mức ý nghĩa của kiểm định\n",
        "\n",
        "- **B3** Tính giá trị kiểm định từ mẫu\n",
        "\n",
        "- **B4** Xác định `p-value` hoặc `miền bác  bỏ` (critical region) của kiểm định\n",
        "\n",
        "- **B5** Đưa ra quyết định về giả thuyết vô hiệu. Rút ra kết luận chung\n"
      ]
    },
    {
      "cell_type": "code",
      "execution_count": null,
      "metadata": {
        "id": "PEJN7jnMOpBF"
      },
      "outputs": [],
      "source": [
        "import numpy as np\n",
        "import scipy.stats as st\n",
        "import math"
      ]
    },
    {
      "cell_type": "markdown",
      "metadata": {
        "id": "jWrKIjMROpBG"
      },
      "source": [
        "\n",
        "## VÍ DỤ 1\n",
        "\n",
        "Trọng lượng trung bình khi xuất chuồng ở một trại chăn nuôi trước là 3.3 kg/con. Năm nay người ta sử dụng một loại thức ăn mới, cân thử 15 con khi xuất chuồng ta được các số liệu như sau:\n",
        "   \n",
        "3.25, 2.50, 4.00, 3.75, 3.80,\n",
        "3.90, 4.02, 3.60, 3.80, 3.20,\n",
        "3.82, 3.40, 3.75, 4.00, 3.50\n",
        "    \n",
        "Giả thiết trọng lượng gà là đại lượng ngẫu nhiên phân phối theo quy luật chuẩn.\n",
        "\n",
        "a. Với mức ý nghĩa α = 0.05. Hãy cho kết luận về tác dụng của loại thức ăn này?\n",
        "\n",
        "b. Nếu trại chăn nuôi báo cáo trọng lượng trung bình khi xuất chuồng là 3.5 kg/con thì có chấp nhận được không? (α = 0.05).\n",
        "\n",
        "_Đáp án. (a) t = 3.0534. Thức ăn mới này làm thay đổi trọng lượng gà.\n",
        "(b) t = 1.1409. Trại chăn nuôi báo cáo trọng lượng trung bình khi xuất chuồng là chấp nhận được_\n"
      ]
    },
    {
      "cell_type": "markdown",
      "metadata": {
        "id": "n1LmmwsyOpBG"
      },
      "source": [
        "### Hướng dẫn\n"
      ]
    },
    {
      "cell_type": "code",
      "execution_count": null,
      "metadata": {
        "id": "YZF1xAkpOpBG",
        "outputId": "4d8e6546-a960-4c92-ac47-38d3dcd6ec38"
      },
      "outputs": [
        {
          "name": "stdout",
          "output_type": "stream",
          "text": [
            "- Trung bình mẫu: 3.6193\n",
            "- Độ lệch chuẩn mẫu: 0.405\n"
          ]
        }
      ],
      "source": [
        "# Dữ liệu\n",
        "data = [3.25, 2.50, 4.00, 3.75, 3.80, 3.90, 4.02, 3.60, 3.80, 3.20, 3.82, 3.40, 3.75, 4.00, 3.50]\n",
        "# Tính trung bình mẫu\n",
        "tb = np.mean([3.25, 2.50, 4.00, 3.75, 3.80, 3.90, 4.02, 3.60, 3.80, 3.20, 3.82, 3.40, 3.75, 4.00, 3.50]).round(4)\n",
        "tb = np.mean(data).round(4)\n",
        "dlc = np.std(data, ddof=1).round(4)\n",
        "n = len(data)\n",
        "\n",
        "print(f'- Trung bình mẫu: {tb}')\n",
        "print(f'- Độ lệch chuẩn mẫu: {dlc}')"
      ]
    },
    {
      "cell_type": "markdown",
      "metadata": {
        "id": "cHQQYGxnOpBH"
      },
      "source": [
        "#### Câu a\n",
        "\n",
        "Tóm tắt:\n",
        "- $\\mu_0 = 3.3$\n",
        "- n = 15\n",
        "- $\\alpha = 0.05$\n",
        "- $\\bar{x} = 3.6193$"
      ]
    },
    {
      "cell_type": "markdown",
      "metadata": {
        "id": "EWJRhSv_OpBH"
      },
      "source": [
        "**B1** Xây dựng giả thuyết kiểm định\n",
        "\n",
        "$$H_o: \\mu = 3.3$$\n",
        "\n",
        "$$H_a: \\mu \\neq 3.3$$\n",
        "\n"
      ]
    },
    {
      "cell_type": "markdown",
      "metadata": {
        "id": "oRRHxU0MOpBH"
      },
      "source": [
        "**B2** Mức ý nghĩa của kiểm định $\\alpha = 0.05$"
      ]
    },
    {
      "cell_type": "markdown",
      "metadata": {
        "id": "J_YmZq3wOpBH"
      },
      "source": [
        "**B3** Tính giá trị kiểm định từ mẫu\n",
        "$$t_0 = \\frac{\\bar{x} - \\mu_0}{\\frac{s}{\\sqrt{n}}} \\approx 3.0534$$"
      ]
    },
    {
      "cell_type": "code",
      "execution_count": null,
      "metadata": {
        "id": "Tl_9J4EGOpBH",
        "outputId": "fec8851d-7ac3-4b24-a048-18720d24cbcc"
      },
      "outputs": [
        {
          "name": "stdout",
          "output_type": "stream",
          "text": [
            "- Trị kiểm định:  3.0534\n"
          ]
        }
      ],
      "source": [
        "mu = 3.3\n",
        "\n",
        "trikiemdinh = ((tb - mu) / (dlc / np.sqrt(n))).round(4)\n",
        "print('- Trị kiểm định: ', trikiemdinh)"
      ]
    },
    {
      "cell_type": "markdown",
      "metadata": {
        "id": "ircL-jRBOpBH"
      },
      "source": [
        "**B4** Xác định `p-value` hoặc `miền bác  bỏ` (critical region) của kiểm định\n",
        "\n",
        "- Trường hợp xác định miền bác bỏ\n",
        "\n",
        "$$\\{ t: |t| > t^{n-1}_{\\alpha/2} \\}$$\n",
        "\n",
        "$$\\{ t: |t| > 2.1448 \\}$$"
      ]
    },
    {
      "cell_type": "code",
      "execution_count": null,
      "metadata": {
        "id": "NpIVEOjaOpBH",
        "outputId": "7dfe9a8c-b2f2-4140-a8d5-4f9783dc2dd6"
      },
      "outputs": [
        {
          "data": {
            "text/plain": [
              "2.1448"
            ]
          },
          "execution_count": 19,
          "metadata": {},
          "output_type": "execute_result"
        }
      ],
      "source": [
        "# Tính giá trị tới hạn để xác định miền bác bỏ\n",
        "alpha = 0.05\n",
        "st.t.isf(alpha/2, n-1).round(4)"
      ]
    },
    {
      "cell_type": "markdown",
      "metadata": {
        "id": "-5VE3SuJOpBI"
      },
      "source": [
        "- Trường hợp xác định p_value"
      ]
    },
    {
      "cell_type": "code",
      "execution_count": null,
      "metadata": {
        "id": "6nX0V2e5OpBI",
        "outputId": "8eeb377b-9fa5-4638-d044-e3eed100dbe6"
      },
      "outputs": [
        {
          "data": {
            "text/plain": [
              "0.0086"
            ]
          },
          "execution_count": 20,
          "metadata": {},
          "output_type": "execute_result"
        }
      ],
      "source": [
        "p_value = 2 * st.t.sf(trikiemdinh, df=n-1).round(4)\n",
        "\n",
        "# OR\n",
        "# p_value = st.t.cdf(-trikiemdinh, df=n-1).round(4) + st.t.sf(trikiemdinh, df=n-1).round(4)\n",
        "\n",
        "p_value"
      ]
    },
    {
      "cell_type": "markdown",
      "metadata": {
        "id": "jE5h1m1sOpBI"
      },
      "source": [
        "**B5** Đưa ra quyết định về giả thuyết vô hiệu. Rút ra kết luận chung Kết luận\n",
        "\n",
        "- Bác bỏ giả thuyết $H_0$ (vì trị kiểm định thuộc miền bác bỏ HOẶC p-value < $\\alpha$)\n",
        "- Vậy thức ăn mới làm thay đổi trọng lượng của gà."
      ]
    },
    {
      "cell_type": "markdown",
      "metadata": {
        "id": "tCSuZHswOpBI"
      },
      "source": [
        "#### Câu b (Sử dụng Critical region)\n",
        "\n",
        "Nếu trại báo cáo trọng lượng gà sau khi xuất chuồng là 3.5 kg/con\n",
        "- $\\mu_0 = 3.5$\n",
        "\n",
        "Ta đặt lại giả thuyết"
      ]
    },
    {
      "cell_type": "markdown",
      "metadata": {
        "id": "Obe7E7l9OpBI"
      },
      "source": [
        "**B1** Thiết lập giả thuyết, đối thuyết. Kiểm tra điều kiện\n",
        "\n",
        "$$H_o: \\mu = 3.5$$\n",
        "\n",
        "$$H_a: \\mu \\neq 3.5$$\n"
      ]
    },
    {
      "cell_type": "markdown",
      "metadata": {
        "id": "vv-Rit1FOpBI"
      },
      "source": [
        "**B2** Xác định mức ý nghĩa của kiểm định $\\alpha=0.05$"
      ]
    },
    {
      "cell_type": "markdown",
      "metadata": {
        "id": "VMqJMNSmOpBI"
      },
      "source": [
        "**B3** Tính trị kiểm định\n",
        "\n",
        "$$t_0 = \\frac{\\bar{x} - \\mu_0}{\\frac{s}{\\sqrt{n}}} \\approx 1.1409$$\n",
        "\n"
      ]
    },
    {
      "cell_type": "code",
      "execution_count": null,
      "metadata": {
        "id": "R6AUsg80OpBI",
        "outputId": "50e6182d-40b9-4ddb-b11f-418d6bf21106"
      },
      "outputs": [
        {
          "name": "stdout",
          "output_type": "stream",
          "text": [
            "- Trị kiểm định:  1.1409\n"
          ]
        }
      ],
      "source": [
        "mu = 3.5\n",
        "\n",
        "trikiemdinh = ((tb - mu) / (dlc / np.sqrt(n))).round(4)\n",
        "print('- Trị kiểm định: ', trikiemdinh)"
      ]
    },
    {
      "cell_type": "markdown",
      "metadata": {
        "id": "aRY0xdWrOpBI"
      },
      "source": [
        "**B4** Xác định `miền bác  bỏ` (critical region) của kiểm định\n",
        "\n",
        "Mức ý nghĩa vẫn như cũ nên miền bác bỏ không thay đổi\n",
        "$$\\{ t: |t| > t^{n-1}_{\\alpha/2} \\}$$\n",
        "\n",
        "hay\n",
        "\n",
        "$$\\{ t: |t| > 1.7613 \\}$$\n",
        "\n"
      ]
    },
    {
      "cell_type": "code",
      "execution_count": null,
      "metadata": {
        "id": "LmW4tvlUOpBJ",
        "outputId": "70d1abc9-22e2-4056-b0e5-1ade04a3c8fa"
      },
      "outputs": [
        {
          "data": {
            "text/plain": [
              "1.7613"
            ]
          },
          "execution_count": 22,
          "metadata": {},
          "output_type": "execute_result"
        }
      ],
      "source": [
        "# Tính giá trị tới hạn để xác định miền bác bỏ\n",
        "alpha = 0.05\n",
        "n = 15\n",
        "st.t.isf(alpha, n-1).round(4)"
      ]
    },
    {
      "cell_type": "markdown",
      "metadata": {
        "id": "LO-wnxI1OpBJ"
      },
      "source": [
        "Nhận xét: trị kiểm định không thuộc miền bác bỏ"
      ]
    },
    {
      "cell_type": "markdown",
      "metadata": {
        "id": "QRNGoxGkOpBJ"
      },
      "source": [
        "**B5** Đưa ra quyết định về giả thuyết vô hiệu. Rút ra kết luận chung\n",
        "\n",
        "- Chưa đủ cơ sở để bác bỏ giả thuyết $H_0$\n",
        "- Vậy báo cáo trên có thể chấp nhận được.\n",
        "\n",
        "---"
      ]
    },
    {
      "cell_type": "markdown",
      "metadata": {
        "id": "OjzeSRC-OpBJ"
      },
      "source": [
        "\n",
        "## VÍ DỤ 2\n",
        "\n",
        "Tỷ lệ phế phẩm của một nhà máy trước đây là 5%. Năm nay nhà máy áp dụng một biện pháp kỹ thuật mới. Để nghiên cứu tác dụng của biện pháp kỹ thuật mới, người ta lấy một mẫu gồm 800 sản phẩm để kiểm tra và thấy có 24 phế phẩm.\n",
        "    \n",
        "a. Với α = 0.01. Hãy cho kết luận về biện pháp kỹ thuật mới này?\n",
        "    \n",
        "b. Nếu nhà máy báo cáo tỷ lệ phế phẩm sau khi áp dụng biện pháp kỹ thuật mới là 2% thì có chấp nhận được không? (α = 0.01).\n",
        "    \n",
        "_Đáp án. (a) z = −2.5955. Biện pháp kĩ thuật mới làm thay đổi tỉ lệ phế phẩm (b) z = 2.0203. Nhà máy báo cáo tỷ lệ phế phẩm là chấp nhận được._"
      ]
    },
    {
      "cell_type": "markdown",
      "metadata": {
        "id": "1lVODCDGOpBJ"
      },
      "source": [
        "### Hướng dẫn\n"
      ]
    },
    {
      "cell_type": "markdown",
      "metadata": {
        "id": "3bKJONX2OpBJ"
      },
      "source": [
        "#### Câu a\n",
        "\n",
        "Tóm tắt:\n",
        "- $p_0 = 0.05$\n",
        "- n = 800\n",
        "- f = 24/800 = 0.03     (tỉ lệ mẫu)\n",
        "- $\\alpha = 0.01$"
      ]
    },
    {
      "cell_type": "markdown",
      "metadata": {
        "id": "Yeaesp6cOpBJ"
      },
      "source": [
        "**B1** Xây dựng giả thuyết kiểm định\n",
        "\n",
        "$$H_o: p = 0.05$$\n",
        "\n",
        "$$H_a: p \\neq 0.05$$\n",
        "\n",
        "Kiểm tra điều kiện thực hiện kiểm định:\n",
        "- $n p_0 \\ge 5$ và\n",
        "- $nq_0 \\ge 5$ (thỏa)\n",
        "\n"
      ]
    },
    {
      "cell_type": "markdown",
      "metadata": {
        "id": "QSIJlo9BOpBJ"
      },
      "source": [
        "**B2** Mức ý nghĩa của kiểm định $\\alpha=0.05$"
      ]
    },
    {
      "cell_type": "code",
      "execution_count": null,
      "metadata": {
        "id": "iq6ZqsXZOpBK",
        "outputId": "18bf896f-7dc1-452a-a562-2c46eac11be4"
      },
      "outputs": [
        {
          "data": {
            "text/plain": [
              "2.5758"
            ]
          },
          "execution_count": 23,
          "metadata": {},
          "output_type": "execute_result"
        }
      ],
      "source": [
        "# Tính giá trị tới hạn để xác định miền bác bỏ\n",
        "alpha = 0.01\n",
        "st.norm.isf(alpha/2).round(4)"
      ]
    },
    {
      "cell_type": "markdown",
      "metadata": {
        "id": "ZVUchPoOOpBK"
      },
      "source": [
        "**B3** Tính trị kiểm định\n",
        "\n",
        "$$z_0 = \\frac{f - p_0}{\\sqrt{\\frac{p_0*(1 - p_0)}{n}}} \\approx -2.5955$$\n",
        "\n"
      ]
    },
    {
      "cell_type": "code",
      "execution_count": null,
      "metadata": {
        "id": "Fszr5yTnOpBK",
        "outputId": "51a4f3c6-b8ae-4b8e-cad9-ad08f359e511"
      },
      "outputs": [
        {
          "name": "stdout",
          "output_type": "stream",
          "text": [
            "- Trị kiểm định:  -2.5955\n"
          ]
        }
      ],
      "source": [
        "p0 = 0.05\n",
        "f = 0.03\n",
        "n = 800\n",
        "\n",
        "trikiemdinh = ((f - p0) / np.sqrt((p0*(1-p0))/n)).round(4)\n",
        "print('- Trị kiểm định: ', trikiemdinh)"
      ]
    },
    {
      "cell_type": "markdown",
      "metadata": {
        "id": "Cz08Qj0jOpBK"
      },
      "source": [
        "**B4** Xác định `p-value`\n",
        "\n",
        "$$p-value = 2 * (1 - \\Phi(|z|))$$\n",
        "\n",
        "$$p-value = 2 * (1 - \\Phi(|z|))$$"
      ]
    },
    {
      "cell_type": "code",
      "execution_count": null,
      "metadata": {
        "id": "8XREbmwGOpBK",
        "outputId": "ea203356-53c8-488c-dc6b-10a053bb2fff"
      },
      "outputs": [
        {
          "data": {
            "text/plain": [
              "0.0094"
            ]
          },
          "execution_count": 25,
          "metadata": {},
          "output_type": "execute_result"
        }
      ],
      "source": [
        "p_value = 2 * (1 - st.norm.cdf(abs(trikiemdinh))).round(4)\n",
        "p_value"
      ]
    },
    {
      "cell_type": "markdown",
      "metadata": {
        "id": "hZU6l2abOpBL"
      },
      "source": [
        "**B4** Kết luận\n",
        "\n",
        "- Bác bỏ giả thuyết $H_0$, chấp nhận giả thuyết $H_a$ ( $p-value < \\alpha$ )\n",
        "- Biện pháp kỹ thuật mới làm thay đổi tỷ lệ phế phẩm"
      ]
    },
    {
      "cell_type": "markdown",
      "metadata": {
        "id": "a8tBjCybOpBL"
      },
      "source": [
        "#### Câu b\n",
        "\n",
        "Tóm tắt:\n",
        "- $p_0 = 0.02$"
      ]
    },
    {
      "cell_type": "markdown",
      "metadata": {
        "id": "gTbUNq4ZOpBL"
      },
      "source": [
        "**B1** Thiết lập giả thuyết, đối thuyết. Kiểm tra điều kiện\n",
        "\n",
        "$$H_o: p = 0.02$$\n",
        "\n",
        "$$H_a: p \\neq 0.02$$\n",
        "\n",
        "Kiểm tra điều kiện thực hiện kiểm định:\n",
        "- $n p_0 \\ge 5$ và\n",
        "- $nq_0 \\ge 5$ (thỏa)\n",
        "\n"
      ]
    },
    {
      "cell_type": "markdown",
      "metadata": {
        "id": "j1-gubvTOpBL"
      },
      "source": [
        "**B2** Xác định mức ý nghĩa của kiểm định $\\alpha = 0.05$\n",
        "\n"
      ]
    },
    {
      "cell_type": "markdown",
      "metadata": {
        "id": "EMMkq7aUOpBL"
      },
      "source": [
        "**B3** Tính trị kiểm định\n",
        "\n",
        "$$z_0 = \\frac{f - p_0}{\\sqrt{\\frac{p_0*(1 - p_0)}{n}}} \\approx 2.0203$$\n",
        "\n"
      ]
    },
    {
      "cell_type": "code",
      "execution_count": null,
      "metadata": {
        "id": "EQRaxGrhOpBL",
        "outputId": "80629188-ba5f-45d7-9e0e-a222b41aa436"
      },
      "outputs": [
        {
          "name": "stdout",
          "output_type": "stream",
          "text": [
            "- Trị kiểm định:  2.0203\n"
          ]
        }
      ],
      "source": [
        "p0 = 0.02\n",
        "f = 0.03\n",
        "n = 800\n",
        "\n",
        "trikiemdinh = ((f - p0) / np.sqrt((p0*(1-p0))/n)).round(4)\n",
        "print('- Trị kiểm định: ', trikiemdinh)"
      ]
    },
    {
      "cell_type": "markdown",
      "metadata": {
        "id": "7D-FX08jOpBM"
      },
      "source": [
        "**B4** Xác định miền bác bỏ\n",
        "\n",
        "Mức ý nghĩa vẫn như cũ nên miền bác bỏ không thay đổi\n",
        "\n",
        "$$\\{ z: |z| > z_{\\alpha/2} \\}$$\n",
        "\n",
        "hay\n",
        "\n",
        "$$\\{ z: |z| > 2.5758 \\}$$"
      ]
    },
    {
      "cell_type": "code",
      "execution_count": null,
      "metadata": {
        "id": "a4dduaZUOpBM",
        "outputId": "931ead1a-8e06-4137-f425-c74102f4c514"
      },
      "outputs": [
        {
          "data": {
            "text/plain": [
              "2.5758"
            ]
          },
          "execution_count": 27,
          "metadata": {},
          "output_type": "execute_result"
        }
      ],
      "source": [
        "# Tính giá trị tới hạn để xác định miền bác bỏ\n",
        "alpha = 0.01\n",
        "st.norm.isf(alpha/2).round(4)"
      ]
    },
    {
      "cell_type": "markdown",
      "metadata": {
        "id": "xNU3NaHZOpBM"
      },
      "source": [
        "**B5** Kết luận\n",
        "\n",
        "- Không thể bác bỏ giả thuyết $H_0$\n",
        "- Có thể chấp nhận báo cáo của nhà máy\n",
        "\n",
        "---"
      ]
    }
  ],
  "metadata": {
    "kernelspec": {
      "display_name": "envTKUD",
      "language": "python",
      "name": "python3"
    },
    "language_info": {
      "codemirror_mode": {
        "name": "ipython",
        "version": 3
      },
      "file_extension": ".py",
      "mimetype": "text/x-python",
      "name": "python",
      "nbconvert_exporter": "python",
      "pygments_lexer": "ipython3",
      "version": "3.12.5"
    },
    "colab": {
      "provenance": []
    }
  },
  "nbformat": 4,
  "nbformat_minor": 0
}